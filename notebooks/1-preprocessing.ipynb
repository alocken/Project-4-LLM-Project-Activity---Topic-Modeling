{
  "cells": [
    {
      "cell_type": "markdown",
      "source": [
        " **Project 4: LLM Project Activity - Topic Modeling**"
      ],
      "metadata": {
        "id": "tp5wDsvvj9LM"
      }
    },
    {
      "cell_type": "markdown",
      "source": [
        "### **Week 22** Project 4: 1-Preprocessing\n",
        "* Choose the project topic you will work on throughout this course and brainstorm for project ideas. (9.1)\n",
        "* Configure the project workspace and access the dataset specific to the project topic. (9.2)"
      ],
      "metadata": {
        "id": "7OtzIQ9Xj_dD"
      }
    },
    {
      "cell_type": "code",
      "execution_count": 1,
      "metadata": {
        "id": "LVwC0s9wjxse"
      },
      "outputs": [],
      "source": [
        "from datasets import load_dataset"
      ]
    }
  ],
  "metadata": {
    "language_info": {
      "name": "python"
    },
    "orig_nbformat": 4,
    "colab": {
      "provenance": []
    },
    "kernelspec": {
      "name": "python3",
      "display_name": "Python 3"
    }
  },
  "nbformat": 4,
  "nbformat_minor": 0
}