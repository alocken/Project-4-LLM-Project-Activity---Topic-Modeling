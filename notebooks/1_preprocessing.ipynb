{
  "nbformat": 4,
  "nbformat_minor": 0,
  "metadata": {
    "colab": {
      "provenance": []
    },
    "kernelspec": {
      "name": "python3",
      "display_name": "Python 3"
    },
    "language_info": {
      "name": "python"
    }
  },
  "cells": [
    {
      "cell_type": "markdown",
      "source": [
        "# **Project 4: LLM Project Activity - Topic Modeling**\n",
        "### **Week 22** 1-Preprocessing\n",
        "\n",
        "\n"
      ],
      "metadata": {
        "id": "1cbmHPmWsqhB"
      }
    },
    {
      "cell_type": "markdown",
      "source": [
        "Choose the project topic and brainstorm for project ideas. (9.1)\n",
        "\n",
        "**Project Topic:** Topic Modeling - develop a Topic Modeling tool that aims to automatically identify and extract underlying topics or themes from large collections of text documents.\n",
        "\n",
        "**Theme:** Topic Modeling on 'various articles'\n"
      ],
      "metadata": {
        "id": "kYPgHnUd2xXd"
      }
    },
    {
      "cell_type": "markdown",
      "source": [
        "Configure the project workspace and access the dataset specific to the project topic. (9.2)\n",
        "\n",
        "- Set up Google Colab to develop my project and familiarized with steps/instructions for loading file and mounting files from Google Drive.\n",
        "- Located and loaded dataset for project"
      ],
      "metadata": {
        "id": "y78lBq5s2tgP"
      }
    },
    {
      "cell_type": "markdown",
      "source": [
        "**Loading the dataset**"
      ],
      "metadata": {
        "id": "e_2Ve3944zHi"
      }
    },
    {
      "cell_type": "code",
      "execution_count": null,
      "metadata": {
        "id": "zF5q_a3-kDKG"
      },
      "outputs": [],
      "source": [
        "from datasets import load_dataset"
      ]
    },
    {
      "cell_type": "code",
      "source": [
        "!pip install -U fsspec datasets"
      ],
      "metadata": {
        "colab": {
          "base_uri": "https://localhost:8080/"
        },
        "id": "PdufSfMPnf0J",
        "outputId": "8bc8c26e-e7ba-49d3-c809-cd708fa3bfc0"
      },
      "execution_count": null,
      "outputs": [
        {
          "output_type": "stream",
          "name": "stdout",
          "text": [
            "Requirement already satisfied: fsspec in /usr/local/lib/python3.11/dist-packages (2025.3.0)\n",
            "Collecting fsspec\n",
            "  Using cached fsspec-2025.5.1-py3-none-any.whl.metadata (11 kB)\n",
            "Requirement already satisfied: datasets in /usr/local/lib/python3.11/dist-packages (3.6.0)\n",
            "Requirement already satisfied: filelock in /usr/local/lib/python3.11/dist-packages (from datasets) (3.18.0)\n",
            "Requirement already satisfied: numpy>=1.17 in /usr/local/lib/python3.11/dist-packages (from datasets) (2.0.2)\n",
            "Requirement already satisfied: pyarrow>=15.0.0 in /usr/local/lib/python3.11/dist-packages (from datasets) (18.1.0)\n",
            "Requirement already satisfied: dill<0.3.9,>=0.3.0 in /usr/local/lib/python3.11/dist-packages (from datasets) (0.3.7)\n",
            "Requirement already satisfied: pandas in /usr/local/lib/python3.11/dist-packages (from datasets) (2.2.2)\n",
            "Requirement already satisfied: requests>=2.32.2 in /usr/local/lib/python3.11/dist-packages (from datasets) (2.32.3)\n",
            "Requirement already satisfied: tqdm>=4.66.3 in /usr/local/lib/python3.11/dist-packages (from datasets) (4.67.1)\n",
            "Requirement already satisfied: xxhash in /usr/local/lib/python3.11/dist-packages (from datasets) (3.5.0)\n",
            "Requirement already satisfied: multiprocess<0.70.17 in /usr/local/lib/python3.11/dist-packages (from datasets) (0.70.15)\n",
            "Requirement already satisfied: huggingface-hub>=0.24.0 in /usr/local/lib/python3.11/dist-packages (from datasets) (0.33.1)\n",
            "Requirement already satisfied: packaging in /usr/local/lib/python3.11/dist-packages (from datasets) (24.2)\n",
            "Requirement already satisfied: pyyaml>=5.1 in /usr/local/lib/python3.11/dist-packages (from datasets) (6.0.2)\n",
            "Requirement already satisfied: aiohttp!=4.0.0a0,!=4.0.0a1 in /usr/local/lib/python3.11/dist-packages (from fsspec[http]<=2025.3.0,>=2023.1.0->datasets) (3.11.15)\n",
            "Requirement already satisfied: typing-extensions>=3.7.4.3 in /usr/local/lib/python3.11/dist-packages (from huggingface-hub>=0.24.0->datasets) (4.14.0)\n",
            "Requirement already satisfied: hf-xet<2.0.0,>=1.1.2 in /usr/local/lib/python3.11/dist-packages (from huggingface-hub>=0.24.0->datasets) (1.1.5)\n",
            "Requirement already satisfied: charset-normalizer<4,>=2 in /usr/local/lib/python3.11/dist-packages (from requests>=2.32.2->datasets) (3.4.2)\n",
            "Requirement already satisfied: idna<4,>=2.5 in /usr/local/lib/python3.11/dist-packages (from requests>=2.32.2->datasets) (3.10)\n",
            "Requirement already satisfied: urllib3<3,>=1.21.1 in /usr/local/lib/python3.11/dist-packages (from requests>=2.32.2->datasets) (2.4.0)\n",
            "Requirement already satisfied: certifi>=2017.4.17 in /usr/local/lib/python3.11/dist-packages (from requests>=2.32.2->datasets) (2025.6.15)\n",
            "Requirement already satisfied: python-dateutil>=2.8.2 in /usr/local/lib/python3.11/dist-packages (from pandas->datasets) (2.9.0.post0)\n",
            "Requirement already satisfied: pytz>=2020.1 in /usr/local/lib/python3.11/dist-packages (from pandas->datasets) (2025.2)\n",
            "Requirement already satisfied: tzdata>=2022.7 in /usr/local/lib/python3.11/dist-packages (from pandas->datasets) (2025.2)\n",
            "Requirement already satisfied: aiohappyeyeballs>=2.3.0 in /usr/local/lib/python3.11/dist-packages (from aiohttp!=4.0.0a0,!=4.0.0a1->fsspec[http]<=2025.3.0,>=2023.1.0->datasets) (2.6.1)\n",
            "Requirement already satisfied: aiosignal>=1.1.2 in /usr/local/lib/python3.11/dist-packages (from aiohttp!=4.0.0a0,!=4.0.0a1->fsspec[http]<=2025.3.0,>=2023.1.0->datasets) (1.3.2)\n",
            "Requirement already satisfied: attrs>=17.3.0 in /usr/local/lib/python3.11/dist-packages (from aiohttp!=4.0.0a0,!=4.0.0a1->fsspec[http]<=2025.3.0,>=2023.1.0->datasets) (25.3.0)\n",
            "Requirement already satisfied: frozenlist>=1.1.1 in /usr/local/lib/python3.11/dist-packages (from aiohttp!=4.0.0a0,!=4.0.0a1->fsspec[http]<=2025.3.0,>=2023.1.0->datasets) (1.7.0)\n",
            "Requirement already satisfied: multidict<7.0,>=4.5 in /usr/local/lib/python3.11/dist-packages (from aiohttp!=4.0.0a0,!=4.0.0a1->fsspec[http]<=2025.3.0,>=2023.1.0->datasets) (6.6.3)\n",
            "Requirement already satisfied: propcache>=0.2.0 in /usr/local/lib/python3.11/dist-packages (from aiohttp!=4.0.0a0,!=4.0.0a1->fsspec[http]<=2025.3.0,>=2023.1.0->datasets) (0.3.2)\n",
            "Requirement already satisfied: yarl<2.0,>=1.17.0 in /usr/local/lib/python3.11/dist-packages (from aiohttp!=4.0.0a0,!=4.0.0a1->fsspec[http]<=2025.3.0,>=2023.1.0->datasets) (1.20.1)\n",
            "Requirement already satisfied: six>=1.5 in /usr/local/lib/python3.11/dist-packages (from python-dateutil>=2.8.2->pandas->datasets) (1.17.0)\n"
          ]
        }
      ]
    },
    {
      "cell_type": "code",
      "source": [
        "#Topic Modeling dataset load\n",
        "ds = load_dataset('SetFit/20_newsgroups')"
      ],
      "metadata": {
        "colab": {
          "base_uri": "https://localhost:8080/",
          "height": 336,
          "referenced_widgets": [
            "2b23e3dc28aa4b6eb3c94a0e04ecf8bc",
            "b861188ca0084926900a1c245d4dabd5",
            "6d3b54e49c3b4286a7eb77af49aa5ade",
            "212f6f628a4747a7bde17a5782c87d52",
            "f77ff7e1d1bc474d83af1daab299dbe3",
            "22921d37eae04681be68e6e17e52070b",
            "206e9b059f4949e3be1ae4830ccd4d43",
            "368c08992f22484486718daecc38d260",
            "d753372026ce4d3e88afe9f89eb683f7",
            "77952d66c23349fdacfc3c717f51055e",
            "3f8f093af73a4f0b90080aa2c48d038a",
            "226030f6da044b929042bb23c410b954",
            "ebb76019a9694099930c2b301f703f3a",
            "0adc69628e834d50bd29c9bb9e42555d",
            "ffad607f31cd4ddf8337a49651c4fd12",
            "67b3edd87aeb455b873f6ea820d6c9f4",
            "8804d5a878e7427e88993eb4eb7ffe24",
            "84de24a06d2742f4b91113b68bc9397d",
            "ec4a2ab8c2954c90bd8fe1761c3d8b7e",
            "941ee07601f2462bade3738e6b1d87d3",
            "ff921f84060a48298339ccb4900b5511",
            "786ab02483bb45d2b7f7bcfe85421252",
            "6728affca26e49a39676df86ab8cc1c7",
            "9c510b604f3a46d08b0ce615c3d1a025",
            "a85582a00d2042a6a42e0c27196665b5",
            "375f5416e340404682bb597add0f0930",
            "8a7669d5dfeb4319841efa75b95a97de",
            "b4f8d3e95c3d4674b6b7f0515779a499",
            "024c5a526ce4450eaac432a5c57d62c9",
            "9fc16e7f1bb74acf8fbf6d5a67331258",
            "0e25d9cedce34ba28c1be6674e85a8a1",
            "47d0de31387d4314859ac216b3952297",
            "9e41dc1b8f704bebb420514a6698ba50",
            "12e4e7854dcf4e44b632a7419718aac0",
            "47990572380f450ea3d3c2bb28e37ec7",
            "e742cad0afe34f228ab0c1ea79c38ee7",
            "2fe0cf18392c4079b343a78f2671e00f",
            "d8ef652d1810448c8d6d2ff179632fef",
            "ce038f27f8364f95989c8045157bf4c2",
            "9848d9c12f1a45728458ce1e520fc79a",
            "97ab1d0eba894b9197e0155d2d555c55",
            "80fede730c23436c97adcb1a83e7b96f",
            "cfa384fea7ad435a9c8af79cc436e9da",
            "7f327fe838774f7d9677b786e932c351",
            "76d70d52f32446dca30aa871d50443e3",
            "a64a31818a904c8c9f9cccdf43df3f17",
            "6eac9d9373a14217936bd0f9562266b8",
            "adfa1be2de0a4c26a8384889b7b040ef",
            "33a6c64f681a453cb21aacbd63823fe6",
            "8b5298e165dc4491a153185940d7bbd0",
            "f2e6e3fef9914641a94ae2c36f842ff0",
            "956395b3e23c4437b476f7b656264901",
            "a493af03996c4ba1b3058b9e1c1ff998",
            "34c9c230ffd64a78a80f5f8db0ad52d2",
            "421972ea18d24090b1004eacd27138a3"
          ]
        },
        "id": "l0rUuMSQnqSu",
        "outputId": "af8a16d1-1d8d-4321-82e2-72d778a4f912"
      },
      "execution_count": null,
      "outputs": [
        {
          "output_type": "stream",
          "name": "stderr",
          "text": [
            "/usr/local/lib/python3.11/dist-packages/huggingface_hub/utils/_auth.py:94: UserWarning: \n",
            "The secret `HF_TOKEN` does not exist in your Colab secrets.\n",
            "To authenticate with the Hugging Face Hub, create a token in your settings tab (https://huggingface.co/settings/tokens), set it as secret in your Google Colab and restart your session.\n",
            "You will be able to reuse this secret in all of your notebooks.\n",
            "Please note that authentication is recommended but still optional to access public models or datasets.\n",
            "  warnings.warn(\n"
          ]
        },
        {
          "output_type": "display_data",
          "data": {
            "text/plain": [
              "README.md:   0%|          | 0.00/734 [00:00<?, ?B/s]"
            ],
            "application/vnd.jupyter.widget-view+json": {
              "version_major": 2,
              "version_minor": 0,
              "model_id": "2b23e3dc28aa4b6eb3c94a0e04ecf8bc"
            }
          },
          "metadata": {}
        },
        {
          "output_type": "stream",
          "name": "stderr",
          "text": [
            "Repo card metadata block was not found. Setting CardData to empty.\n",
            "WARNING:huggingface_hub.repocard:Repo card metadata block was not found. Setting CardData to empty.\n"
          ]
        },
        {
          "output_type": "display_data",
          "data": {
            "text/plain": [
              "train.jsonl:   0%|          | 0.00/14.8M [00:00<?, ?B/s]"
            ],
            "application/vnd.jupyter.widget-view+json": {
              "version_major": 2,
              "version_minor": 0,
              "model_id": "226030f6da044b929042bb23c410b954"
            }
          },
          "metadata": {}
        },
        {
          "output_type": "display_data",
          "data": {
            "text/plain": [
              "test.jsonl:   0%|          | 0.00/8.91M [00:00<?, ?B/s]"
            ],
            "application/vnd.jupyter.widget-view+json": {
              "version_major": 2,
              "version_minor": 0,
              "model_id": "6728affca26e49a39676df86ab8cc1c7"
            }
          },
          "metadata": {}
        },
        {
          "output_type": "display_data",
          "data": {
            "text/plain": [
              "Generating train split:   0%|          | 0/11314 [00:00<?, ? examples/s]"
            ],
            "application/vnd.jupyter.widget-view+json": {
              "version_major": 2,
              "version_minor": 0,
              "model_id": "12e4e7854dcf4e44b632a7419718aac0"
            }
          },
          "metadata": {}
        },
        {
          "output_type": "display_data",
          "data": {
            "text/plain": [
              "Generating test split:   0%|          | 0/7532 [00:00<?, ? examples/s]"
            ],
            "application/vnd.jupyter.widget-view+json": {
              "version_major": 2,
              "version_minor": 0,
              "model_id": "76d70d52f32446dca30aa871d50443e3"
            }
          },
          "metadata": {}
        }
      ]
    },
    {
      "cell_type": "markdown",
      "source": [
        "**Using the Dataset**"
      ],
      "metadata": {
        "id": "AGPMjFpz4vVV"
      }
    },
    {
      "cell_type": "code",
      "source": [
        "#Available splits for data set\n",
        "ds"
      ],
      "metadata": {
        "colab": {
          "base_uri": "https://localhost:8080/"
        },
        "id": "Bi8rmDy6scqa",
        "outputId": "a3cae859-7987-462a-8dee-c9f86df28563"
      },
      "execution_count": null,
      "outputs": [
        {
          "output_type": "execute_result",
          "data": {
            "text/plain": [
              "DatasetDict({\n",
              "    train: Dataset({\n",
              "        features: ['text', 'label', 'label_text'],\n",
              "        num_rows: 11314\n",
              "    })\n",
              "    test: Dataset({\n",
              "        features: ['text', 'label', 'label_text'],\n",
              "        num_rows: 7532\n",
              "    })\n",
              "})"
            ]
          },
          "metadata": {},
          "execution_count": 5
        }
      ]
    },
    {
      "cell_type": "markdown",
      "source": [
        "Two splits are available: Train and Test. Number of rows contained in each split indicated."
      ],
      "metadata": {
        "id": "8I17FEtJ5FYJ"
      }
    },
    {
      "cell_type": "code",
      "source": [
        "#First row example - Train\n",
        "ds['train'][0]"
      ],
      "metadata": {
        "colab": {
          "base_uri": "https://localhost:8080/"
        },
        "id": "9D57_rI3okNT",
        "outputId": "8aa51517-68a3-4e24-d40a-df1a64e06340"
      },
      "execution_count": null,
      "outputs": [
        {
          "output_type": "execute_result",
          "data": {
            "text/plain": [
              "{'text': 'I was wondering if anyone out there could enlighten me on this car I saw\\nthe other day. It was a 2-door sports car, looked to be from the late 60s/\\nearly 70s. It was called a Bricklin. The doors were really small. In addition,\\nthe front bumper was separate from the rest of the body. This is \\nall I know. If anyone can tellme a model name, engine specs, years\\nof production, where this car is made, history, or whatever info you\\nhave on this funky looking car, please e-mail.',\n",
              " 'label': 7,\n",
              " 'label_text': 'rec.autos'}"
            ]
          },
          "metadata": {},
          "execution_count": 8
        }
      ]
    },
    {
      "cell_type": "code",
      "source": [
        "#First row example - Test\n",
        "ds['test'][0]"
      ],
      "metadata": {
        "colab": {
          "base_uri": "https://localhost:8080/"
        },
        "id": "soLi2UWB5wT8",
        "outputId": "df6df602-72e8-4ae9-dd5c-82661cd26abe"
      },
      "execution_count": null,
      "outputs": [
        {
          "output_type": "execute_result",
          "data": {
            "text/plain": [
              "{'text': 'I am a little confused on all of the models of the 88-89 bonnevilles.\\nI have heard of the LE SE LSE SSE SSEI. Could someone tell me the\\ndifferences are far as features or performance. I am also curious to\\nknow what the book value is for prefereably the 89 model. And how much\\nless than book value can you usually get them for. In other words how\\nmuch are they in demand this time of year. I have heard that the mid-spring\\nearly summer is the best time to buy.',\n",
              " 'label': 7,\n",
              " 'label_text': 'rec.autos'}"
            ]
          },
          "metadata": {},
          "execution_count": 9
        }
      ]
    },
    {
      "cell_type": "code",
      "source": [
        "#Feature display - Train\n",
        "ds['train'].features"
      ],
      "metadata": {
        "colab": {
          "base_uri": "https://localhost:8080/"
        },
        "id": "cZ8OLOlNo6BH",
        "outputId": "7d400249-a567-49df-b00d-ca54f8e3e6e7"
      },
      "execution_count": null,
      "outputs": [
        {
          "output_type": "execute_result",
          "data": {
            "text/plain": [
              "{'text': Value(dtype='string', id=None),\n",
              " 'label': Value(dtype='int64', id=None),\n",
              " 'label_text': Value(dtype='string', id=None)}"
            ]
          },
          "metadata": {},
          "execution_count": 6
        }
      ]
    },
    {
      "cell_type": "code",
      "source": [
        "#Feature display - Test\n",
        "ds['test'].features"
      ],
      "metadata": {
        "colab": {
          "base_uri": "https://localhost:8080/"
        },
        "id": "sDQEaAVd5zQI",
        "outputId": "bdfde430-d884-48b9-cb4a-b6203d22f851"
      },
      "execution_count": null,
      "outputs": [
        {
          "output_type": "execute_result",
          "data": {
            "text/plain": [
              "{'text': Value(dtype='string', id=None),\n",
              " 'label': Value(dtype='int64', id=None),\n",
              " 'label_text': Value(dtype='string', id=None)}"
            ]
          },
          "metadata": {},
          "execution_count": 10
        }
      ]
    },
    {
      "cell_type": "code",
      "source": [
        "#Assigning dataframe to object to support additional data preprocessing (e.g., remove html tags, etc.)\n",
        "import pandas as pd\n",
        "ds_train = pd.DataFrame(ds['train'])\n",
        "ds_test = pd.DataFrame(ds['test'])"
      ],
      "metadata": {
        "id": "29u0wvJ_o_dw"
      },
      "execution_count": null,
      "outputs": []
    },
    {
      "cell_type": "code",
      "source": [
        "#Preprocessing step to remove HTML tags\n",
        "import pandas as pd\n",
        "from bs4 import BeautifulSoup\n",
        "\n",
        "ds_train = pd.DataFrame(ds['train'])\n",
        "ds_test = pd.DataFrame(ds['test'])\n",
        "\n",
        "def remove_html(text):\n",
        "    return BeautifulSoup(text, \"html.parser\").get_text()\n",
        "\n",
        "#Apply  HTML cleaning to the 'text' column\n",
        "ds_train['text'] = ds_train['text'].apply(remove_html)\n",
        "ds_test['text'] = ds_test['text'].apply(remove_html)\n",
        "\n",
        "#Print first few rows to check\n",
        "print(ds_train.head())\n",
        "print(ds_test.head())"
      ],
      "metadata": {
        "colab": {
          "base_uri": "https://localhost:8080/"
        },
        "id": "cN_kCScZzKoa",
        "outputId": "02e198b5-ffa7-4da5-b101-e1db8280f27b"
      },
      "execution_count": null,
      "outputs": [
        {
          "output_type": "stream",
          "name": "stdout",
          "text": [
            "                                                text  label  \\\n",
            "0  I was wondering if anyone out there could enli...      7   \n",
            "1  A fair number of brave souls who upgraded thei...      4   \n",
            "2  well folks, my mac plus finally gave up the gh...      4   \n",
            "3  \\nDo you have Weitek's address/phone number?  ...      1   \n",
            "4  From article , by tombaker@world.std.com (Tom ...     14   \n",
            "\n",
            "              label_text  \n",
            "0              rec.autos  \n",
            "1  comp.sys.mac.hardware  \n",
            "2  comp.sys.mac.hardware  \n",
            "3          comp.graphics  \n",
            "4              sci.space  \n",
            "                                                text  label  \\\n",
            "0  I am a little confused on all of the models of...      7   \n",
            "1  I'm not familiar at all with the format of the...      5   \n",
            "2                                \\nIn a word, yes.\\n      0   \n",
            "3  \\nThey were attacking the Iraqis to drive them...     17   \n",
            "4  \\nI've just spent two solid months arguing tha...     19   \n",
            "\n",
            "              label_text  \n",
            "0              rec.autos  \n",
            "1         comp.windows.x  \n",
            "2            alt.atheism  \n",
            "3  talk.politics.mideast  \n",
            "4     talk.religion.misc  \n"
          ]
        }
      ]
    },
    {
      "cell_type": "code",
      "source": [
        "#Preprocessing step to remove punctuation\n",
        "import string\n",
        "\n",
        "def remove_punctuation(text):\n",
        "    return text.translate(str.maketrans('', '', string.punctuation))\n",
        "\n",
        "ds_train['text'] = ds_train['text'].apply(remove_punctuation)\n",
        "ds_test['text'] = ds_test['text'].apply(remove_punctuation)\n",
        "\n",
        "print(ds_train.head())\n",
        "print(ds_test.head())"
      ],
      "metadata": {
        "id": "l0-ImZWDzeCG",
        "colab": {
          "base_uri": "https://localhost:8080/"
        },
        "outputId": "77e36d9a-184d-4260-c294-38efd599f75d"
      },
      "execution_count": null,
      "outputs": [
        {
          "output_type": "stream",
          "name": "stdout",
          "text": [
            "                                                text  label  \\\n",
            "0  I was wondering if anyone out there could enli...      7   \n",
            "1  A fair number of brave souls who upgraded thei...      4   \n",
            "2  well folks my mac plus finally gave up the gho...      4   \n",
            "3  \\nDo you have Weiteks addressphone number  Id ...      1   \n",
            "4  From article  by tombakerworldstdcom Tom A Bak...     14   \n",
            "\n",
            "              label_text  \n",
            "0              rec.autos  \n",
            "1  comp.sys.mac.hardware  \n",
            "2  comp.sys.mac.hardware  \n",
            "3          comp.graphics  \n",
            "4              sci.space  \n",
            "                                                text  label  \\\n",
            "0  I am a little confused on all of the models of...      7   \n",
            "1  Im not familiar at all with the format of thes...      5   \n",
            "2                                  \\nIn a word yes\\n      0   \n",
            "3  \\nThey were attacking the Iraqis to drive them...     17   \n",
            "4  \\nIve just spent two solid months arguing that...     19   \n",
            "\n",
            "              label_text  \n",
            "0              rec.autos  \n",
            "1         comp.windows.x  \n",
            "2            alt.atheism  \n",
            "3  talk.politics.mideast  \n",
            "4     talk.religion.misc  \n"
          ]
        }
      ]
    },
    {
      "cell_type": "code",
      "source": [
        "#Preprocessing step to remove punctuation and tokenize into lowercase individual words\n",
        "import string\n",
        "\n",
        "def preprocess_text(text):\n",
        "    #If text already a list, skip processing\n",
        "    if isinstance(text, list):\n",
        "        return text\n",
        "    #Remove punctuation and convert to lowercase\n",
        "    text = text.translate(str.maketrans('', '', string.punctuation))\n",
        "    return text.lower().split()\n",
        "\n",
        "ds_train['text'] = ds_train['text'].apply(preprocess_text)\n",
        "ds_test['text'] = ds_test['text'].apply(preprocess_text)\n",
        "\n",
        "print(ds_train.head())\n",
        "print(ds_test.head())"
      ],
      "metadata": {
        "colab": {
          "base_uri": "https://localhost:8080/"
        },
        "id": "TBKueNcq7pPw",
        "outputId": "b265a1cb-9198-4175-a598-7188c8638493"
      },
      "execution_count": null,
      "outputs": [
        {
          "output_type": "stream",
          "name": "stdout",
          "text": [
            "                                                text  label  \\\n",
            "0  [i, was, wondering, if, anyone, out, there, co...      7   \n",
            "1  [a, fair, number, of, brave, souls, who, upgra...      4   \n",
            "2  [well, folks, my, mac, plus, finally, gave, up...      4   \n",
            "3  [do, you, have, weiteks, addressphone, number,...      1   \n",
            "4  [from, article, by, tombakerworldstdcom, tom, ...     14   \n",
            "\n",
            "              label_text  \n",
            "0              rec.autos  \n",
            "1  comp.sys.mac.hardware  \n",
            "2  comp.sys.mac.hardware  \n",
            "3          comp.graphics  \n",
            "4              sci.space  \n",
            "                                                text  label  \\\n",
            "0  [i, am, a, little, confused, on, all, of, the,...      7   \n",
            "1  [im, not, familiar, at, all, with, the, format...      5   \n",
            "2                                 [in, a, word, yes]      0   \n",
            "3  [they, were, attacking, the, iraqis, to, drive...     17   \n",
            "4  [ive, just, spent, two, solid, months, arguing...     19   \n",
            "\n",
            "              label_text  \n",
            "0              rec.autos  \n",
            "1         comp.windows.x  \n",
            "2            alt.atheism  \n",
            "3  talk.politics.mideast  \n",
            "4     talk.religion.misc  \n"
          ]
        }
      ]
    },
    {
      "cell_type": "code",
      "source": [
        "#Preprocessing step to remove stopwords\n",
        "import nltk\n",
        "nltk.download('stopwords')\n",
        "from nltk.corpus import stopwords\n",
        "\n",
        "stop_words = set(stopwords.words('english'))\n",
        "\n",
        "def remove_stopwords(token_list):\n",
        "    return [word for word in token_list if word.lower() not in stop_words]\n",
        "\n",
        "ds_train['text'] = ds_train['text'].apply(remove_stopwords)\n",
        "ds_test['text'] = ds_test['text'].apply(remove_stopwords)\n",
        "\n",
        "print(ds_train.head())\n",
        "print(ds_test.head())"
      ],
      "metadata": {
        "colab": {
          "base_uri": "https://localhost:8080/"
        },
        "id": "bdfko4Qy64v5",
        "outputId": "e8867190-d866-4309-9150-664bc0ce1789"
      },
      "execution_count": null,
      "outputs": [
        {
          "output_type": "stream",
          "name": "stderr",
          "text": [
            "[nltk_data] Downloading package stopwords to /root/nltk_data...\n",
            "[nltk_data]   Package stopwords is already up-to-date!\n"
          ]
        },
        {
          "output_type": "stream",
          "name": "stdout",
          "text": [
            "                                                text  label  \\\n",
            "0  [wondering, anyone, could, enlighten, car, saw...      7   \n",
            "1  [fair, number, brave, souls, upgraded, si, clo...      4   \n",
            "2  [well, folks, mac, plus, finally, gave, ghost,...      4   \n",
            "3  [weiteks, addressphone, number, id, like, get,...      1   \n",
            "4  [article, tombakerworldstdcom, tom, baker, und...     14   \n",
            "\n",
            "              label_text  \n",
            "0              rec.autos  \n",
            "1  comp.sys.mac.hardware  \n",
            "2  comp.sys.mac.hardware  \n",
            "3          comp.graphics  \n",
            "4              sci.space  \n",
            "                                                text  label  \\\n",
            "0  [little, confused, models, 8889, bonnevilles, ...      7   \n",
            "1  [im, familiar, format, xface, thingies, seeing...      5   \n",
            "2                                        [word, yes]      0   \n",
            "3  [attacking, iraqis, drive, kuwait, country, wh...     17   \n",
            "4  [ive, spent, two, solid, months, arguing, thin...     19   \n",
            "\n",
            "              label_text  \n",
            "0              rec.autos  \n",
            "1         comp.windows.x  \n",
            "2            alt.atheism  \n",
            "3  talk.politics.mideast  \n",
            "4     talk.religion.misc  \n"
          ]
        }
      ]
    },
    {
      "cell_type": "code",
      "source": [
        "#Preprocessing step for lemmatization\n",
        "import nltk\n",
        "nltk.download('wordnet')\n",
        "nltk.download('omw-1.4')\n",
        "nltk.download('averaged_perceptron_tagger_eng')\n",
        "\n",
        "from nltk.stem import WordNetLemmatizer\n",
        "from nltk.corpus import wordnet\n",
        "from nltk import pos_tag\n",
        "\n",
        "lemmatizer = WordNetLemmatizer()\n",
        "\n",
        "#Helper function to convert POS tags\n",
        "def get_wordnet_pos(treebank_tag):\n",
        "    if treebank_tag.startswith('J'):\n",
        "        return wordnet.ADJ\n",
        "    elif treebank_tag.startswith('V'):\n",
        "        return wordnet.VERB\n",
        "    elif treebank_tag.startswith('N'):\n",
        "        return wordnet.NOUN\n",
        "    elif treebank_tag.startswith('R'):\n",
        "        return wordnet.ADV\n",
        "    else:\n",
        "        return wordnet.NOUN  # default\n",
        "\n",
        "#Lemmatize all tokenized text in ds_train['text']\n",
        "def lemmatize_tokens(tokens):\n",
        "    pos_tags = pos_tag(tokens)\n",
        "    return [lemmatizer.lemmatize(word, get_wordnet_pos(pos)) for word, pos in pos_tags]\n",
        "\n",
        "#Apply to entire dataset\n",
        "ds_train['text_lemmatized'] = ds_train['text'].apply(lemmatize_tokens)\n",
        "ds_test['text_lemmatized'] = ds_test['text'].apply(lemmatize_tokens)\n",
        "\n",
        "print(ds_train['text_lemmatized'].head())\n",
        "print(ds_test['text_lemmatized'].head())"
      ],
      "metadata": {
        "colab": {
          "base_uri": "https://localhost:8080/"
        },
        "id": "333SlVZKEAF8",
        "outputId": "ebda9ecb-0aee-47b2-8931-104aeff7cf76"
      },
      "execution_count": null,
      "outputs": [
        {
          "output_type": "stream",
          "name": "stderr",
          "text": [
            "[nltk_data] Downloading package wordnet to /root/nltk_data...\n",
            "[nltk_data]   Package wordnet is already up-to-date!\n",
            "[nltk_data] Downloading package omw-1.4 to /root/nltk_data...\n",
            "[nltk_data]   Package omw-1.4 is already up-to-date!\n",
            "[nltk_data] Downloading package averaged_perceptron_tagger_eng to\n",
            "[nltk_data]     /root/nltk_data...\n",
            "[nltk_data]   Package averaged_perceptron_tagger_eng is already up-to-\n",
            "[nltk_data]       date!\n"
          ]
        },
        {
          "output_type": "stream",
          "name": "stdout",
          "text": [
            "0    [wonder, anyone, could, enlighten, car, saw, d...\n",
            "1    [fair, number, brave, soul, upgrade, si, clock...\n",
            "2    [well, folk, mac, plus, finally, give, ghost, ...\n",
            "3    [weiteks, addressphone, number, id, like, get,...\n",
            "4    [article, tombakerworldstdcom, tom, baker, und...\n",
            "Name: text_lemmatized, dtype: object\n",
            "0    [little, confused, model, 8889, bonnevilles, h...\n",
            "1    [im, familiar, format, xface, thingies, see, f...\n",
            "2                                          [word, yes]\n",
            "3    [attack, iraqis, drive, kuwait, country, whose...\n",
            "4    [ive, spent, two, solid, month, argue, thing, ...\n",
            "Name: text_lemmatized, dtype: object\n"
          ]
        }
      ]
    },
    {
      "cell_type": "code",
      "source": [
        "#Complete preprocessing exploration and manipulation of data in pandas, convert DataFrames into dataset objects in preparation for use with Hugging Face API\n",
        "from datasets import Dataset, DatasetDict\n",
        "\n",
        "train = Dataset.from_pandas(ds_train)\n",
        "test = Dataset.from_pandas(ds_test)\n",
        "\n",
        "new_ds = DatasetDict({\n",
        "    'train': train,\n",
        "    'test': test\n",
        "})\n",
        "\n",
        "#View resulting dataset dict object\n",
        "new_ds"
      ],
      "metadata": {
        "colab": {
          "base_uri": "https://localhost:8080/"
        },
        "id": "wNLqW__p-Z_2",
        "outputId": "544f0772-88cc-470b-cbbf-928b7edd780f"
      },
      "execution_count": null,
      "outputs": [
        {
          "output_type": "execute_result",
          "data": {
            "text/plain": [
              "DatasetDict({\n",
              "    train: Dataset({\n",
              "        features: ['text', 'label', 'label_text', 'filtered_len', 'text_lemmatized'],\n",
              "        num_rows: 11314\n",
              "    })\n",
              "    test: Dataset({\n",
              "        features: ['text', 'label', 'label_text', 'text_lemmatized'],\n",
              "        num_rows: 7532\n",
              "    })\n",
              "})"
            ]
          },
          "metadata": {},
          "execution_count": 41
        }
      ]
    },
    {
      "cell_type": "markdown",
      "source": [
        "As a last step of preprocessing, the following visualizations will reflect the current preprocessed data."
      ],
      "metadata": {
        "id": "b8tb5tE9_jPj"
      }
    },
    {
      "cell_type": "code",
      "source": [
        "#Histogram of Token Counts After Stopword Removal; Demonstrates distribution of review lengths after cleaning and how long remaining cleaned reviews are\n",
        "import matplotlib.pyplot as plt\n",
        "\n",
        "ds_train['filtered_len'] = ds_train['text_lemmatized'].apply(len)\n",
        "ds_test['filtered_len'] = ds_test['text_lemmatized'].apply(len)\n",
        "\n",
        "plt.figure(figsize=(10, 6))\n",
        "\n",
        "plt.hist(ds_train['filtered_len'], bins=30, alpha=0.6, color='skyblue', edgecolor='black', label='Train')\n",
        "plt.hist(ds_test['filtered_len'], bins=30, alpha=0.6, color='salmon', edgecolor='black', label='Test')\n",
        "\n",
        "plt.title(\"Histogram of Review Lengths After Lemmatization (Train vs Test)\")\n",
        "plt.xlabel(\"Number of Words\")\n",
        "plt.ylabel(\"Number of Reviews\")\n",
        "plt.legend()\n",
        "plt.grid(True)\n",
        "plt.show()"
      ],
      "metadata": {
        "colab": {
          "base_uri": "https://localhost:8080/",
          "height": 483
        },
        "id": "j-lxgRWf-68s",
        "outputId": "e2c79f32-ab6e-4085-b6a1-a8198367bd5d"
      },
      "execution_count": null,
      "outputs": [
        {
          "output_type": "display_data",
          "data": {
            "text/plain": [
              "<Figure size 1000x600 with 1 Axes>"
            ],
            "image/png": "[encoded data removed]"
          },
          "metadata": {}
        }
      ]
    },
    {
      "cell_type": "code",
      "source": [
        "#Bar Chart most common words; Demonstrates top word frequencies in cleaned outputs and quantifies outcome of preprocessing steps\n",
        "import matplotlib.pyplot as plt\n",
        "from collections import Counter\n",
        "\n",
        "#Flatten lemmatized token lists from both train and test\n",
        "all_words_train = [word for tokens in ds_train['text_lemmatized'] for word in tokens]\n",
        "all_words_test = [word for tokens in ds_test['text_lemmatized'] for word in tokens]\n",
        "\n",
        "#Combine all words from train and test\n",
        "all_words = all_words_train + all_words_test\n",
        "\n",
        "#Count word frequencies\n",
        "word_counts = Counter(all_words)\n",
        "common_words = word_counts.most_common(20)\n",
        "\n",
        "#Unzip the most common words and counts\n",
        "words, counts = zip(*common_words)\n",
        "\n",
        "plt.figure(figsize=(12, 6))\n",
        "plt.bar(words, counts, color='cornflowerblue')\n",
        "plt.xticks(rotation=45)\n",
        "plt.title(\"Top 20 Most Common Words After Lemmatization (Train + Test)\")\n",
        "plt.ylabel(\"Frequency\")\n",
        "plt.tight_layout()\n",
        "plt.show()"
      ],
      "metadata": {
        "colab": {
          "base_uri": "https://localhost:8080/",
          "height": 384
        },
        "id": "IT9vDhxPAFnB",
        "outputId": "f91ed83c-c4c7-4568-919c-c28153279489"
      },
      "execution_count": null,
      "outputs": [
        {
          "output_type": "display_data",
          "data": {
            "text/plain": [
              "<Figure size 1200x600 with 1 Axes>"
            ],
            "image/png": "[encoded data removed]"
          },
          "metadata": {}
        }
      ]
    }
  ]
}
