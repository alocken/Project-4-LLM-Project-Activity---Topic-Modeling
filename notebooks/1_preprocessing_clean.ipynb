{
  "cells": [
    {
      "cell_type": "markdown",
      "metadata": {
        "id": "view-in-github",
        "colab_type": "text"
      },
      "source": [
        "<a href=\"https://colab.research.google.com/github/alocken/Project-4-LLM-Project-Activity---Topic-Modeling/blob/main/Project_4_1_preprocessing_ipynb_clean.ipynb\" target=\"_parent\"><img src=\"https://colab.research.google.com/assets/colab-badge.svg\" alt=\"Open In Colab\"/></a>"
      ]
    },
    {
      "cell_type": "markdown",
      "metadata": {
        "id": "1cbmHPmWsqhB"
      },
      "source": [
        "# **Project 4: LLM Project Activity - Topic Modeling**\n",
        "\n",
        "\n"
      ]
    },
    {
      "cell_type": "markdown",
      "metadata": {
        "id": "zw8ub6dKkdOc"
      },
      "source": [
        "### **Week 22** Project 4: 1-Preprocessing\n",
        "* Choose the project topic you will work on throughout this course and brainstorm for project ideas. (9.1)\n",
        "* Configure the project workspace and access the dataset specific to the project topic. (9.2)"
      ]
    },
    {
      "cell_type": "code",
      "execution_count": null,
      "metadata": {
        "id": "zF5q_a3-kDKG"
      },
      "outputs": [],
      "source": [
        "from datasets import load_dataset"
      ]
    },
    {
      "cell_type": "code",
      "execution_count": null,
      "metadata": {
        "colab": {
          "base_uri": "https://localhost:8080/"
        },
        "id": "PdufSfMPnf0J",
        "outputId": "9fb93a76-b07c-4116-c5af-48daba992fbe"
      },
      "outputs": [
        {
          "name": "stdout",
          "output_type": "stream",
          "text": [
            "Requirement already satisfied: fsspec in /usr/local/lib/python3.11/dist-packages (2025.3.0)\n",
            "Collecting fsspec\n",
            "  Using cached fsspec-2025.5.1-py3-none-any.whl.metadata (11 kB)\n",
            "Requirement already satisfied: datasets in /usr/local/lib/python3.11/dist-packages (3.6.0)\n",
            "Requirement already satisfied: filelock in /usr/local/lib/python3.11/dist-packages (from datasets) (3.18.0)\n",
            "Requirement already satisfied: numpy>=1.17 in /usr/local/lib/python3.11/dist-packages (from datasets) (2.0.2)\n",
            "Requirement already satisfied: pyarrow>=15.0.0 in /usr/local/lib/python3.11/dist-packages (from datasets) (18.1.0)\n",
            "Requirement already satisfied: dill<0.3.9,>=0.3.0 in /usr/local/lib/python3.11/dist-packages (from datasets) (0.3.7)\n",
            "Requirement already satisfied: pandas in /usr/local/lib/python3.11/dist-packages (from datasets) (2.2.2)\n",
            "Requirement already satisfied: requests>=2.32.2 in /usr/local/lib/python3.11/dist-packages (from datasets) (2.32.3)\n",
            "Requirement already satisfied: tqdm>=4.66.3 in /usr/local/lib/python3.11/dist-packages (from datasets) (4.67.1)\n",
            "Requirement already satisfied: xxhash in /usr/local/lib/python3.11/dist-packages (from datasets) (3.5.0)\n",
            "Requirement already satisfied: multiprocess<0.70.17 in /usr/local/lib/python3.11/dist-packages (from datasets) (0.70.15)\n",
            "Requirement already satisfied: huggingface-hub>=0.24.0 in /usr/local/lib/python3.11/dist-packages (from datasets) (0.33.0)\n",
            "Requirement already satisfied: packaging in /usr/local/lib/python3.11/dist-packages (from datasets) (24.2)\n",
            "Requirement already satisfied: pyyaml>=5.1 in /usr/local/lib/python3.11/dist-packages (from datasets) (6.0.2)\n",
            "Requirement already satisfied: aiohttp!=4.0.0a0,!=4.0.0a1 in /usr/local/lib/python3.11/dist-packages (from fsspec[http]<=2025.3.0,>=2023.1.0->datasets) (3.11.15)\n",
            "Requirement already satisfied: typing-extensions>=3.7.4.3 in /usr/local/lib/python3.11/dist-packages (from huggingface-hub>=0.24.0->datasets) (4.14.0)\n",
            "Requirement already satisfied: hf-xet<2.0.0,>=1.1.2 in /usr/local/lib/python3.11/dist-packages (from huggingface-hub>=0.24.0->datasets) (1.1.5)\n",
            "Requirement already satisfied: charset-normalizer<4,>=2 in /usr/local/lib/python3.11/dist-packages (from requests>=2.32.2->datasets) (3.4.2)\n",
            "Requirement already satisfied: idna<4,>=2.5 in /usr/local/lib/python3.11/dist-packages (from requests>=2.32.2->datasets) (3.10)\n",
            "Requirement already satisfied: urllib3<3,>=1.21.1 in /usr/local/lib/python3.11/dist-packages (from requests>=2.32.2->datasets) (2.4.0)\n",
            "Requirement already satisfied: certifi>=2017.4.17 in /usr/local/lib/python3.11/dist-packages (from requests>=2.32.2->datasets) (2025.6.15)\n",
            "Requirement already satisfied: python-dateutil>=2.8.2 in /usr/local/lib/python3.11/dist-packages (from pandas->datasets) (2.9.0.post0)\n",
            "Requirement already satisfied: pytz>=2020.1 in /usr/local/lib/python3.11/dist-packages (from pandas->datasets) (2025.2)\n",
            "Requirement already satisfied: tzdata>=2022.7 in /usr/local/lib/python3.11/dist-packages (from pandas->datasets) (2025.2)\n",
            "Requirement already satisfied: aiohappyeyeballs>=2.3.0 in /usr/local/lib/python3.11/dist-packages (from aiohttp!=4.0.0a0,!=4.0.0a1->fsspec[http]<=2025.3.0,>=2023.1.0->datasets) (2.6.1)\n",
            "Requirement already satisfied: aiosignal>=1.1.2 in /usr/local/lib/python3.11/dist-packages (from aiohttp!=4.0.0a0,!=4.0.0a1->fsspec[http]<=2025.3.0,>=2023.1.0->datasets) (1.3.2)\n",
            "Requirement already satisfied: attrs>=17.3.0 in /usr/local/lib/python3.11/dist-packages (from aiohttp!=4.0.0a0,!=4.0.0a1->fsspec[http]<=2025.3.0,>=2023.1.0->datasets) (25.3.0)\n",
            "Requirement already satisfied: frozenlist>=1.1.1 in /usr/local/lib/python3.11/dist-packages (from aiohttp!=4.0.0a0,!=4.0.0a1->fsspec[http]<=2025.3.0,>=2023.1.0->datasets) (1.7.0)\n",
            "Requirement already satisfied: multidict<7.0,>=4.5 in /usr/local/lib/python3.11/dist-packages (from aiohttp!=4.0.0a0,!=4.0.0a1->fsspec[http]<=2025.3.0,>=2023.1.0->datasets) (6.4.4)\n",
            "Requirement already satisfied: propcache>=0.2.0 in /usr/local/lib/python3.11/dist-packages (from aiohttp!=4.0.0a0,!=4.0.0a1->fsspec[http]<=2025.3.0,>=2023.1.0->datasets) (0.3.2)\n",
            "Requirement already satisfied: yarl<2.0,>=1.17.0 in /usr/local/lib/python3.11/dist-packages (from aiohttp!=4.0.0a0,!=4.0.0a1->fsspec[http]<=2025.3.0,>=2023.1.0->datasets) (1.20.1)\n",
            "Requirement already satisfied: six>=1.5 in /usr/local/lib/python3.11/dist-packages (from python-dateutil>=2.8.2->pandas->datasets) (1.17.0)\n"
          ]
        }
      ],
      "source": [
        "!pip install -U fsspec datasets"
      ]
    },
    {
      "cell_type": "code",
      "execution_count": null,
      "metadata": {
        "colab": {
          "base_uri": "https://localhost:8080/",
          "height": 336,
          "referenced_widgets": [
            "f176193b93bd48bf859fff9d747aa130",
            "368e3328691f41839b10f828749bbf6a",
            "f72fcf425a474ded9598c2256fec5980",
            "4ee4ce0e1ad1400896ad35441f87d189",
            "0bb3462654bb4106be32822235c6563b",
            "5d09bbce7f09484e8f5e99000faf5468",
            "d39c16e1ed3641d59ceb72aabd51487c",
            "a244aed6c2f04d089743bb9f0a2e19d3",
            "86bbfabbb24b484ba33a67df82088511",
            "bd93da232941413eb7ec5e29659aab65",
            "42b2e2c36e0048bf822011767183d2ac",
            "b959bd29440747dbb48763614a3dc701",
            "1968494704254d5785908dfd8ad65a98",
            "c67fc587d2c7437383144bd2d1914c19",
            "7f9d82fe71284134b66de49040466be2",
            "cf6d88887dcd4148b4541e271cc5c120",
            "e7ae614e618d447fbed935ee3d107159",
            "ca10bb1eafd24cdfa1d9ddf2fd465613",
            "091b4e6e24c3419faa1e34fbb214b7d6",
            "6f55753a4e224ce5863b830624b34e31",
            "3d6ba29f52df4fe0b16f1f69e9607124",
            "e102c266fe6e4de0b29e23e432004ae5",
            "a7e451b423264ac3a9ba5238f3999f7a",
            "7bbb42f841f44d84bc1a8c3468254f7b",
            "defd014725a94babba749dbdbfff81c6",
            "34be7f475e8b40b289c84fdc35b3e324",
            "b23bfd0c0091463bb32572a1c3d483d7",
            "3ee746a1c62e4fa28960d3755dd9d29f",
            "29c25347078e42acb9c6f1c8811f3893",
            "cf87a2cfc8754a548f472787296eaca2",
            "b3e7c41d53b042c59bf976a74a297666",
            "a8f644039c1c4225bff2a3736b50117c",
            "53b60d78f7a14a5ba1518dee7a20ee82",
            "6ddbe2d87b394544b4dc2566d1f9426f",
            "32858b5a534245daa38b043c267dbe45",
            "a2ae71cf61d741ddbbddf4a7a87b9a5a",
            "63e2edb17a8648c3867ac2a0affc6ae5",
            "66c2ba84e55447aa8fc84890128a0471",
            "cbd5d248f02943239534e2257510200d",
            "e0efc1ecbc0d440fad0d630508cb1308",
            "7e12693764a641a192f642c03bdf205e",
            "2642a6ad21e84402b790605f4888633b",
            "0961188c194e4639ac487271398b162e",
            "888e8dd7a678457481937fe8a956a7cc",
            "d6074883dee34c5da1e22965ef94230c",
            "3d39bd4fdade48b1a1d747210b10d911",
            "e7626d48a95d4980ab0c7c55487337fc",
            "96b1e19cb6d14bc8b4345a6f0efea550",
            "61f1d94ab1b943189fe00001aee1d8d1",
            "6c5171e2b9374696a5ef41ab46e35124",
            "3a3d9eccaa204fe4beeb2507cba68171",
            "3f9c683320354237a82594e9ba983f71",
            "3dde2dcae35c459cb0b9a4f1f2ea7f8b",
            "dc19e7adba7f4165b60bd41f0cac00ad",
            "9df87890845d4ef1a8b71bb7bdfa14f0"
          ]
        },
        "id": "l0rUuMSQnqSu",
        "outputId": "94b1127b-360f-492a-9fc2-34172d44bac8"
      },
      "outputs": [
        {
          "name": "stderr",
          "output_type": "stream",
          "text": [
            "/usr/local/lib/python3.11/dist-packages/huggingface_hub/utils/_auth.py:94: UserWarning: \n",
            "The secret `HF_TOKEN` does not exist in your Colab secrets.\n",
            "To authenticate with the Hugging Face Hub, create a token in your settings tab (https://huggingface.co/settings/tokens), set it as secret in your Google Colab and restart your session.\n",
            "You will be able to reuse this secret in all of your notebooks.\n",
            "Please note that authentication is recommended but still optional to access public models or datasets.\n",
            "  warnings.warn(\n"
          ]
        },
        {
          "data": {
            "application/vnd.jupyter.widget-view+json": {
              "model_id": "f176193b93bd48bf859fff9d747aa130",
              "version_major": 2,
              "version_minor": 0
            },
            "text/plain": [
              "README.md:   0%|          | 0.00/734 [00:00<?, ?B/s]"
            ]
          },
          "metadata": {},
          "output_type": "display_data"
        },
        {
          "name": "stderr",
          "output_type": "stream",
          "text": [
            "Repo card metadata block was not found. Setting CardData to empty.\n",
            "WARNING:huggingface_hub.repocard:Repo card metadata block was not found. Setting CardData to empty.\n"
          ]
        },
        {
          "data": {
            "application/vnd.jupyter.widget-view+json": {
              "model_id": "b959bd29440747dbb48763614a3dc701",
              "version_major": 2,
              "version_minor": 0
            },
            "text/plain": [
              "train.jsonl:   0%|          | 0.00/14.8M [00:00<?, ?B/s]"
            ]
          },
          "metadata": {},
          "output_type": "display_data"
        },
        {
          "data": {
            "application/vnd.jupyter.widget-view+json": {
              "model_id": "a7e451b423264ac3a9ba5238f3999f7a",
              "version_major": 2,
              "version_minor": 0
            },
            "text/plain": [
              "test.jsonl:   0%|          | 0.00/8.91M [00:00<?, ?B/s]"
            ]
          },
          "metadata": {},
          "output_type": "display_data"
        },
        {
          "data": {
            "application/vnd.jupyter.widget-view+json": {
              "model_id": "6ddbe2d87b394544b4dc2566d1f9426f",
              "version_major": 2,
              "version_minor": 0
            },
            "text/plain": [
              "Generating train split:   0%|          | 0/11314 [00:00<?, ? examples/s]"
            ]
          },
          "metadata": {},
          "output_type": "display_data"
        },
        {
          "data": {
            "application/vnd.jupyter.widget-view+json": {
              "model_id": "d6074883dee34c5da1e22965ef94230c",
              "version_major": 2,
              "version_minor": 0
            },
            "text/plain": [
              "Generating test split:   0%|          | 0/7532 [00:00<?, ? examples/s]"
            ]
          },
          "metadata": {},
          "output_type": "display_data"
        }
      ],
      "source": [
        "ds = load_dataset('SetFit/20_newsgroups')"
      ]
    },
    {
      "cell_type": "code",
      "execution_count": null,
      "metadata": {
        "colab": {
          "base_uri": "https://localhost:8080/"
        },
        "id": "Bi8rmDy6scqa",
        "outputId": "5d89a455-92ac-4d0a-ed83-013ed5d784ae"
      },
      "outputs": [
        {
          "data": {
            "text/plain": [
              "DatasetDict({\n",
              "    train: Dataset({\n",
              "        features: ['text', 'label', 'label_text'],\n",
              "        num_rows: 11314\n",
              "    })\n",
              "    test: Dataset({\n",
              "        features: ['text', 'label', 'label_text'],\n",
              "        num_rows: 7532\n",
              "    })\n",
              "})"
            ]
          },
          "execution_count": 5,
          "metadata": {},
          "output_type": "execute_result"
        }
      ],
      "source": [
        "#see available splits for data set\n",
        "ds"
      ]
    },
    {
      "cell_type": "code",
      "execution_count": null,
      "metadata": {
        "colab": {
          "base_uri": "https://localhost:8080/"
        },
        "id": "9D57_rI3okNT",
        "outputId": "72a85449-281f-48b5-9bfa-4393e0d0f973"
      },
      "outputs": [
        {
          "data": {
            "text/plain": [
              "{'text': 'I was wondering if anyone out there could enlighten me on this car I saw\\nthe other day. It was a 2-door sports car, looked to be from the late 60s/\\nearly 70s. It was called a Bricklin. The doors were really small. In addition,\\nthe front bumper was separate from the rest of the body. This is \\nall I know. If anyone can tellme a model name, engine specs, years\\nof production, where this car is made, history, or whatever info you\\nhave on this funky looking car, please e-mail.',\n",
              " 'label': 7,\n",
              " 'label_text': 'rec.autos'}"
            ]
          },
          "execution_count": 6,
          "metadata": {},
          "output_type": "execute_result"
        }
      ],
      "source": [
        "ds['train'][0]"
      ]
    },
    {
      "cell_type": "code",
      "execution_count": null,
      "metadata": {
        "colab": {
          "base_uri": "https://localhost:8080/"
        },
        "id": "cZ8OLOlNo6BH",
        "outputId": "4a751ed3-4f36-43d8-8571-2427acbf04d5"
      },
      "outputs": [
        {
          "data": {
            "text/plain": [
              "{'text': Value(dtype='string', id=None),\n",
              " 'label': Value(dtype='int64', id=None),\n",
              " 'label_text': Value(dtype='string', id=None)}"
            ]
          },
          "execution_count": 7,
          "metadata": {},
          "output_type": "execute_result"
        }
      ],
      "source": [
        "ds['train'].features"
      ]
    },
    {
      "cell_type": "code",
      "execution_count": null,
      "metadata": {
        "id": "29u0wvJ_o_dw"
      },
      "outputs": [],
      "source": [
        "import pandas as pd\n",
        "ds_train = pd.DataFrame(ds['train'])\n",
        "ds_test = pd.DataFrame(ds['test'])"
      ]
    },
    {
      "cell_type": "code",
      "execution_count": null,
      "metadata": {
        "colab": {
          "base_uri": "https://localhost:8080/"
        },
        "id": "cN_kCScZzKoa",
        "outputId": "f31769f4-32ec-4469-c2fe-62c7fd7d76e7"
      },
      "outputs": [
        {
          "name": "stdout",
          "output_type": "stream",
          "text": [
            "                                                text  label  \\\n",
            "0  I was wondering if anyone out there could enli...      7   \n",
            "1  A fair number of brave souls who upgraded thei...      4   \n",
            "2  well folks, my mac plus finally gave up the gh...      4   \n",
            "3  \\nDo you have Weitek's address/phone number?  ...      1   \n",
            "4  From article , by tombaker@world.std.com (Tom ...     14   \n",
            "\n",
            "              label_text  \n",
            "0              rec.autos  \n",
            "1  comp.sys.mac.hardware  \n",
            "2  comp.sys.mac.hardware  \n",
            "3          comp.graphics  \n",
            "4              sci.space  \n",
            "                                                text  label  \\\n",
            "0  I am a little confused on all of the models of...      7   \n",
            "1  I'm not familiar at all with the format of the...      5   \n",
            "2                                \\nIn a word, yes.\\n      0   \n",
            "3  \\nThey were attacking the Iraqis to drive them...     17   \n",
            "4  \\nI've just spent two solid months arguing tha...     19   \n",
            "\n",
            "              label_text  \n",
            "0              rec.autos  \n",
            "1         comp.windows.x  \n",
            "2            alt.atheism  \n",
            "3  talk.politics.mideast  \n",
            "4     talk.religion.misc  \n"
          ]
        }
      ],
      "source": [
        "# preprocessing HTML tag removal\n",
        "\n",
        "import pandas as pd\n",
        "from bs4 import BeautifulSoup\n",
        "\n",
        "# Assuming 'ds' is a Hugging Face dataset dictionary with 'train' and 'test' splits\n",
        "ds_train = pd.DataFrame(ds['train'])\n",
        "ds_test = pd.DataFrame(ds['test'])\n",
        "\n",
        "# Function to remove HTML tags using BeautifulSoup\n",
        "def remove_html(text):\n",
        "    return BeautifulSoup(text, \"html.parser\").get_text()\n",
        "\n",
        "# Apply the HTML cleaning to the 'text' column\n",
        "ds_train['text'] = ds_train['text'].apply(remove_html)\n",
        "ds_test['text'] = ds_test['text'].apply(remove_html)\n",
        "\n",
        "# Optional: print first few rows to check\n",
        "print(ds_train.head())\n",
        "print(ds_test.head())"
      ]
    },
    {
      "cell_type": "code",
      "execution_count": null,
      "metadata": {
        "id": "l0-ImZWDzeCG"
      },
      "outputs": [],
      "source": [
        "# preprocessing removing punctuation\n",
        "import string\n",
        "\n",
        "# Function to remove punctuation\n",
        "def remove_punctuation(text):\n",
        "    return text.translate(str.maketrans('', '', string.punctuation))\n",
        "\n",
        "# Apply to a DataFrame column (e.g., 'text')\n",
        "ds_train['text'] = ds_train['text'].apply(remove_punctuation)\n",
        "ds_test['text'] = ds_test['text'].apply(remove_punctuation)\n"
      ]
    },
    {
      "cell_type": "code",
      "execution_count": null,
      "metadata": {
        "colab": {
          "base_uri": "https://localhost:8080/"
        },
        "id": "MtIX4nZV0q6Y",
        "outputId": "33db5edb-e5e6-4476-86ef-5af41b196219"
      },
      "outputs": [
        {
          "name": "stderr",
          "output_type": "stream",
          "text": [
            "[nltk_data] Downloading package punkt to /root/nltk_data...\n",
            "[nltk_data]   Unzipping tokenizers/punkt.zip.\n"
          ]
        },
        {
          "data": {
            "text/plain": [
              "True"
            ]
          },
          "execution_count": 27,
          "metadata": {},
          "output_type": "execute_result"
        }
      ],
      "source": [
        "import nltk\n",
        "\n",
        "# Delete and re-download punkt\n",
        "nltk.download('punkt', force=True)"
      ]
    },
    {
      "cell_type": "code",
      "execution_count": null,
      "metadata": {
        "id": "CJ_muZhtz6rA"
      },
      "outputs": [],
      "source": [
        "# preprocessing tokenize, convert lowercase, remove numbers/punctuation, filter stop words (tokenization tehcnically part next notebook, leaving for completeness here but included next step as well)\n",
        "from nltk.corpus import stopwords\n",
        "\n",
        "stop_words = set(stopwords.words('english'))\n",
        "\n",
        "def remove_stopwords_simple(text):\n",
        "    tokens = text.lower().split()  # basic tokenization\n",
        "    tokens = [word.strip(string.punctuation) for word in tokens if word.isalpha()]\n",
        "    filtered = [word for word in tokens if word not in stop_words]\n",
        "    return ' '.join(filtered)\n",
        "\n",
        "ds_train['text'] = ds_train['text'].apply(remove_stopwords_simple)\n",
        "ds_test['text'] = ds_test['text'].apply(remove_stopwords_simple)"
      ]
    },
    {
      "cell_type": "code",
      "execution_count": null,
      "metadata": {
        "colab": {
          "base_uri": "https://localhost:8080/",
          "height": 241
        },
        "id": "7WwpAXVXp5k-",
        "outputId": "fe2e9be9-9da0-4431-8300-a76faca4f53a"
      },
      "outputs": [
        {
          "name": "stderr",
          "output_type": "stream",
          "text": [
            "Repo card metadata block was not found. Setting CardData to empty.\n",
            "WARNING:huggingface_hub.repocard:Repo card metadata block was not found. Setting CardData to empty.\n"
          ]
        },
        {
          "data": {
            "application/vnd.google.colaboratory.intrinsic+json": {
              "summary": "{\n  \"name\": \"df\",\n  \"rows\": 11314,\n  \"fields\": [\n    {\n      \"column\": \"text\",\n      \"properties\": {\n        \"dtype\": \"string\",\n        \"num_unique_values\": 10994,\n        \"samples\": [\n          \"\\nUmm, when I was doing sound reinforcement for a living, I used to get direct boxes (which convert\\nunbalanced 1/4\\\" jacks to balanced XLRs) for about $25 each, or a little more for higher\\nquality. You'll need two for a stereo signal, of course, and a little adapter thingy from \\nRadio Sh#$&^t to convert from RCA to 1/4\\\". Total cost should be around $50. You can also buy\\ntransformers for quite a bit less and wire them yourself. Total cost there should be under $30.\\nYou can get all this stuff from any pro music shop that sells sound reinforcement gear.\\nThe benefit? NO noise that you can hear will be generated in the cables going to the component\\nwith the balanced inputs, even when you run them in bad places, like next to power lines.\\n\",\n          \"Here is the price list for the week April 13 to April 19.\\n\\n\\t- Andrew\\n\\nBuy\\tSell\\tPts\\tTeam\\tPlayer\\n158.9\\t143.0\\t157\\tPIT\\tMario_Lemieux\\n148.5\\t133.7\\t145\\tBUF\\tPat_LaFontaine\\n142.7\\t128.4\\t141\\tBOS\\tAdam_Oates\\n137.6\\t123.8\\t136\\tDET\\tSteve_Yzerman\\n132.1\\t118.9\\t129\\tWPG\\tTeemu_Selanne\\n131.7\\t118.5\\t127\\tNYI\\tPierre_Turgeon\\n130.1\\t117.1\\t127\\tTOR\\tDoug_Gilmour\\n126.0\\t113.4\\t123\\tBUF\\tAlexander_Mogilny\\n123.4\\t111.1\\t119\\tPHI\\tMark_Recchi\\n121.9\\t109.7\\t119\\tLA\\tLuc_Robitaille\\n113.3\\t102.0\\t112\\tQUE\\tMats_Sundin\\n111.3\\t100.2\\t110\\tPIT\\tKevin_Stevens\\n110.6\\t99.5\\t108\\tVAN\\tPavel_Bure\\n108.6\\t97.7\\t106\\tSTL\\tCraig_Janney\\n108.3\\t97.5\\t107\\tPIT\\tRick_Tocchet\\n107.6\\t96.8\\t105\\tCHI\\tJeremy_Roenick\\n105.3\\t94.8\\t104\\tQUE\\tJoe_Sakic\\n103.5\\t93.2\\t101\\tSTL\\tBrett_Hull\\n102.4\\t92.2\\t100\\tCGY\\tTheoren_Fleury\\n101.2\\t91.1\\t100\\tPIT\\tRon_Francis\\n100.4\\t90.4\\t98\\tTOR\\tDave_Andreychuk\\n100.2\\t90.2\\t99\\tBOS\\tJoe_Juneau\\n98.3\\t88.5\\t96\\tWPG\\tPhil_Housley\\n98.3\\t88.5\\t96\\tMTL\\tVincent_Damphousse\\n96.3\\t86.7\\t94\\tMTL\\tKirk_Muller\\n96.1\\t86.5\\t95\\tDET\\tDino_Ciccarelli\\n95.3\\t85.8\\t93\\tBUF\\tDale_Hawerchuk\\n95.3\\t85.8\\t93\\tMIN\\tMike_Modano\\n94.4\\t85.0\\t91\\tNYR\\tMark_Messier\\n93.2\\t83.9\\t91\\tSTL\\tBrendan_Shanahan\\n93.1\\t83.8\\t92\\tPIT\\tJaromir_Jagr\\n88.1\\t79.3\\t86\\tMTL\\tBrian_Bellows\\n88.1\\t79.3\\t86\\tLA\\tJari_Kurri\\n88.0\\t79.2\\t87\\tDET\\tSergei_Fedorov\\n87.1\\t78.4\\t85\\tCGY\\tRobert_Reichel\\n87.0\\t78.3\\t86\\tDET\\tPaul_Coffey\\n86.1\\t77.5\\t83\\tWSH\\tPeter_Bondra\\n86.1\\t77.5\\t83\\tHFD\\tGeoff_Sanderson\\n86.0\\t77.4\\t84\\tTB\\tBrian_Bradley\\n85.0\\t76.5\\t82\\tNYI\\tSteve_Thomas\\n84.0\\t75.6\\t83\\tPIT\\tLarry_Murphy\\n84.0\\t75.6\\t81\\tPHI\\tRod_Brind'Amour\\n83.0\\t74.7\\t82\\tBOS\\tRay_Bourque\\n83.0\\t74.7\\t82\\tQUE\\tSteve_Duchesne\\n83.0\\t74.7\\t80\\tHFD\\tAndrew_Cassels\\n82.0\\t73.8\\t80\\tLA\\tTony_Granato\\n81.9\\t73.7\\t79\\tWSH\\tDale_Hunter\\n81.9\\t73.7\\t79\\tWSH\\tMike_Ridley\\n80.9\\t72.8\\t78\\tHFD\\tPat_Verbeek\\n80.9\\t72.8\\t79\\tMTL\\tStephan_Lebeau\\n80.9\\t72.8\\t79\\tCGY\\tGary_Suter\\n78.9\\t71.0\\t77\\tVAN\\tCliff_Ronning\\n78.9\\t71.0\\t77\\tNJ\\tClaude_Lemieux\\n78.9\\t71.0\\t78\\tQUE\\tMike_Ricci\\n77.9\\t70.1\\t76\\tVAN\\tMurray_Craven\\n77.9\\t70.1\\t76\\tSTL\\tJeff_Brown\\n77.8\\t70.0\\t75\\tWSH\\tKevin_Hatcher\\n77.8\\t70.0\\t75\\tNYR\\tTony_Amonte\\n76.9\\t69.2\\t76\\tSJ\\tKelly_Kisio\\n76.8\\t69.1\\t75\\tNJ\\tAlexander_Semak\\n76.8\\t69.1\\t75\\tMIN\\tRuss_Courtnall\\n75.8\\t68.2\\t74\\tMIN\\tDave_Gagner\\n75.8\\t68.2\\t74\\tTOR\\tNikolai_Borschevsky\\n75.7\\t68.1\\t73\\tPHI\\tEric_Lindros\\n74.8\\t67.3\\t73\\tLA\\tJimmy_Carson\\n73.8\\t66.4\\t72\\tCGY\\tJoe_Nieuwendyk\\n73.8\\t66.4\\t72\\tVAN\\tGeoff_Courtnall\\n73.8\\t66.4\\t72\\tMIN\\tUlf_Dahlen\\n73.6\\t66.2\\t71\\tNYI\\tDerek_King\\n73.6\\t66.2\\t71\\tWSH\\tMichal_Pivonka\\n72.9\\t65.6\\t72\\tQUE\\tOwen_Nolan\\n72.9\\t65.6\\t72\\tBOS\\tDmitri_Kvartalnov\\n72.7\\t65.4\\t71\\tSTL\\tNelson_Emerson\\n72.7\\t65.4\\t71\\tCHI\\tChris_Chelios\\n72.6\\t65.3\\t70\\tNYI\\tBenoit_Hogue\\n71.7\\t64.5\\t70\\tNJ\\tStephane_Richer\\n71.7\\t64.5\\t70\\tWPG\\tThomas_Steen\\n71.7\\t64.5\\t70\\tWPG\\tAlexei_Zhamnov\\n71.7\\t64.5\\t70\\tCHI\\tSteve_Larmer\\n69.8\\t62.8\\t69\\tPIT\\tJoe_Mullen\\n69.5\\t62.6\\t67\\tNYR\\tMike_Gartner\\n68.6\\t61.7\\t67\\tVAN\\tPetr_Nedved\\n68.6\\t61.7\\t67\\tVAN\\tTrevor_Linden\\n68.6\\t61.7\\t67\\tLA\\tMike_Donnelly\\n68.4\\t61.6\\t66\\tWSH\\tDmitri_Khristich\\n68.4\\t61.6\\t66\\tWSH\\tAl_Iafrate\\n66.8\\t60.1\\t66\\tDET\\tRay_Sheppard\\n66.8\\t60.1\\t66\\tQUE\\tAndrei_Kovalenko\\n66.4\\t59.8\\t64\\tHFD\\tZarley_Zalapski\\n66.4\\t59.8\\t64\\tNYR\\tAdam_Graves\\n65.8\\t59.2\\t65\\tSJ\\tJohan_Garpenlov\\n64.5\\t58.1\\t63\\tTOR\\tGlenn_Anderson\\n63.5\\t57.2\\t62\\tLA\\tWayne_Gretzky\\n63.5\\t57.2\\t62\\tOTT\\tNorm_Maciver\\n62.2\\t56.0\\t60\\tPHI\\tGarry_Galley\\n61.7\\t55.5\\t61\\tDET\\tSteve_Chiasson\\n61.7\\t55.5\\t61\\tDET\\tPaul_Ysebaert\\n61.5\\t55.4\\t60\\tNJ\\tValeri_Zelepukin\\n61.5\\t55.4\\t60\\tMTL\\tMike_Keane\\n61.2\\t55.1\\t59\\tPHI\\tBrent_Fedyk\\n60.7\\t54.6\\t60\\tPIT\\tShawn_McEachern\\n60.4\\t54.4\\t59\\tLA\\tRob_Blake\\n60.1\\t54.1\\t58\\tNYI\\tPat_Flatley\\n59.7\\t53.7\\t59\\tQUE\\tScott_Young\\n59.4\\t53.5\\t58\\tWPG\\tDarrin_Shannon\\n59.1\\t53.2\\t57\\tPHI\\tKevin_Dineen\\n58.4\\t52.6\\t57\\tNJ\\tBernie_Nicholls\\n58.4\\t52.6\\t57\\tCGY\\tSergei_Makarov\\n58.4\\t52.6\\t57\\tCHI\\tSteve_Smith\\n58.1\\t52.3\\t56\\tWSH\\tPat_Elynuik\\n57.4\\t51.7\\t56\\tVAN\\tGreg_Adams\\n57.4\\t51.7\\t56\\tNJ\\tScott_Stevens\\n57.4\\t51.7\\t56\\tTB\\tJohn_Tucker\\n56.3\\t50.7\\t55\\tWPG\\tFredrik_Olausson\\n56.0\\t50.4\\t54\\tNYR\\tSergei_Nemchinov\\n55.0\\t49.5\\t53\\tNYR\\tDarren_Turcotte\\n55.0\\t48.9\\t53\\tCGY\\tAl_MacInnis\\n55.0\\t48.9\\t53\\tCHI\\tChristian_Ruuttu\\n55.0\\t48.0\\t52\\tCHI\\tBrent_Sutter\\n55.0\\t47.6\\t51\\tHFD\\tTerry_Yake\\n55.0\\t47.0\\t51\\tVAN\\tDixon_Ward\\n55.0\\t47.0\\t51\\tWPG\\tKeith_Tkachuk\\n55.0\\t46.4\\t51\\tBOS\\tStephen_Leach\\n55.0\\t46.1\\t50\\tTOR\\tJohn_Cullen\\n55.0\\t46.1\\t50\\tMTL\\tDenis_Savard\\n55.0\\t45.7\\t49\\tNYR\\tEd_Olczyk\\n55.0\\t45.2\\t49\\tVAN\\tAnatoli_Semenov\\n55.0\\t44.8\\t48\\tWSH\\tSylvain_Cote\\n55.0\\t44.8\\t48\\tNYI\\tVladimir_Malakhov\\n55.0\\t44.8\\t48\\tNYI\\tJeff_Norton\\n55.0\\t44.8\\t48\\tHFD\\tPatrick_Poulin\\n55.0\\t44.6\\t49\\tBOS\\tDave_Poulin\\n55.0\\t44.3\\t48\\tLA\\tTomas_Sandstrom\\n55.0\\t44.3\\t48\\tEDM\\tPetr_Klima\\n55.0\\t44.3\\t48\\tNJ\\tJohn_MacLean\\n55.0\\t44.3\\t48\\tEDM\\tDoug_Weight\\n55.0\\t43.3\\t47\\tMTL\\tGilbert_Dionne\\n55.0\\t43.3\\t47\\tLA\\tAlexei_Zhitnik\\n55.0\\t43.3\\t47\\tEDM\\tShayne_Corson\\n55.0\\t42.8\\t47\\tQUE\\tMartin_Rucinsky\\n55.0\\t42.4\\t46\\tWPG\\tEvgeny_Davydov\\n55.0\\t42.4\\t46\\tSTL\\tKevin_Miller\\n55.0\\t42.4\\t46\\tEDM\\tCraig_Simpson\\n55.0\\t42.0\\t45\\tWSH\\tKelly_Miller\\n55.0\\t42.0\\t45\\tPHI\\tPelle_Eklund\\n55.0\\t40.6\\t44\\tCHI\\tMichel_Goulet\\n55.0\\t40.6\\t44\\tEDM\\tDave_Manson\\n55.0\\t39.6\\t43\\tOTT\\tSylvain_Turgeon\\n55.0\\t38.7\\t42\\tCGY\\tPaul_Ranheim\\n55.0\\t38.7\\t42\\tMTL\\tMathieu_Schneider\\n55.0\\t38.7\\t42\\tMIN\\tMark_Tinordi\\n55.0\\t38.3\\t42\\tDET\\tBob_Probert\\n55.0\\t37.8\\t41\\tEDM\\tTodd_Elik\\n55.0\\t37.4\\t40\\tNYR\\tEsa_Tikkanen\\n55.0\\t37.4\\t41\\tBOS\\tVladimir_Ruzicka\\n55.0\\t36.9\\t40\\tOTT\\tBob_Kudelski\\n55.0\\t36.9\\t40\\tNJ\\tPeter_Stastny\\n55.0\\t36.9\\t40\\tTOR\\tDave_Ellett\\n55.0\\t36.9\\t40\\tOTT\\tBrad_Shaw\\n55.0\\t36.5\\t40\\tDET\\tNiklas_Lidstrom\\n55.0\\t36.0\\t39\\tNJ\\tBobby_Holik\\n55.0\\t36.0\\t39\\tTOR\\tWendel_Clark\\n55.0\\t35.5\\t38\\tNYR\\tAlexei_Kovalev\\n55.0\\t35.0\\t38\\tBUF\\tYuri_Khmylev\\n55.0\\t35.0\\t38\\tMIN\\tMike_McPhee\\n55.0\\t34.1\\t37\\tTOR\\tRob_Pearson\\n55.0\\t34.1\\t37\\tVAN\\tSergio_Momesso\\n55.0\\t33.6\\t36\\tNYR\\tBrian_Leetch\\n55.0\\t33.2\\t36\\tCHI\\tDirk_Graham\\n55.0\\t33.2\\t36\\tTB\\tAdam_Creighton\\n55.0\\t32.8\\t36\\tQUE\\tValery_Kamensky\\n55.0\\t32.3\\t35\\tEDM\\tZdeno_Ciger\\n55.0\\t32.3\\t35\\tLA\\tCorey_Millen\\n55.0\\t31.9\\t35\\tBOS\\tTed_Donato\\n55.0\\t31.3\\t34\\tTOR\\tPeter_Zezel\\n55.0\\t30.4\\t33\\tMIN\\tNeal_Broten\\n55.0\\t29.5\\t32\\tMTL\\tGary_Leeman\\n55.0\\t29.5\\t32\\tEDM\\tScott_Mellanby\\n55.0\\t29.5\\t32\\tBUF\\tWayne_Presley\\n55.0\\t29.2\\t32\\tDET\\tKeith_Primeau\\n55.0\\t28.9\\t31\\tNYI\\tBrian_Mullen\\n55.0\\t28.9\\t31\\tPHI\\tJosef_Beranek\\n55.0\\t28.6\\t31\\tCHI\\tStephane_Matteau\\n55.0\\t28.3\\t31\\tBOS\\tSteve_Heinze\\n55.0\\t28.0\\t30\\tPHI\\tDmitri_Yushkevich\\n55.0\\t28.0\\t30\\tHFD\\tMikael_Nylander\\n55.0\\t27.6\\t30\\tBUF\\tRichard_Smehlik\\n55.0\\t27.6\\t30\\tTOR\\tDmitri_Mironov\\n55.0\\t25.8\\t28\\tCHI\\tBrian_Noonan\\n55.0\\t25.5\\t28\\tSJ\\tPat_Falloon\\n55.0\\t24.9\\t27\\tSTL\\tIgor_Korolev\\n55.0\\t24.3\\t26\\tWSH\\tBob_Carpenter\\n55.0\\t24.3\\t26\\tNYR\\tJames_Patrick\\n55.0\\t23.9\\t26\\tBUF\\tPetr_Svoboda\\n55.0\\t23.0\\t25\\tOTT\\tMark_Lamb\\n55.0\\t22.4\\t24\\tNYI\\tScott_LaChance\\n55.0\\t22.1\\t24\\tMTL\\tBenoit_Brunet\\n55.0\\t22.1\\t24\\tTB\\tMikael_Andersson\\n55.0\\t21.2\\t23\\tEDM\\tMartin_Gelinas\\n55.0\\t21.2\\t23\\tWPG\\tSergei_Bautin\\n55.0\\t21.2\\t23\\tTOR\\tBill_Berg\\n55.0\\t21.2\\t23\\tEDM\\tKevin_Todd\\n55.0\\t19.6\\t21\\tNYI\\tDavid_Volek\\n55.0\\t19.6\\t21\\tNYI\\tRay_Ferraro\\n55.0\\t19.4\\t21\\tMIN\\tBrent_Gilchrist\\n55.0\\t18.6\\t20\\tHFD\\tYvon_Corriveau\\n55.0\\t18.6\\t20\\tNYR\\tPhil_Bourque\\n55.0\\t18.6\\t20\\tNYI\\tDarius_Kasparaitis\\n55.0\\t18.2\\t20\\tDET\\tJim_Hiller\\n55.0\\t17.7\\t19\\tPHI\\tAndrei_Lomakin\\n55.0\\t17.6\\t19\\tBUF\\tDonald_Audette\\n55.0\\t16.6\\t18\\tTB\\tRoman_Hamrlik\\n55.0\\t15.5\\t17\\tBOS\\tCam_Neely\\n55.0\\t15.5\\t17\\tSJ\\tMark_Pederson\\n55.0\\t14.6\\t16\\tPIT\\tMartin_Straka\\n55.0\\t13.9\\t15\\tCHI\\tJoe_Murphy\\n55.0\\t12.2\\t13\\tNYR\\tPeter_Andersson\\n55.0\\t12.0\\t13\\tOTT\\tTomas_Jelinek\\n55.0\\t12.0\\t13\\tNJ\\tJanne_Ojanen\\n55.0\\t10.2\\t11\\tTB\\tSteve_Kasper\\n55.0\\t10.2\\t11\\tMIN\\tBobby_Smith\\n55.0\\t9.1\\t10\\tSJ\\tRay_Whitney\\n55.0\\t8.4\\t9\\tHFD\\tRobert_Petrovicky\\n55.0\\t8.3\\t9\\tBUF\\tViktor_Gordijuk\\n55.0\\t7.4\\t8\\tTOR\\tJoe_Sacco\\n55.0\\t7.3\\t8\\tQUE\\tMikhail_Tatarinov\\n55.0\\t7.3\\t8\\tSJ\\tPeter_Ahola\\n55.0\\t6.5\\t7\\tCHI\\tRob_Brown\\n55.0\\t6.4\\t7\\tBOS\\tGlen_Murray\\n55.0\\t5.6\\t6\\tHFD\\tTim_Kerr\\n55.0\\t5.5\\t6\\tMIN\\tBrian_Propp\\n55.0\\t4.7\\t5\\tWSH\\tReggie_Savage\\n55.0\\t4.6\\t5\\tSTL\\tVitali_Prokhorov\\n55.0\\t4.6\\t5\\tLA\\tRobert_Lang\\n55.0\\t4.6\\t5\\tEDM\\tShaun_Van_Allen\\n55.0\\t3.7\\t4\\tMIN\\tDan_Quinn\\n55.0\\t3.6\\t4\\tDET\\tViacheslav_Kozlov\\n55.0\\t3.6\\t4\\tBOS\\tJozef_Stumpel\\n55.0\\t3.6\\t4\\tPIT\\tBryan_Fogarty\\n55.0\\t2.8\\t3\\tMTL\\tOlav_Petrov\\n55.0\\t2.8\\t3\\tTB\\tStan_Drulia\\n55.0\\t1.9\\t2\\tWSH\\tJason_Woolley\\n55.0\\t1.8\\t2\\tNJ\\tClaude_Vilgrain\\n55.0\\t0.0\\t0\\tMTL\\tPatrick_Kjellberg\\n55.0\\t0.0\\t0\\tOTT\\tAlexei_Yashin\\n55.0\\t0.0\\t0\\tWSH\\tRandy_Burridge\\n55.0\\t0.0\\t0\\tEDM\\tDean_McAmmond\\n55.0\\t0.0\\t0\\tCGY\\tCory_Stillman\\n55.0\\t0.0\\t0\\tTB\\tBrent_Gretzky\\n55.0\\t0.0\\t0\\tBUF\\tJason_Dawe\\n55.0\\t0.0\\t0\\tWSH\\tBrian_Sakic\\n55.0\\t0.0\\t0\\tVAN\\tIgor_Larionov\\n55.0\\t0.0\\t0\\tCHI\\tSergei_Krivokrasov\\n55.0\\t0.0\\t0\\tQUE\\tPeter_Forsberg\\n-- \\nAndrew Scott                    | andrew@idacom.hp.com\\nHP IDACOM Telecom Operation     | (403) 462-0666 ext. 253\",\n          \"As most of you know, we have recently changed our standard VESA local-bus\\nvideo card from our own NCR-based card to the new Diamond Stealth 24 VLB card\\nfor packages 2, 3, and 4 (package #1 still has the NCR \\\"screamer').  We also have\\nadded the $149 upgrade from the Stealth 24 or NCR to the Diamond Viper to our\\nproduct list.  Below are the comparisons of the different cards in the\\nconfigurations we will offer:\\n\\n                     NCR              Stealth 24 VLB        Viper VLB\\n64Ox480 Colors       16,256           16,256,32K,64K,16.7M 16,256,32K,64K,16.7M *\\n8OOx6OO Colors       16,256           16,256,32K,64K        16,256,32K,64K *\\n1024x768 Colors      16,256           16,256                16,256\\n1280x1024 Colors     16               16                    16\\nVideo Processor      NCR 77C22E+      S3 86C805             Weitek Power 9000\\nVideo RAM            1M               1M                    1M\\nMax RAM addressable\\n  by Vid Processor   3M               2M                    2M\\nRAM Type             DRAM             DRAM                  VRAM\\nUser RAM Upgrade?    No (no sockets)  No (no sockets)       Yes (thru\\nDiamond)\\n64Ox480 Refresh      60-72 Hz         60-72   Hz            60-72   Hz\\n8OOx6OO Refresh      56-72 Hz         56-72   Hz            56-72   Hz\\n1024x768 Refresh     44-70 Hz         43-72   Hz            43-72   Hz\\n128Oxl024 Refresh    43 Hz            43-60   Hz            43-74   Hz\\n26 pin VESA\\n  Feature Connector  No               Yes                   No \\nConflict with x2E8\\n  port addr (COM4)   No               YES*                  No*\\nDrivers for:\\n  Win 3.1            Yes              Yes                   Yes\\n  ACad    9/10/11    Yes              Yes                   Yes\\n  ACad 12            No               Yes**                 Yes**\\n  VESA               Yes              Yes                   Yes\\n  OS/2,     WinNT    NO***            NO***                 NO***\\nWin 3.1 WINMARKS     10.5M****        21 M****              50M****\\n\\n\\n^L\\n*    Viper VLB with 2M of video RAM also gives 8OOx6OO 16.7M, 1024x768 32K &\\n     64K, and 1280xl 024 256 color.  S3-based cards, since they are downward\\n     compatible, will have the conflict with 2E8.  Diamond admits conflict will\\n     exist with the Stealth 24.  The prelim Viper manual incorrectly lists the \\n     S3 port addresses.  No conflict. \\n\\n\\n**   AutoCAD 12 drivers are now currently available for Stealth, SpeedSTAR\\n     24X, Stealth 24 VLB, and Viper VLB.  They can only be obtained from\\n     Diamond Tech Support, 408-736-2000 and NOT on any BBS. \\n\\n**   OS/2 2.0 is supported for Standard VGA for all cards.  SVGA drivers\\n     available in the near future.  Windows NT is not released yet, and no\\n     drivers are available currently.  Diamond hopes to have all current\\n     products supported in the Win NT release, on the NT disks.\"\n        ],\n        \"semantic_type\": \"\",\n        \"description\": \"\"\n      }\n    },\n    {\n      \"column\": \"label\",\n      \"properties\": {\n        \"dtype\": \"number\",\n        \"std\": 5,\n        \"min\": 0,\n        \"max\": 19,\n        \"num_unique_values\": 20,\n        \"samples\": [\n          7,\n          17,\n          9\n        ],\n        \"semantic_type\": \"\",\n        \"description\": \"\"\n      }\n    },\n    {\n      \"column\": \"label_text\",\n      \"properties\": {\n        \"dtype\": \"category\",\n        \"num_unique_values\": 20,\n        \"samples\": [\n          \"rec.autos\",\n          \"talk.politics.mideast\",\n          \"rec.sport.baseball\"\n        ],\n        \"semantic_type\": \"\",\n        \"description\": \"\"\n      }\n    }\n  ]\n}",
              "type": "dataframe",
              "variable_name": "df"
            },
            "text/html": [
              "\n",
              "  <div id=\"df-96bc06db-8e1b-48ee-88cf-9be0ad16109f\" class=\"colab-df-container\">\n",
              "    <div>\n",
              "<style scoped>\n",
              "    .dataframe tbody tr th:only-of-type {\n",
              "        vertical-align: middle;\n",
              "    }\n",
              "\n",
              "    .dataframe tbody tr th {\n",
              "        vertical-align: top;\n",
              "    }\n",
              "\n",
              "    .dataframe thead th {\n",
              "        text-align: right;\n",
              "    }\n",
              "</style>\n",
              "<table border=\"1\" class=\"dataframe\">\n",
              "  <thead>\n",
              "    <tr style=\"text-align: right;\">\n",
              "      <th></th>\n",
              "      <th>text</th>\n",
              "      <th>label</th>\n",
              "      <th>label_text</th>\n",
              "    </tr>\n",
              "  </thead>\n",
              "  <tbody>\n",
              "    <tr>\n",
              "      <th>0</th>\n",
              "      <td>I was wondering if anyone out there could enli...</td>\n",
              "      <td>7</td>\n",
              "      <td>rec.autos</td>\n",
              "    </tr>\n",
              "    <tr>\n",
              "      <th>1</th>\n",
              "      <td>A fair number of brave souls who upgraded thei...</td>\n",
              "      <td>4</td>\n",
              "      <td>comp.sys.mac.hardware</td>\n",
              "    </tr>\n",
              "    <tr>\n",
              "      <th>2</th>\n",
              "      <td>well folks, my mac plus finally gave up the gh...</td>\n",
              "      <td>4</td>\n",
              "      <td>comp.sys.mac.hardware</td>\n",
              "    </tr>\n",
              "    <tr>\n",
              "      <th>3</th>\n",
              "      <td>\\nDo you have Weitek's address/phone number?  ...</td>\n",
              "      <td>1</td>\n",
              "      <td>comp.graphics</td>\n",
              "    </tr>\n",
              "    <tr>\n",
              "      <th>4</th>\n",
              "      <td>From article &lt;C5owCB.n3p@world.std.com&gt;, by to...</td>\n",
              "      <td>14</td>\n",
              "      <td>sci.space</td>\n",
              "    </tr>\n",
              "  </tbody>\n",
              "</table>\n",
              "</div>\n",
              "    <div class=\"colab-df-buttons\">\n",
              "\n",
              "  <div class=\"colab-df-container\">\n",
              "    <button class=\"colab-df-convert\" onclick=\"convertToInteractive('df-96bc06db-8e1b-48ee-88cf-9be0ad16109f')\"\n",
              "            title=\"Convert this dataframe to an interactive table.\"\n",
              "            style=\"display:none;\">\n",
              "\n",
              "  <svg xmlns=\"http://www.w3.org/2000/svg\" height=\"24px\" viewBox=\"0 -960 960 960\">\n",
              "    <path d=\"M120-120v-720h720v720H120Zm60-500h600v-160H180v160Zm220 220h160v-160H400v160Zm0 220h160v-160H400v160ZM180-400h160v-160H180v160Zm440 0h160v-160H620v160ZM180-180h160v-160H180v160Zm440 0h160v-160H620v160Z\"/>\n",
              "  </svg>\n",
              "    </button>\n",
              "\n",
              "  <style>\n",
              "    .colab-df-container {\n",
              "      display:flex;\n",
              "      gap: 12px;\n",
              "    }\n",
              "\n",
              "    .colab-df-convert {\n",
              "      background-color: #E8F0FE;\n",
              "      border: none;\n",
              "      border-radius: 50%;\n",
              "      cursor: pointer;\n",
              "      display: none;\n",
              "      fill: #1967D2;\n",
              "      height: 32px;\n",
              "      padding: 0 0 0 0;\n",
              "      width: 32px;\n",
              "    }\n",
              "\n",
              "    .colab-df-convert:hover {\n",
              "      background-color: #E2EBFA;\n",
              "      box-shadow: 0px 1px 2px rgba(60, 64, 67, 0.3), 0px 1px 3px 1px rgba(60, 64, 67, 0.15);\n",
              "      fill: #174EA6;\n",
              "    }\n",
              "\n",
              "    .colab-df-buttons div {\n",
              "      margin-bottom: 4px;\n",
              "    }\n",
              "\n",
              "    [theme=dark] .colab-df-convert {\n",
              "      background-color: #3B4455;\n",
              "      fill: #D2E3FC;\n",
              "    }\n",
              "\n",
              "    [theme=dark] .colab-df-convert:hover {\n",
              "      background-color: #434B5C;\n",
              "      box-shadow: 0px 1px 3px 1px rgba(0, 0, 0, 0.15);\n",
              "      filter: drop-shadow(0px 1px 2px rgba(0, 0, 0, 0.3));\n",
              "      fill: #FFFFFF;\n",
              "    }\n",
              "  </style>\n",
              "\n",
              "    <script>\n",
              "      const buttonEl =\n",
              "        document.querySelector('#df-96bc06db-8e1b-48ee-88cf-9be0ad16109f button.colab-df-convert');\n",
              "      buttonEl.style.display =\n",
              "        google.colab.kernel.accessAllowed ? 'block' : 'none';\n",
              "\n",
              "      async function convertToInteractive(key) {\n",
              "        const element = document.querySelector('#df-96bc06db-8e1b-48ee-88cf-9be0ad16109f');\n",
              "        const dataTable =\n",
              "          await google.colab.kernel.invokeFunction('convertToInteractive',\n",
              "                                                    [key], {});\n",
              "        if (!dataTable) return;\n",
              "\n",
              "        const docLinkHtml = 'Like what you see? Visit the ' +\n",
              "          '<a target=\"_blank\" href=https://colab.research.google.com/notebooks/data_table.ipynb>data table notebook</a>'\n",
              "          + ' to learn more about interactive tables.';\n",
              "        element.innerHTML = '';\n",
              "        dataTable['output_type'] = 'display_data';\n",
              "        await google.colab.output.renderOutput(dataTable, element);\n",
              "        const docLink = document.createElement('div');\n",
              "        docLink.innerHTML = docLinkHtml;\n",
              "        element.appendChild(docLink);\n",
              "      }\n",
              "    </script>\n",
              "  </div>\n",
              "\n",
              "\n",
              "    <div id=\"df-91ab66d1-7c0e-44a3-9598-532cfd6e42fa\">\n",
              "      <button class=\"colab-df-quickchart\" onclick=\"quickchart('df-91ab66d1-7c0e-44a3-9598-532cfd6e42fa')\"\n",
              "                title=\"Suggest charts\"\n",
              "                style=\"display:none;\">\n",
              "\n",
              "<svg xmlns=\"http://www.w3.org/2000/svg\" height=\"24px\"viewBox=\"0 0 24 24\"\n",
              "     width=\"24px\">\n",
              "    <g>\n",
              "        <path d=\"M19 3H5c-1.1 0-2 .9-2 2v14c0 1.1.9 2 2 2h14c1.1 0 2-.9 2-2V5c0-1.1-.9-2-2-2zM9 17H7v-7h2v7zm4 0h-2V7h2v10zm4 0h-2v-4h2v4z\"/>\n",
              "    </g>\n",
              "</svg>\n",
              "      </button>\n",
              "\n",
              "<style>\n",
              "  .colab-df-quickchart {\n",
              "      --bg-color: #E8F0FE;\n",
              "      --fill-color: #1967D2;\n",
              "      --hover-bg-color: #E2EBFA;\n",
              "      --hover-fill-color: #174EA6;\n",
              "      --disabled-fill-color: #AAA;\n",
              "      --disabled-bg-color: #DDD;\n",
              "  }\n",
              "\n",
              "  [theme=dark] .colab-df-quickchart {\n",
              "      --bg-color: #3B4455;\n",
              "      --fill-color: #D2E3FC;\n",
              "      --hover-bg-color: #434B5C;\n",
              "      --hover-fill-color: #FFFFFF;\n",
              "      --disabled-bg-color: #3B4455;\n",
              "      --disabled-fill-color: #666;\n",
              "  }\n",
              "\n",
              "  .colab-df-quickchart {\n",
              "    background-color: var(--bg-color);\n",
              "    border: none;\n",
              "    border-radius: 50%;\n",
              "    cursor: pointer;\n",
              "    display: none;\n",
              "    fill: var(--fill-color);\n",
              "    height: 32px;\n",
              "    padding: 0;\n",
              "    width: 32px;\n",
              "  }\n",
              "\n",
              "  .colab-df-quickchart:hover {\n",
              "    background-color: var(--hover-bg-color);\n",
              "    box-shadow: 0 1px 2px rgba(60, 64, 67, 0.3), 0 1px 3px 1px rgba(60, 64, 67, 0.15);\n",
              "    fill: var(--button-hover-fill-color);\n",
              "  }\n",
              "\n",
              "  .colab-df-quickchart-complete:disabled,\n",
              "  .colab-df-quickchart-complete:disabled:hover {\n",
              "    background-color: var(--disabled-bg-color);\n",
              "    fill: var(--disabled-fill-color);\n",
              "    box-shadow: none;\n",
              "  }\n",
              "\n",
              "  .colab-df-spinner {\n",
              "    border: 2px solid var(--fill-color);\n",
              "    border-color: transparent;\n",
              "    border-bottom-color: var(--fill-color);\n",
              "    animation:\n",
              "      spin 1s steps(1) infinite;\n",
              "  }\n",
              "\n",
              "  @keyframes spin {\n",
              "    0% {\n",
              "      border-color: transparent;\n",
              "      border-bottom-color: var(--fill-color);\n",
              "      border-left-color: var(--fill-color);\n",
              "    }\n",
              "    20% {\n",
              "      border-color: transparent;\n",
              "      border-left-color: var(--fill-color);\n",
              "      border-top-color: var(--fill-color);\n",
              "    }\n",
              "    30% {\n",
              "      border-color: transparent;\n",
              "      border-left-color: var(--fill-color);\n",
              "      border-top-color: var(--fill-color);\n",
              "      border-right-color: var(--fill-color);\n",
              "    }\n",
              "    40% {\n",
              "      border-color: transparent;\n",
              "      border-right-color: var(--fill-color);\n",
              "      border-top-color: var(--fill-color);\n",
              "    }\n",
              "    60% {\n",
              "      border-color: transparent;\n",
              "      border-right-color: var(--fill-color);\n",
              "    }\n",
              "    80% {\n",
              "      border-color: transparent;\n",
              "      border-right-color: var(--fill-color);\n",
              "      border-bottom-color: var(--fill-color);\n",
              "    }\n",
              "    90% {\n",
              "      border-color: transparent;\n",
              "      border-bottom-color: var(--fill-color);\n",
              "    }\n",
              "  }\n",
              "</style>\n",
              "\n",
              "      <script>\n",
              "        async function quickchart(key) {\n",
              "          const quickchartButtonEl =\n",
              "            document.querySelector('#' + key + ' button');\n",
              "          quickchartButtonEl.disabled = true;  // To prevent multiple clicks.\n",
              "          quickchartButtonEl.classList.add('colab-df-spinner');\n",
              "          try {\n",
              "            const charts = await google.colab.kernel.invokeFunction(\n",
              "                'suggestCharts', [key], {});\n",
              "          } catch (error) {\n",
              "            console.error('Error during call to suggestCharts:', error);\n",
              "          }\n",
              "          quickchartButtonEl.classList.remove('colab-df-spinner');\n",
              "          quickchartButtonEl.classList.add('colab-df-quickchart-complete');\n",
              "        }\n",
              "        (() => {\n",
              "          let quickchartButtonEl =\n",
              "            document.querySelector('#df-91ab66d1-7c0e-44a3-9598-532cfd6e42fa button');\n",
              "          quickchartButtonEl.style.display =\n",
              "            google.colab.kernel.accessAllowed ? 'block' : 'none';\n",
              "        })();\n",
              "      </script>\n",
              "    </div>\n",
              "\n",
              "    </div>\n",
              "  </div>\n"
            ],
            "text/plain": [
              "                                                text  label  \\\n",
              "0  I was wondering if anyone out there could enli...      7   \n",
              "1  A fair number of brave souls who upgraded thei...      4   \n",
              "2  well folks, my mac plus finally gave up the gh...      4   \n",
              "3  \\nDo you have Weitek's address/phone number?  ...      1   \n",
              "4  From article <C5owCB.n3p@world.std.com>, by to...     14   \n",
              "\n",
              "              label_text  \n",
              "0              rec.autos  \n",
              "1  comp.sys.mac.hardware  \n",
              "2  comp.sys.mac.hardware  \n",
              "3          comp.graphics  \n",
              "4              sci.space  "
            ]
          },
          "execution_count": 33,
          "metadata": {},
          "output_type": "execute_result"
        }
      ],
      "source": [
        "#Convert Dataset to pandas DF for exploration, filtering, quick modifications\n",
        "import pandas as pd\n",
        "from datasets import load_dataset\n",
        "\n",
        "# Load the dataset\n",
        "dataset = load_dataset(\"SetFit/20_newsgroups\", split=\"train\")\n",
        "\n",
        "# Convert to DataFrame\n",
        "df = dataset.to_pandas()\n",
        "\n",
        "# Explore it\n",
        "df.head()"
      ]
    },
    {
      "cell_type": "code",
      "execution_count": null,
      "metadata": {
        "id": "8oXNrtgqqWbt"
      },
      "outputs": [],
      "source": [
        "#convert back to DF hugging Face Dataset\n",
        "from datasets import Dataset\n",
        "\n",
        "new_dataset = Dataset.from_pandas(df)"
      ]
    },
    {
      "cell_type": "code",
      "execution_count": null,
      "metadata": {
        "colab": {
          "base_uri": "https://localhost:8080/"
        },
        "id": "nUW0nFBYpEsT",
        "outputId": "5f0f8bd4-8160-498e-b80b-1255229b278f"
      },
      "outputs": [
        {
          "data": {
            "text/plain": [
              "DatasetDict({\n",
              "    train: Dataset({\n",
              "        features: ['text', 'label', 'label_text'],\n",
              "        num_rows: 11314\n",
              "    })\n",
              "    test: Dataset({\n",
              "        features: ['text', 'label', 'label_text'],\n",
              "        num_rows: 7532\n",
              "    })\n",
              "})"
            ]
          },
          "execution_count": 35,
          "metadata": {},
          "output_type": "execute_result"
        }
      ],
      "source": [
        "from datasets import Dataset, DatasetDict\n",
        "# assign the splits\n",
        "train = Dataset.from_pandas(ds_train)\n",
        "test = Dataset.from_pandas(ds_test)\n",
        "# reconstruct both datasets into a Dataset Dict object\n",
        "new_ds = DatasetDict(\n",
        "    {\n",
        "        'train': train,\n",
        "        'test': test\n",
        "    }\n",
        ")\n",
        "# view the resulting dataset dict object\n",
        "new_ds"
      ]
    }
  ],
  "metadata": {
    "colab": {
      "provenance": [],
      "toc_visible": true,
      "include_colab_link": true
    },
    "kernelspec": {
      "display_name": "Python 3",
      "name": "python3"
    },
    "language_info": {
      "name": "python"
    }
  },
  "nbformat": 4,
  "nbformat_minor": 0
}
