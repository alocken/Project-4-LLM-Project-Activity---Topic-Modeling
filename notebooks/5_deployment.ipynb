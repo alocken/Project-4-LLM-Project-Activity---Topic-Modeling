{
  "nbformat": 4,
  "nbformat_minor": 0,
  "metadata": {
    "colab": {
      "provenance": []
    },
    "kernelspec": {
      "name": "python3",
      "display_name": "Python 3"
    },
    "language_info": {
      "name": "python"
    }
  },
  "cells": [
    {
      "cell_type": "markdown",
      "source": [
        "# **Project 4: LLM Project Activity - Topic Modeling**\n",
        "### **Week 24** 5-Deployment\n",
        "Discuss deployment strategies and ethical considerations for your project. (LLM Project)\n",
        "\n",
        "**Tailored deployment strategy for BERTopic-based NLP test classification project using a fine-tuned LLM (microsoft/MiniLM-L12-H384-uncased) that includes ethical considerations:**\n",
        "1. Finalize Fine-Tuning before deploying model to validate. This includes use of a diverse validation set, label relevance and robustness, and confirmation no underrepresented classes. This would results in a model ready for downstream classification or use in BERTopic pipeline.\n",
        "2. Evaluate Model Performance to ensure model meets expected standards. This includes evaluating the model's metrics and delivering an evaluation report.\n",
        "3. Prepare for deployment by determining how/where the model will be hosted. This includes evaluating options for suitability and available tools. This would result in a plan and environment for hosting.\n",
        "4. Develop APIs for integration to connect with frontend apps, databases, or user interfaces. This would deliver a RESTful API for real-time predications.\n",
        "5. Complete Security and Compliance Checks to ensure a secured API with basic compliance documentation.\n",
        "6. Staging/Production deployment would use a staging environment, before going live, to simulate inputs/interactions, log system/model metrics, and stress test for inference issues. This would support delivering a fully deployed, test-passed system.\n",
        "7. Monitoring/Maintenance to ensure ongoing evaluation and deliverables could be dashboards.\n",
        "8. Feedback and Iterative Improvements to ensure feedback loops to support retraining mechanism as required.\n",
        "\n",
        "**Ethical Considerations in deployment:**\n",
        "- Bias - imbalanced training data would lend to topic predications that are skewed. To mitigate this, rebalance training day and use F1 score over accuracy.\n",
        "- Privacy - personal data may ben in user test. To ensure this is mitigated, anonymize logs, follow data retention policies.\n",
        "- Misuse - where model misclassification could impact downstream decisioning. To mitigate, providing confidence scores and support or allow overrides.\n",
        "- Transparency - nature of transformers could limit transparency. To mitigate, document model limitations and show label explanations.\n"
      ],
      "metadata": {
        "id": "v9p-Vm9zwO5h"
      }
    }
  ]
}
