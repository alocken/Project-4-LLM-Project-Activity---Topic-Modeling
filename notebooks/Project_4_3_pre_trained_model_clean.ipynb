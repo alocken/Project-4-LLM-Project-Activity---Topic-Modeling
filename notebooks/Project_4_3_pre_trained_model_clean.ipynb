{
 "cells": [
  {
   "cell_type": "markdown",
   "metadata": {
    "id": "1cbmHPmWsqhB"
   },
   "source": [
    "# **Project 4: LLM Project Activity - Topic Modeling**\n",
    "\n",
    "\n"
   ]
  },
  {
   "cell_type": "markdown",
   "metadata": {
    "id": "ETetHoc8bWCX"
   },
   "source": [
    "### **Week 23** Project 4: 3-Pre-Trained-Model\n",
    "* Select a pre-trained model for your project and perform data preprocessing. (9.4)\n",
    "* Apply transfer learning concepts to enhance the model, followed by evaluating and optimizing the project model and creating an LLM Model Report. (9.5)"
   ]
  },
  {
   "cell_type": "markdown",
   "metadata": {
    "id": "IT6teTgw1hLg"
   },
   "source": [
    "**Observation:**\n",
    "After research, conclude that Hugging Face's pipeline does not have built-in support for topic modeling as it does for sentiment analysis or summarization. As topic modeling is an unsupervised NLP task, will require use of a different library. In response, will use a pretrained transformer model for embedding through BERTopic.\n",
    "Notes: given this requirement, the course requests run this Hugging Face pipeline format:\n",
    "\n",
    "Hugging Face pipeline()\n",
    "data = ['list of the text for inference']\n",
    "preds = pipe(data)\n",
    "\n",
    "But as this process will use BERTopic, the following will be used to match the pipeline format and complete required passing of Text Data correctly:\n",
    "docs = ds_test_df['text'].tolist()\n",
    "topics, probs = topic_model.transform(docs)\n",
    "\n",
    "Additionally, Hugging Face pipeline expects:\n",
    "- A list of strings = returns predictions (classification, generation, etc.)\n",
    "\n",
    "BERTopic expects the same input format:\n",
    "- A list of strings (documents) = returns topics and their probabilities."
   ]
  },
  {
   "cell_type": "markdown",
   "metadata": {
    "id": "MZSKSq5Xtjl0"
   },
   "source": [
    "Select a pre-trained model for your project and perform data preprocessing. (9.4)"
   ]
  },
  {
   "cell_type": "code",
   "execution_count": null,
   "metadata": {
    "colab": {
     "base_uri": "https://localhost:8080/"
    },
    "id": "HQ5cGo3cbc5p",
    "outputId": "b3684b36-2bf9-49b3-e975-0d80ca6632eb"
   },
   "outputs": [
    {
     "name": "stdout",
     "output_type": "stream",
     "text": [
      "Requirement already satisfied: bertopic in /usr/local/lib/python3.11/dist-packages (0.17.0)\n",
      "Requirement already satisfied: hdbscan>=0.8.29 in /usr/local/lib/python3.11/dist-packages (from bertopic) (0.8.40)\n",
      "Requirement already satisfied: numpy>=1.20.0 in /usr/local/lib/python3.11/dist-packages (from bertopic) (2.0.2)\n",
      "Requirement already satisfied: pandas>=1.1.5 in /usr/local/lib/python3.11/dist-packages (from bertopic) (2.2.2)\n",
      "Requirement already satisfied: plotly>=4.7.0 in /usr/local/lib/python3.11/dist-packages (from bertopic) (5.24.1)\n",
      "Requirement already satisfied: scikit-learn>=1.0 in /usr/local/lib/python3.11/dist-packages (from bertopic) (1.6.1)\n",
      "Requirement already satisfied: sentence-transformers>=0.4.1 in /usr/local/lib/python3.11/dist-packages (from bertopic) (4.1.0)\n",
      "Requirement already satisfied: tqdm>=4.41.1 in /usr/local/lib/python3.11/dist-packages (from bertopic) (4.67.1)\n",
      "Requirement already satisfied: umap-learn>=0.5.0 in /usr/local/lib/python3.11/dist-packages (from bertopic) (0.5.7)\n",
      "Requirement already satisfied: scipy>=1.0 in /usr/local/lib/python3.11/dist-packages (from hdbscan>=0.8.29->bertopic) (1.15.3)\n",
      "Requirement already satisfied: joblib>=1.0 in /usr/local/lib/python3.11/dist-packages (from hdbscan>=0.8.29->bertopic) (1.5.1)\n",
      "Requirement already satisfied: python-dateutil>=2.8.2 in /usr/local/lib/python3.11/dist-packages (from pandas>=1.1.5->bertopic) (2.9.0.post0)\n",
      "Requirement already satisfied: pytz>=2020.1 in /usr/local/lib/python3.11/dist-packages (from pandas>=1.1.5->bertopic) (2025.2)\n",
      "Requirement already satisfied: tzdata>=2022.7 in /usr/local/lib/python3.11/dist-packages (from pandas>=1.1.5->bertopic) (2025.2)\n",
      "Requirement already satisfied: tenacity>=6.2.0 in /usr/local/lib/python3.11/dist-packages (from plotly>=4.7.0->bertopic) (8.5.0)\n",
      "Requirement already satisfied: packaging in /usr/local/lib/python3.11/dist-packages (from plotly>=4.7.0->bertopic) (25.0)\n",
      "Requirement already satisfied: threadpoolctl>=3.1.0 in /usr/local/lib/python3.11/dist-packages (from scikit-learn>=1.0->bertopic) (3.6.0)\n",
      "Requirement already satisfied: transformers<5.0.0,>=4.41.0 in /usr/local/lib/python3.11/dist-packages (from sentence-transformers>=0.4.1->bertopic) (4.53.0)\n",
      "Requirement already satisfied: torch>=1.11.0 in /usr/local/lib/python3.11/dist-packages (from sentence-transformers>=0.4.1->bertopic) (2.6.0+cu124)\n",
      "Requirement already satisfied: huggingface-hub>=0.20.0 in /usr/local/lib/python3.11/dist-packages (from sentence-transformers>=0.4.1->bertopic) (0.33.1)\n",
      "Requirement already satisfied: Pillow in /usr/local/lib/python3.11/dist-packages (from sentence-transformers>=0.4.1->bertopic) (11.2.1)\n",
      "Requirement already satisfied: typing_extensions>=4.5.0 in /usr/local/lib/python3.11/dist-packages (from sentence-transformers>=0.4.1->bertopic) (4.14.0)\n",
      "Requirement already satisfied: numba>=0.51.2 in /usr/local/lib/python3.11/dist-packages (from umap-learn>=0.5.0->bertopic) (0.60.0)\n",
      "Requirement already satisfied: pynndescent>=0.5 in /usr/local/lib/python3.11/dist-packages (from umap-learn>=0.5.0->bertopic) (0.5.13)\n",
      "Requirement already satisfied: filelock in /usr/local/lib/python3.11/dist-packages (from huggingface-hub>=0.20.0->sentence-transformers>=0.4.1->bertopic) (3.18.0)\n",
      "Requirement already satisfied: fsspec>=2023.5.0 in /usr/local/lib/python3.11/dist-packages (from huggingface-hub>=0.20.0->sentence-transformers>=0.4.1->bertopic) (2025.3.0)\n",
      "Requirement already satisfied: pyyaml>=5.1 in /usr/local/lib/python3.11/dist-packages (from huggingface-hub>=0.20.0->sentence-transformers>=0.4.1->bertopic) (6.0.2)\n",
      "Requirement already satisfied: requests in /usr/local/lib/python3.11/dist-packages (from huggingface-hub>=0.20.0->sentence-transformers>=0.4.1->bertopic) (2.32.4)\n",
      "Requirement already satisfied: hf-xet<2.0.0,>=1.1.2 in /usr/local/lib/python3.11/dist-packages (from huggingface-hub>=0.20.0->sentence-transformers>=0.4.1->bertopic) (1.1.5)\n",
      "Requirement already satisfied: llvmlite<0.44,>=0.43.0dev0 in /usr/local/lib/python3.11/dist-packages (from numba>=0.51.2->umap-learn>=0.5.0->bertopic) (0.43.0)\n",
      "Requirement already satisfied: six>=1.5 in /usr/local/lib/python3.11/dist-packages (from python-dateutil>=2.8.2->pandas>=1.1.5->bertopic) (1.17.0)\n",
      "Requirement already satisfied: networkx in /usr/local/lib/python3.11/dist-packages (from torch>=1.11.0->sentence-transformers>=0.4.1->bertopic) (3.5)\n",
      "Requirement already satisfied: jinja2 in /usr/local/lib/python3.11/dist-packages (from torch>=1.11.0->sentence-transformers>=0.4.1->bertopic) (3.1.6)\n",
      "Requirement already satisfied: nvidia-cuda-nvrtc-cu12==12.4.127 in /usr/local/lib/python3.11/dist-packages (from torch>=1.11.0->sentence-transformers>=0.4.1->bertopic) (12.4.127)\n",
      "Requirement already satisfied: nvidia-cuda-runtime-cu12==12.4.127 in /usr/local/lib/python3.11/dist-packages (from torch>=1.11.0->sentence-transformers>=0.4.1->bertopic) (12.4.127)\n",
      "Requirement already satisfied: nvidia-cuda-cupti-cu12==12.4.127 in /usr/local/lib/python3.11/dist-packages (from torch>=1.11.0->sentence-transformers>=0.4.1->bertopic) (12.4.127)\n",
      "Requirement already satisfied: nvidia-cudnn-cu12==9.1.0.70 in /usr/local/lib/python3.11/dist-packages (from torch>=1.11.0->sentence-transformers>=0.4.1->bertopic) (9.1.0.70)\n",
      "Requirement already satisfied: nvidia-cublas-cu12==12.4.5.8 in /usr/local/lib/python3.11/dist-packages (from torch>=1.11.0->sentence-transformers>=0.4.1->bertopic) (12.4.5.8)\n",
      "Requirement already satisfied: nvidia-cufft-cu12==11.2.1.3 in /usr/local/lib/python3.11/dist-packages (from torch>=1.11.0->sentence-transformers>=0.4.1->bertopic) (11.2.1.3)\n",
      "Requirement already satisfied: nvidia-curand-cu12==10.3.5.147 in /usr/local/lib/python3.11/dist-packages (from torch>=1.11.0->sentence-transformers>=0.4.1->bertopic) (10.3.5.147)\n",
      "Requirement already satisfied: nvidia-cusolver-cu12==11.6.1.9 in /usr/local/lib/python3.11/dist-packages (from torch>=1.11.0->sentence-transformers>=0.4.1->bertopic) (11.6.1.9)\n",
      "Requirement already satisfied: nvidia-cusparse-cu12==12.3.1.170 in /usr/local/lib/python3.11/dist-packages (from torch>=1.11.0->sentence-transformers>=0.4.1->bertopic) (12.3.1.170)\n",
      "Requirement already satisfied: nvidia-cusparselt-cu12==0.6.2 in /usr/local/lib/python3.11/dist-packages (from torch>=1.11.0->sentence-transformers>=0.4.1->bertopic) (0.6.2)\n",
      "Requirement already satisfied: nvidia-nccl-cu12==2.21.5 in /usr/local/lib/python3.11/dist-packages (from torch>=1.11.0->sentence-transformers>=0.4.1->bertopic) (2.21.5)\n",
      "Requirement already satisfied: nvidia-nvtx-cu12==12.4.127 in /usr/local/lib/python3.11/dist-packages (from torch>=1.11.0->sentence-transformers>=0.4.1->bertopic) (12.4.127)\n",
      "Requirement already satisfied: nvidia-nvjitlink-cu12==12.4.127 in /usr/local/lib/python3.11/dist-packages (from torch>=1.11.0->sentence-transformers>=0.4.1->bertopic) (12.4.127)\n",
      "Requirement already satisfied: triton==3.2.0 in /usr/local/lib/python3.11/dist-packages (from torch>=1.11.0->sentence-transformers>=0.4.1->bertopic) (3.2.0)\n",
      "Requirement already satisfied: sympy==1.13.1 in /usr/local/lib/python3.11/dist-packages (from torch>=1.11.0->sentence-transformers>=0.4.1->bertopic) (1.13.1)\n",
      "Requirement already satisfied: mpmath<1.4,>=1.1.0 in /usr/local/lib/python3.11/dist-packages (from sympy==1.13.1->torch>=1.11.0->sentence-transformers>=0.4.1->bertopic) (1.3.0)\n",
      "Requirement already satisfied: regex!=2019.12.17 in /usr/local/lib/python3.11/dist-packages (from transformers<5.0.0,>=4.41.0->sentence-transformers>=0.4.1->bertopic) (2024.11.6)\n",
      "Requirement already satisfied: tokenizers<0.22,>=0.21 in /usr/local/lib/python3.11/dist-packages (from transformers<5.0.0,>=4.41.0->sentence-transformers>=0.4.1->bertopic) (0.21.2)\n",
      "Requirement already satisfied: safetensors>=0.4.3 in /usr/local/lib/python3.11/dist-packages (from transformers<5.0.0,>=4.41.0->sentence-transformers>=0.4.1->bertopic) (0.5.3)\n",
      "Requirement already satisfied: MarkupSafe>=2.0 in /usr/local/lib/python3.11/dist-packages (from jinja2->torch>=1.11.0->sentence-transformers>=0.4.1->bertopic) (3.0.2)\n",
      "Requirement already satisfied: charset_normalizer<4,>=2 in /usr/local/lib/python3.11/dist-packages (from requests->huggingface-hub>=0.20.0->sentence-transformers>=0.4.1->bertopic) (3.4.2)\n",
      "Requirement already satisfied: idna<4,>=2.5 in /usr/local/lib/python3.11/dist-packages (from requests->huggingface-hub>=0.20.0->sentence-transformers>=0.4.1->bertopic) (3.10)\n",
      "Requirement already satisfied: urllib3<3,>=1.21.1 in /usr/local/lib/python3.11/dist-packages (from requests->huggingface-hub>=0.20.0->sentence-transformers>=0.4.1->bertopic) (2.5.0)\n",
      "Requirement already satisfied: certifi>=2017.4.17 in /usr/local/lib/python3.11/dist-packages (from requests->huggingface-hub>=0.20.0->sentence-transformers>=0.4.1->bertopic) (2025.6.15)\n"
     ]
    }
   ],
   "source": [
    "#install required packages\n",
    "!pip install bertopic"
   ]
  },
  {
   "cell_type": "code",
   "execution_count": null,
   "metadata": {
    "colab": {
     "base_uri": "https://localhost:8080/",
     "height": 621,
     "referenced_widgets": [
      "b4a9af64f13945f48b2b1b4464aaf836",
      "fe570c5aafae4fc2809e13e1107b9ab7",
      "3ce2b3cf41e84393a0234d17a9c395a3",
      "7a79f5564db24d16a62ab47b08cb9535",
      "9dbfd566a0ec48379291349d00700228",
      "d3e50eda578e46e492497aac9bc05545",
      "6b4a4433ac9940b98c7cbf206fce2f6f",
      "d76f07985a2d4071bf57b6098c00ce2c",
      "b47fc62f6b3f49f9a53be40c83db400b",
      "81b4bb05d55f40fdb7d74c3b42cad5d6",
      "ed52bfb8cb9c4a16b842713e5fb38ec2",
      "f870fe1f77eb412ebc8de3e504850436",
      "b611e7a0b018486cb60c5c37766a4272",
      "a32cbabb9aa14101be9c136ff67799d0",
      "9bc53c5caac24efdae2cbf0b1c97a352",
      "a87d3ec0650143049d44080ce45a65db",
      "edb9711812b144aba559247e3e57ef45",
      "be305c235a9b48908aab8be2d3a380af",
      "d357b0ebecf24f2fab5d6cc872599d56",
      "4429a2934fbc4ac6bbe44e07bbb77066",
      "b6cd0329f4144690a9e73c96557bd9cd",
      "13490d7caa304ec4b9092df114f93bbf",
      "9bdfa5d0f5554c6ab3f44717f813b2f3",
      "ec297e7bc43e47b5968a72e84da99590",
      "ec0613453ee84d0ca9a0ea3ee7271845",
      "523deb7d4d6a406f83ffc4c486ee438d",
      "d15de429015d4923b1555b709e682519",
      "d1b2e672f78c493db8dcfe0fccb351a5",
      "7d3c180741dd446282127e63737c2530",
      "d1a594e5dccf4c78a5dceb3a7f0d5828",
      "72069a8893334ae6b417c644bd601d2c",
      "5a7fe5f3e52f43e5afda28b0ef2e47dc",
      "58eaead643d740dbb823a9a09d1beab1",
      "2a963a242c204a909be490fa13ae6187",
      "ebca8b14d9834ff3a5d9b68476d4367c",
      "e78f13b7bd0b45dba9341a0971e959d7",
      "bd1523507e1c412b8b98a8c6a8eacbb4",
      "5fdcb893dd834682bdb804095c743110",
      "f434b05e73d84b89820cdca3cd024ea6",
      "32ee2eeb9f194878ba49afca5ca2b801",
      "67d35472cfb7433cbdd42d0b6ff261eb",
      "3e8c0cc03bed48afbf3d31a42ee1e25f",
      "f1014cb8c1ad41a4ba5c0bc21f0c11b5",
      "e2a55f11d4504e9a842f9d322dde6caa",
      "900e152b8790487ea78fb4822301f5d2",
      "2ab08ad6b1864302ace466fb7eff6909",
      "b73783566c6f44a69c8bace4a3fd1372",
      "e80e68dec7604f79b572f6fcfd34f5f1",
      "08ced867efa447e68f0556e592e7d614",
      "d6bf62fd0534440a843b6318e08f3be2",
      "7e94742ba3c4406ca3e0b9ffab275a47",
      "cd5e0bfd30f0413ab3f8775992656ecd",
      "e6da56eb2fa9404cbc3255b8c8be649c",
      "a591fc703b3f433088b20a9fc7ebecf9",
      "b17eedf0838c4169bb984e98a76b5be2"
     ]
    },
    "id": "xhAoZj6NbfIE",
    "outputId": "4cdfc76f-b123-4584-e7b1-673ca63a9129"
   },
   "outputs": [
    {
     "data": {
      "application/vnd.jupyter.widget-view+json": {
       "model_id": "b4a9af64f13945f48b2b1b4464aaf836",
       "version_major": 2,
       "version_minor": 0
      },
      "text/plain": [
       "topics.json:   0%|          | 0.00/10.7M [00:00<?, ?B/s]"
      ]
     },
     "metadata": {},
     "output_type": "display_data"
    },
    {
     "data": {
      "application/vnd.jupyter.widget-view+json": {
       "model_id": "f870fe1f77eb412ebc8de3e504850436",
       "version_major": 2,
       "version_minor": 0
      },
      "text/plain": [
       "config.json:   0%|          | 0.00/236 [00:00<?, ?B/s]"
      ]
     },
     "metadata": {},
     "output_type": "display_data"
    },
    {
     "data": {
      "application/vnd.jupyter.widget-view+json": {
       "model_id": "9bdfa5d0f5554c6ab3f44717f813b2f3",
       "version_major": 2,
       "version_minor": 0
      },
      "text/plain": [
       "topic_embeddings.safetensors:   0%|          | 0.00/9.66M [00:00<?, ?B/s]"
      ]
     },
     "metadata": {},
     "output_type": "display_data"
    },
    {
     "data": {
      "application/vnd.jupyter.widget-view+json": {
       "model_id": "2a963a242c204a909be490fa13ae6187",
       "version_major": 2,
       "version_minor": 0
      },
      "text/plain": [
       "ctfidf_config.json: 0.00B [00:00, ?B/s]"
      ]
     },
     "metadata": {},
     "output_type": "display_data"
    },
    {
     "data": {
      "application/vnd.jupyter.widget-view+json": {
       "model_id": "900e152b8790487ea78fb4822301f5d2",
       "version_major": 2,
       "version_minor": 0
      },
      "text/plain": [
       "ctfidf.safetensors:   0%|          | 0.00/5.04M [00:00<?, ?B/s]"
      ]
     },
     "metadata": {},
     "output_type": "display_data"
    },
    {
     "name": "stderr",
     "output_type": "stream",
     "text": [
      "2025-07-01 03:14:43,468 - BERTopic - WARNING: You are loading a BERTopic model without explicitly defining an embedding model. If you want to also load in an embedding model, make sure to use `BERTopic.load(my_model, embedding_model=my_embedding_model)`.\n"
     ]
    },
    {
     "data": {
      "application/vnd.google.colaboratory.intrinsic+json": {
       "summary": "{\n  \"name\": \"topic_model\",\n  \"rows\": 6286,\n  \"fields\": [\n    {\n      \"column\": \"Topic\",\n      \"properties\": {\n        \"dtype\": \"number\",\n        \"std\": 1814,\n        \"min\": -1,\n        \"max\": 6284,\n        \"num_unique_values\": 6286,\n        \"samples\": [\n          4440,\n          3657,\n          6065\n        ],\n        \"semantic_type\": \"\",\n        \"description\": \"\"\n      }\n    },\n    {\n      \"column\": \"Count\",\n      \"properties\": {\n        \"dtype\": \"number\",\n        \"std\": 3051,\n        \"min\": 15,\n        \"max\": 241723,\n        \"num_unique_values\": 470,\n        \"samples\": [\n          828,\n          695,\n          1056\n        ],\n        \"semantic_type\": \"\",\n        \"description\": \"\"\n      }\n    },\n    {\n      \"column\": \"Name\",\n      \"properties\": {\n        \"dtype\": \"string\",\n        \"num_unique_values\": 6286,\n        \"samples\": [\n          \"4440_free_crazy_interesting_social\",\n          \"3657_issues_minutes_crypto_news\",\n          \"6065_simple_term_reward_claim\"\n        ],\n        \"semantic_type\": \"\",\n        \"description\": \"\"\n      }\n    },\n    {\n      \"column\": \"Representation\",\n      \"properties\": {\n        \"dtype\": \"object\",\n        \"semantic_type\": \"\",\n        \"description\": \"\"\n      }\n    },\n    {\n      \"column\": \"Representative_Docs\",\n      \"properties\": {\n        \"dtype\": \"number\",\n        \"std\": null,\n        \"min\": null,\n        \"max\": null,\n        \"num_unique_values\": 0,\n        \"samples\": [],\n        \"semantic_type\": \"\",\n        \"description\": \"\"\n      }\n    }\n  ]\n}",
       "type": "dataframe"
      },
      "text/html": [
       "\n",
       "  <div id=\"df-33ebf852-b915-49b0-808b-f1acc05966bb\" class=\"colab-df-container\">\n",
       "    <div>\n",
       "<style scoped>\n",
       "    .dataframe tbody tr th:only-of-type {\n",
       "        vertical-align: middle;\n",
       "    }\n",
       "\n",
       "    .dataframe tbody tr th {\n",
       "        vertical-align: top;\n",
       "    }\n",
       "\n",
       "    .dataframe thead th {\n",
       "        text-align: right;\n",
       "    }\n",
       "</style>\n",
       "<table border=\"1\" class=\"dataframe\">\n",
       "  <thead>\n",
       "    <tr style=\"text-align: right;\">\n",
       "      <th></th>\n",
       "      <th>Topic</th>\n",
       "      <th>Count</th>\n",
       "      <th>Name</th>\n",
       "      <th>Representation</th>\n",
       "      <th>Representative_Docs</th>\n",
       "    </tr>\n",
       "  </thead>\n",
       "  <tbody>\n",
       "    <tr>\n",
       "      <th>0</th>\n",
       "      <td>-1</td>\n",
       "      <td>241723</td>\n",
       "      <td>-1_liquidity_coins_bro_sorry</td>\n",
       "      <td>[liquidity, coins, bro, sorry, morning, answer...</td>\n",
       "      <td>NaN</td>\n",
       "    </tr>\n",
       "    <tr>\n",
       "      <th>1</th>\n",
       "      <td>0</td>\n",
       "      <td>3993</td>\n",
       "      <td>0_token_tokens_supply_value</td>\n",
       "      <td>[token, tokens, supply, value, price, holders,...</td>\n",
       "      <td>NaN</td>\n",
       "    </tr>\n",
       "    <tr>\n",
       "      <th>2</th>\n",
       "      <td>1</td>\n",
       "      <td>2185</td>\n",
       "      <td>1_main_problem_bro_tho</td>\n",
       "      <td>[main, problem, bro, tho, brother, form, solut...</td>\n",
       "      <td>NaN</td>\n",
       "    </tr>\n",
       "    <tr>\n",
       "      <th>3</th>\n",
       "      <td>2</td>\n",
       "      <td>2122</td>\n",
       "      <td>2_twitter_comment_space_social</td>\n",
       "      <td>[twitter, comment, space, social, media, post,...</td>\n",
       "      <td>NaN</td>\n",
       "    </tr>\n",
       "    <tr>\n",
       "      <th>4</th>\n",
       "      <td>3</td>\n",
       "      <td>2100</td>\n",
       "      <td>3_project_projects_interesting_research</td>\n",
       "      <td>[project, projects, interesting, research, mat...</td>\n",
       "      <td>NaN</td>\n",
       "    </tr>\n",
       "    <tr>\n",
       "      <th>...</th>\n",
       "      <td>...</td>\n",
       "      <td>...</td>\n",
       "      <td>...</td>\n",
       "      <td>...</td>\n",
       "      <td>...</td>\n",
       "    </tr>\n",
       "    <tr>\n",
       "      <th>6281</th>\n",
       "      <td>6280</td>\n",
       "      <td>15</td>\n",
       "      <td>6280_listing_project_list_simple</td>\n",
       "      <td>[listing, project, list, simple, fine, team, a...</td>\n",
       "      <td>NaN</td>\n",
       "    </tr>\n",
       "    <tr>\n",
       "      <th>6282</th>\n",
       "      <td>6281</td>\n",
       "      <td>15</td>\n",
       "      <td>6281_code_phone_number_withdraw</td>\n",
       "      <td>[code, phone, number, withdraw, wrong, correct...</td>\n",
       "      <td>NaN</td>\n",
       "    </tr>\n",
       "    <tr>\n",
       "      <th>6283</th>\n",
       "      <td>6282</td>\n",
       "      <td>15</td>\n",
       "      <td>6282_fun_details_dm_</td>\n",
       "      <td>[fun, details, dm, , , , , , , ]</td>\n",
       "      <td>NaN</td>\n",
       "    </tr>\n",
       "    <tr>\n",
       "      <th>6284</th>\n",
       "      <td>6283</td>\n",
       "      <td>15</td>\n",
       "      <td>6283_different_okay_wrong_people</td>\n",
       "      <td>[different, okay, wrong, people, lol, sure, da...</td>\n",
       "      <td>NaN</td>\n",
       "    </tr>\n",
       "    <tr>\n",
       "      <th>6285</th>\n",
       "      <td>6284</td>\n",
       "      <td>15</td>\n",
       "      <td>6284_thought_bitcoin_members_service</td>\n",
       "      <td>[thought, bitcoin, members, service, people, d...</td>\n",
       "      <td>NaN</td>\n",
       "    </tr>\n",
       "  </tbody>\n",
       "</table>\n",
       "<p>6286 rows × 5 columns</p>\n",
       "</div>\n",
       "    <div class=\"colab-df-buttons\">\n",
       "\n",
       "  <div class=\"colab-df-container\">\n",
       "    <button class=\"colab-df-convert\" onclick=\"convertToInteractive('df-33ebf852-b915-49b0-808b-f1acc05966bb')\"\n",
       "            title=\"Convert this dataframe to an interactive table.\"\n",
       "            style=\"display:none;\">\n",
       "\n",
       "  <svg xmlns=\"http://www.w3.org/2000/svg\" height=\"24px\" viewBox=\"0 -960 960 960\">\n",
       "    <path d=\"M120-120v-720h720v720H120Zm60-500h600v-160H180v160Zm220 220h160v-160H400v160Zm0 220h160v-160H400v160ZM180-400h160v-160H180v160Zm440 0h160v-160H620v160ZM180-180h160v-160H180v160Zm440 0h160v-160H620v160Z\"/>\n",
       "  </svg>\n",
       "    </button>\n",
       "\n",
       "  <style>\n",
       "    .colab-df-container {\n",
       "      display:flex;\n",
       "      gap: 12px;\n",
       "    }\n",
       "\n",
       "    .colab-df-convert {\n",
       "      background-color: #E8F0FE;\n",
       "      border: none;\n",
       "      border-radius: 50%;\n",
       "      cursor: pointer;\n",
       "      display: none;\n",
       "      fill: #1967D2;\n",
       "      height: 32px;\n",
       "      padding: 0 0 0 0;\n",
       "      width: 32px;\n",
       "    }\n",
       "\n",
       "    .colab-df-convert:hover {\n",
       "      background-color: #E2EBFA;\n",
       "      box-shadow: 0px 1px 2px rgba(60, 64, 67, 0.3), 0px 1px 3px 1px rgba(60, 64, 67, 0.15);\n",
       "      fill: #174EA6;\n",
       "    }\n",
       "\n",
       "    .colab-df-buttons div {\n",
       "      margin-bottom: 4px;\n",
       "    }\n",
       "\n",
       "    [theme=dark] .colab-df-convert {\n",
       "      background-color: #3B4455;\n",
       "      fill: #D2E3FC;\n",
       "    }\n",
       "\n",
       "    [theme=dark] .colab-df-convert:hover {\n",
       "      background-color: #434B5C;\n",
       "      box-shadow: 0px 1px 3px 1px rgba(0, 0, 0, 0.15);\n",
       "      filter: drop-shadow(0px 1px 2px rgba(0, 0, 0, 0.3));\n",
       "      fill: #FFFFFF;\n",
       "    }\n",
       "  </style>\n",
       "\n",
       "    <script>\n",
       "      const buttonEl =\n",
       "        document.querySelector('#df-33ebf852-b915-49b0-808b-f1acc05966bb button.colab-df-convert');\n",
       "      buttonEl.style.display =\n",
       "        google.colab.kernel.accessAllowed ? 'block' : 'none';\n",
       "\n",
       "      async function convertToInteractive(key) {\n",
       "        const element = document.querySelector('#df-33ebf852-b915-49b0-808b-f1acc05966bb');\n",
       "        const dataTable =\n",
       "          await google.colab.kernel.invokeFunction('convertToInteractive',\n",
       "                                                    [key], {});\n",
       "        if (!dataTable) return;\n",
       "\n",
       "        const docLinkHtml = 'Like what you see? Visit the ' +\n",
       "          '<a target=\"_blank\" href=https://colab.research.google.com/notebooks/data_table.ipynb>data table notebook</a>'\n",
       "          + ' to learn more about interactive tables.';\n",
       "        element.innerHTML = '';\n",
       "        dataTable['output_type'] = 'display_data';\n",
       "        await google.colab.output.renderOutput(dataTable, element);\n",
       "        const docLink = document.createElement('div');\n",
       "        docLink.innerHTML = docLinkHtml;\n",
       "        element.appendChild(docLink);\n",
       "      }\n",
       "    </script>\n",
       "  </div>\n",
       "\n",
       "\n",
       "    <div id=\"df-a97ab74d-de94-4f26-8c62-a890f38d703a\">\n",
       "      <button class=\"colab-df-quickchart\" onclick=\"quickchart('df-a97ab74d-de94-4f26-8c62-a890f38d703a')\"\n",
       "                title=\"Suggest charts\"\n",
       "                style=\"display:none;\">\n",
       "\n",
       "<svg xmlns=\"http://www.w3.org/2000/svg\" height=\"24px\"viewBox=\"0 0 24 24\"\n",
       "     width=\"24px\">\n",
       "    <g>\n",
       "        <path d=\"M19 3H5c-1.1 0-2 .9-2 2v14c0 1.1.9 2 2 2h14c1.1 0 2-.9 2-2V5c0-1.1-.9-2-2-2zM9 17H7v-7h2v7zm4 0h-2V7h2v10zm4 0h-2v-4h2v4z\"/>\n",
       "    </g>\n",
       "</svg>\n",
       "      </button>\n",
       "\n",
       "<style>\n",
       "  .colab-df-quickchart {\n",
       "      --bg-color: #E8F0FE;\n",
       "      --fill-color: #1967D2;\n",
       "      --hover-bg-color: #E2EBFA;\n",
       "      --hover-fill-color: #174EA6;\n",
       "      --disabled-fill-color: #AAA;\n",
       "      --disabled-bg-color: #DDD;\n",
       "  }\n",
       "\n",
       "  [theme=dark] .colab-df-quickchart {\n",
       "      --bg-color: #3B4455;\n",
       "      --fill-color: #D2E3FC;\n",
       "      --hover-bg-color: #434B5C;\n",
       "      --hover-fill-color: #FFFFFF;\n",
       "      --disabled-bg-color: #3B4455;\n",
       "      --disabled-fill-color: #666;\n",
       "  }\n",
       "\n",
       "  .colab-df-quickchart {\n",
       "    background-color: var(--bg-color);\n",
       "    border: none;\n",
       "    border-radius: 50%;\n",
       "    cursor: pointer;\n",
       "    display: none;\n",
       "    fill: var(--fill-color);\n",
       "    height: 32px;\n",
       "    padding: 0;\n",
       "    width: 32px;\n",
       "  }\n",
       "\n",
       "  .colab-df-quickchart:hover {\n",
       "    background-color: var(--hover-bg-color);\n",
       "    box-shadow: 0 1px 2px rgba(60, 64, 67, 0.3), 0 1px 3px 1px rgba(60, 64, 67, 0.15);\n",
       "    fill: var(--button-hover-fill-color);\n",
       "  }\n",
       "\n",
       "  .colab-df-quickchart-complete:disabled,\n",
       "  .colab-df-quickchart-complete:disabled:hover {\n",
       "    background-color: var(--disabled-bg-color);\n",
       "    fill: var(--disabled-fill-color);\n",
       "    box-shadow: none;\n",
       "  }\n",
       "\n",
       "  .colab-df-spinner {\n",
       "    border: 2px solid var(--fill-color);\n",
       "    border-color: transparent;\n",
       "    border-bottom-color: var(--fill-color);\n",
       "    animation:\n",
       "      spin 1s steps(1) infinite;\n",
       "  }\n",
       "\n",
       "  @keyframes spin {\n",
       "    0% {\n",
       "      border-color: transparent;\n",
       "      border-bottom-color: var(--fill-color);\n",
       "      border-left-color: var(--fill-color);\n",
       "    }\n",
       "    20% {\n",
       "      border-color: transparent;\n",
       "      border-left-color: var(--fill-color);\n",
       "      border-top-color: var(--fill-color);\n",
       "    }\n",
       "    30% {\n",
       "      border-color: transparent;\n",
       "      border-left-color: var(--fill-color);\n",
       "      border-top-color: var(--fill-color);\n",
       "      border-right-color: var(--fill-color);\n",
       "    }\n",
       "    40% {\n",
       "      border-color: transparent;\n",
       "      border-right-color: var(--fill-color);\n",
       "      border-top-color: var(--fill-color);\n",
       "    }\n",
       "    60% {\n",
       "      border-color: transparent;\n",
       "      border-right-color: var(--fill-color);\n",
       "    }\n",
       "    80% {\n",
       "      border-color: transparent;\n",
       "      border-right-color: var(--fill-color);\n",
       "      border-bottom-color: var(--fill-color);\n",
       "    }\n",
       "    90% {\n",
       "      border-color: transparent;\n",
       "      border-bottom-color: var(--fill-color);\n",
       "    }\n",
       "  }\n",
       "</style>\n",
       "\n",
       "      <script>\n",
       "        async function quickchart(key) {\n",
       "          const quickchartButtonEl =\n",
       "            document.querySelector('#' + key + ' button');\n",
       "          quickchartButtonEl.disabled = true;  // To prevent multiple clicks.\n",
       "          quickchartButtonEl.classList.add('colab-df-spinner');\n",
       "          try {\n",
       "            const charts = await google.colab.kernel.invokeFunction(\n",
       "                'suggestCharts', [key], {});\n",
       "          } catch (error) {\n",
       "            console.error('Error during call to suggestCharts:', error);\n",
       "          }\n",
       "          quickchartButtonEl.classList.remove('colab-df-spinner');\n",
       "          quickchartButtonEl.classList.add('colab-df-quickchart-complete');\n",
       "        }\n",
       "        (() => {\n",
       "          let quickchartButtonEl =\n",
       "            document.querySelector('#df-a97ab74d-de94-4f26-8c62-a890f38d703a button');\n",
       "          quickchartButtonEl.style.display =\n",
       "            google.colab.kernel.accessAllowed ? 'block' : 'none';\n",
       "        })();\n",
       "      </script>\n",
       "    </div>\n",
       "\n",
       "    </div>\n",
       "  </div>\n"
      ],
      "text/plain": [
       "      Topic   Count                                     Name  \\\n",
       "0        -1  241723             -1_liquidity_coins_bro_sorry   \n",
       "1         0    3993              0_token_tokens_supply_value   \n",
       "2         1    2185                   1_main_problem_bro_tho   \n",
       "3         2    2122           2_twitter_comment_space_social   \n",
       "4         3    2100  3_project_projects_interesting_research   \n",
       "...     ...     ...                                      ...   \n",
       "6281   6280      15         6280_listing_project_list_simple   \n",
       "6282   6281      15          6281_code_phone_number_withdraw   \n",
       "6283   6282      15                     6282_fun_details_dm_   \n",
       "6284   6283      15         6283_different_okay_wrong_people   \n",
       "6285   6284      15     6284_thought_bitcoin_members_service   \n",
       "\n",
       "                                         Representation  Representative_Docs  \n",
       "0     [liquidity, coins, bro, sorry, morning, answer...                  NaN  \n",
       "1     [token, tokens, supply, value, price, holders,...                  NaN  \n",
       "2     [main, problem, bro, tho, brother, form, solut...                  NaN  \n",
       "3     [twitter, comment, space, social, media, post,...                  NaN  \n",
       "4     [project, projects, interesting, research, mat...                  NaN  \n",
       "...                                                 ...                  ...  \n",
       "6281  [listing, project, list, simple, fine, team, a...                  NaN  \n",
       "6282  [code, phone, number, withdraw, wrong, correct...                  NaN  \n",
       "6283                   [fun, details, dm, , , , , , , ]                  NaN  \n",
       "6284  [different, okay, wrong, people, lol, sure, da...                  NaN  \n",
       "6285  [thought, bitcoin, members, service, people, d...                  NaN  \n",
       "\n",
       "[6286 rows x 5 columns]"
      ]
     },
     "execution_count": 2,
     "metadata": {},
     "output_type": "execute_result"
    }
   ],
   "source": [
    "#selected and loaded pre-trained BERTopic model from Hugging Face\n",
    "from bertopic import BERTopic\n",
    "topic_model = BERTopic.load(\"guibvieira/topic_modelling\")\n",
    "\n",
    "topic_model.get_topic_info()"
   ]
  },
  {
   "cell_type": "code",
   "execution_count": null,
   "metadata": {
    "colab": {
     "base_uri": "https://localhost:8080/"
    },
    "id": "v72V8hHB6ByU",
    "outputId": "183fb8dd-28b5-4136-a47a-04c8db55ac30"
   },
   "outputs": [
    {
     "name": "stdout",
     "output_type": "stream",
     "text": [
      "Requirement already satisfied: fsspec in /usr/local/lib/python3.11/dist-packages (2025.3.0)\n",
      "Collecting fsspec\n",
      "  Using cached fsspec-2025.5.1-py3-none-any.whl.metadata (11 kB)\n",
      "Requirement already satisfied: datasets in /usr/local/lib/python3.11/dist-packages (3.6.0)\n",
      "Requirement already satisfied: filelock in /usr/local/lib/python3.11/dist-packages (from datasets) (3.18.0)\n",
      "Requirement already satisfied: numpy>=1.17 in /usr/local/lib/python3.11/dist-packages (from datasets) (2.0.2)\n",
      "Requirement already satisfied: pyarrow>=15.0.0 in /usr/local/lib/python3.11/dist-packages (from datasets) (18.1.0)\n",
      "Requirement already satisfied: dill<0.3.9,>=0.3.0 in /usr/local/lib/python3.11/dist-packages (from datasets) (0.3.7)\n",
      "Requirement already satisfied: pandas in /usr/local/lib/python3.11/dist-packages (from datasets) (2.2.2)\n",
      "Requirement already satisfied: requests>=2.32.2 in /usr/local/lib/python3.11/dist-packages (from datasets) (2.32.4)\n",
      "Requirement already satisfied: tqdm>=4.66.3 in /usr/local/lib/python3.11/dist-packages (from datasets) (4.67.1)\n",
      "Requirement already satisfied: xxhash in /usr/local/lib/python3.11/dist-packages (from datasets) (3.5.0)\n",
      "Requirement already satisfied: multiprocess<0.70.17 in /usr/local/lib/python3.11/dist-packages (from datasets) (0.70.15)\n",
      "Requirement already satisfied: huggingface-hub>=0.24.0 in /usr/local/lib/python3.11/dist-packages (from datasets) (0.33.1)\n",
      "Requirement already satisfied: packaging in /usr/local/lib/python3.11/dist-packages (from datasets) (25.0)\n",
      "Requirement already satisfied: pyyaml>=5.1 in /usr/local/lib/python3.11/dist-packages (from datasets) (6.0.2)\n",
      "Requirement already satisfied: aiohttp!=4.0.0a0,!=4.0.0a1 in /usr/local/lib/python3.11/dist-packages (from fsspec[http]<=2025.3.0,>=2023.1.0->datasets) (3.11.15)\n",
      "Requirement already satisfied: typing-extensions>=3.7.4.3 in /usr/local/lib/python3.11/dist-packages (from huggingface-hub>=0.24.0->datasets) (4.14.0)\n",
      "Requirement already satisfied: hf-xet<2.0.0,>=1.1.2 in /usr/local/lib/python3.11/dist-packages (from huggingface-hub>=0.24.0->datasets) (1.1.5)\n",
      "Requirement already satisfied: charset_normalizer<4,>=2 in /usr/local/lib/python3.11/dist-packages (from requests>=2.32.2->datasets) (3.4.2)\n",
      "Requirement already satisfied: idna<4,>=2.5 in /usr/local/lib/python3.11/dist-packages (from requests>=2.32.2->datasets) (3.10)\n",
      "Requirement already satisfied: urllib3<3,>=1.21.1 in /usr/local/lib/python3.11/dist-packages (from requests>=2.32.2->datasets) (2.5.0)\n",
      "Requirement already satisfied: certifi>=2017.4.17 in /usr/local/lib/python3.11/dist-packages (from requests>=2.32.2->datasets) (2025.6.15)\n",
      "Requirement already satisfied: python-dateutil>=2.8.2 in /usr/local/lib/python3.11/dist-packages (from pandas->datasets) (2.9.0.post0)\n",
      "Requirement already satisfied: pytz>=2020.1 in /usr/local/lib/python3.11/dist-packages (from pandas->datasets) (2025.2)\n",
      "Requirement already satisfied: tzdata>=2022.7 in /usr/local/lib/python3.11/dist-packages (from pandas->datasets) (2025.2)\n",
      "Requirement already satisfied: aiohappyeyeballs>=2.3.0 in /usr/local/lib/python3.11/dist-packages (from aiohttp!=4.0.0a0,!=4.0.0a1->fsspec[http]<=2025.3.0,>=2023.1.0->datasets) (2.6.1)\n",
      "Requirement already satisfied: aiosignal>=1.1.2 in /usr/local/lib/python3.11/dist-packages (from aiohttp!=4.0.0a0,!=4.0.0a1->fsspec[http]<=2025.3.0,>=2023.1.0->datasets) (1.3.2)\n",
      "Requirement already satisfied: attrs>=17.3.0 in /usr/local/lib/python3.11/dist-packages (from aiohttp!=4.0.0a0,!=4.0.0a1->fsspec[http]<=2025.3.0,>=2023.1.0->datasets) (25.3.0)\n",
      "Requirement already satisfied: frozenlist>=1.1.1 in /usr/local/lib/python3.11/dist-packages (from aiohttp!=4.0.0a0,!=4.0.0a1->fsspec[http]<=2025.3.0,>=2023.1.0->datasets) (1.7.0)\n",
      "Requirement already satisfied: multidict<7.0,>=4.5 in /usr/local/lib/python3.11/dist-packages (from aiohttp!=4.0.0a0,!=4.0.0a1->fsspec[http]<=2025.3.0,>=2023.1.0->datasets) (6.4.4)\n",
      "Requirement already satisfied: propcache>=0.2.0 in /usr/local/lib/python3.11/dist-packages (from aiohttp!=4.0.0a0,!=4.0.0a1->fsspec[http]<=2025.3.0,>=2023.1.0->datasets) (0.3.2)\n",
      "Requirement already satisfied: yarl<2.0,>=1.17.0 in /usr/local/lib/python3.11/dist-packages (from aiohttp!=4.0.0a0,!=4.0.0a1->fsspec[http]<=2025.3.0,>=2023.1.0->datasets) (1.20.1)\n",
      "Requirement already satisfied: six>=1.5 in /usr/local/lib/python3.11/dist-packages (from python-dateutil>=2.8.2->pandas->datasets) (1.17.0)\n"
     ]
    }
   ],
   "source": [
    "from datasets import load_dataset\n",
    "!pip install -U fsspec datasets"
   ]
  },
  {
   "cell_type": "code",
   "execution_count": null,
   "metadata": {
    "colab": {
     "base_uri": "https://localhost:8080/"
    },
    "id": "3oNupudQ51RO",
    "outputId": "73bd4c30-f1bf-443a-8554-7281d3893860"
   },
   "outputs": [
    {
     "name": "stderr",
     "output_type": "stream",
     "text": [
      "Repo card metadata block was not found. Setting CardData to empty.\n",
      "WARNING:huggingface_hub.repocard:Repo card metadata block was not found. Setting CardData to empty.\n"
     ]
    }
   ],
   "source": [
    "ds = load_dataset('SetFit/20_newsgroups')\n",
    "import pandas as pd\n",
    "ds_train = pd.DataFrame(ds['train'])\n",
    "ds_test = pd.DataFrame(ds['test'])"
   ]
  },
  {
   "cell_type": "code",
   "execution_count": null,
   "metadata": {
    "id": "VqqGymg05ah1"
   },
   "outputs": [],
   "source": [
    "from datasets import Dataset, DatasetDict\n",
    "\n",
    "train = Dataset.from_pandas(ds_train)\n",
    "test = Dataset.from_pandas(ds_test)\n",
    "\n",
    "new_ds = DatasetDict({\n",
    "    'train': train,\n",
    "    'test': test\n",
    "})"
   ]
  },
  {
   "cell_type": "code",
   "execution_count": null,
   "metadata": {
    "colab": {
     "base_uri": "https://localhost:8080/"
    },
    "id": "kAM4JUwlsw6w",
    "outputId": "6327176d-90d1-4185-e9b0-5898ad2c35eb"
   },
   "outputs": [
    {
     "name": "stderr",
     "output_type": "stream",
     "text": [
      "[nltk_data] Downloading package stopwords to /root/nltk_data...\n",
      "[nltk_data]   Package stopwords is already up-to-date!\n"
     ]
    }
   ],
   "source": [
    "#pre-processing to improve embeddings and clustering quality in BERTopic\n",
    "#text cleaning\n",
    "import pandas as pd # Import pandas if not already imported\n",
    "from datasets import load_dataset # Import load_dataset if not already imported\n",
    "import re\n",
    "\n",
    "# Load the dataset and convert to DataFrame if not already available\n",
    "if 'ds_test' not in globals():\n",
    "    ds = load_dataset('SetFit/20_newsgroups')\n",
    "    ds_test = pd.DataFrame(ds['test'])\n",
    "\n",
    "# Define 'docs' from the 'text' column of ds_test\n",
    "docs = ds_test['text'].tolist()\n",
    "\n",
    "\n",
    "def clean_text(text):\n",
    "    text = text.lower() #lowercase\n",
    "    text = re.sub(r\"http\\S+\", \"\", text) #remove URLs\n",
    "    text = re.sub(r\"\\n|\\r\", \" \", text) #remove newlines\n",
    "    text = re.sub(r\"[^a-zA-Z\\s]\", \"\", text) #remove punctuation/symbols\n",
    "    text = re.sub(r\"\\s+\", \" \", text).strip() #remove extra spaces\n",
    "    return text\n",
    "\n",
    "docs = [clean_text(doc) for doc in docs]\n",
    "\n",
    "#pre-processing stowpword removal\n",
    "import nltk\n",
    "nltk.download('stopwords')\n",
    "from nltk.corpus import stopwords\n",
    "stop_words = set(stopwords.words('english'))\n",
    "\n",
    "def remove_stopwords(text):\n",
    "    return \" \".join([word for word in text.split() if word not in stop_words])\n",
    "\n",
    "docs = [remove_stopwords(doc) for doc in docs]\n",
    "\n",
    "#lemmatization/stemming (reduce words to root form)\n",
    "import spacy\n",
    "# Download the spacy model if not already downloaded\n",
    "try:\n",
    "    nlp = spacy.load(\"en_core_web_sm\")\n",
    "except OSError:\n",
    "    !python -m spacy download en_core_web_sm\n",
    "    nlp = spacy.load(\"en_core_web_sm\")\n",
    "\n",
    "\n",
    "def lemmatize_text(text):\n",
    "    doc = nlp(text)\n",
    "    return \" \".join([token.lemma_ for token in doc if token.lemma_ != \"-PRON-\"])\n",
    "\n",
    "docs = [lemmatize_text(doc) for doc in docs]"
   ]
  },
  {
   "cell_type": "markdown",
   "metadata": {
    "id": "BFAxTokvs2gu"
   },
   "source": [
    "Given this is a BERTopic model, transfer learning applies to the embedding model, not the topic model itself. The transfer learning will be using a pre-trained sentence transformer and fine-tuning the embedding model."
   ]
  },
  {
   "cell_type": "code",
   "execution_count": null,
   "metadata": {
    "colab": {
     "base_uri": "https://localhost:8080/",
     "height": 369,
     "referenced_widgets": [
      "7d01e85adb214387ab5ba6e5ade91093",
      "e4549d5491b444849ffe4d9679662ea7",
      "3e5c052b8ca7442e8e49336c3bffa92d",
      "9bef78cd77134c8fae0d1be564204d1a",
      "f68007ba704e4760bf91abfcb7b361e0",
      "ece944662b1d4785a5f51609dc67b24e",
      "8683ee975dff49baa22710e313c7e42d",
      "7dc52b52281248308d2a4f615a9d8f36",
      "6eec4a93a2da4440893e4b68ba23425b",
      "99e061b6c13048ab96b2a6641b97da75",
      "62a92278061748299a80ae02199264dd",
      "74b5ae43b2a24c80a5ea633183abcd8a",
      "9c0d6a698d304f1ba4b7db71d0f35766",
      "5440a24e3dce47f69ba585ab10df9ac4",
      "6629eb8d3a35465d925d8e8daebe0114",
      "d1276b822e37497d81aea4041c0bdd2d",
      "899efa7d27554e1f81abcd0cac2205a8",
      "8a978a56155a4fbbbbce24d7b1b489f5",
      "7b312c3be34f4449b1bf6e97a94ecbc4",
      "9319a2ef48e34a6688cb28defcee823f",
      "39a76737dce640e3916e97dd27421aca",
      "8b2e8b90d68d4d36b9d35421f6c6ae82",
      "55aea745bf684554b1b5aafe9903c6c6",
      "1efed53cc9774bfbaf74a46dd3600797",
      "80a79222e34b4ef7880054885861fd25",
      "344b09dbf0a24203bebe88afabf49cc8",
      "afc568ec88d34b2b9d67435cf6f7eecc",
      "186f625aad5f4d76bc19fc100e37defc",
      "042f481a31eb44b198f802e8a264ee58",
      "8088dc493a644d028935ea8b4a6a0b22",
      "afb2907453f74c79a030dcc31e1df7cd",
      "6bdabd47f607447792cb27993e7c1076",
      "adbd9fa7659049a89ea7566eed9713b5",
      "6013390da7764ce7886ebc32234b8fef",
      "2fe4f3f3ea1446069b01685693013eef",
      "85377e47e7d54f49be843e5da702d5ed",
      "b09c5405ac4a4ee2aea6e30837026d35",
      "b8ee332e4c3c44ee8ff4f0e5d5741fb5",
      "f9b2c6de33db4a1283c5769c4c688d22",
      "f88ab09b1b9449108bb07993fa2f684f",
      "ab90f036e5ac4285a869ac7287072dec",
      "b1441d6e0915421eb57a643c665b2e5e",
      "8de4808b8e76499cbd0c64872dfc90e5",
      "2f1fec144bf2466bb5b360c69f671cc1",
      "2ad8df45882a4b0abdff3362c8e21ba2",
      "1b05d02791b64d7a8e04ed1bce9cc283",
      "ffd58d2d8eab4c3bae2611f92fb24140",
      "747353e01338417f9832ccc407bd2eb3",
      "07b9e79827d44b32bfbedb927839a4fd",
      "188717bfe8834cd8971d7284a5788edc",
      "5d08dd8d9b6f4cec913534b372077670",
      "f0b3c69e3ca2463283e70c2d2cd07447",
      "7bdf15c30f3b46d28c7a546ccf924497",
      "91944466f90e4b80acecf26f5b60fe27",
      "88ea4cc56a4f4520814b2fd7a2ccd638",
      "4e936f61228d4da795a202e00ee11e91",
      "308420d7080249e391f3cfab465648f7",
      "f5f7e726f8384cb5916334141f6866b1",
      "3b7155456a73455c938cd9c798640f50",
      "0836ace63d7749f5a825923a55408fd7",
      "f98898a616d64c959f8731bdd06983d9",
      "61d6857d9e4f43d8b6e1f3687a34f52e",
      "05e0012bc86b45cdb6cef06c505d1b68",
      "61cc562913ff4dc3bb74213cdf1cc2f8",
      "d0d1f72c63b14594a648368d6b83df7b",
      "b79d7006f29c40c9b6e6eb0f322f7e35",
      "9fa6e674ba5449438b3700e18a3a35ad",
      "1d58376d710f457aa12bbcae9ca713ef",
      "c02fc31e6a5c4b848874e7866ca28477",
      "5b1e372fb6eb44ae8ba3521d8aa8903a",
      "b97b1983e5e14a4389ee34b7ff5c2a82",
      "98d633b68fcf4d58895972c3af4de1d5",
      "2e9983d19f87431e84729043ed1be228",
      "16f25eef1b4b44e8a1ec040c0d98984a",
      "29508fcd4492435baa146d952530fca3",
      "ffeb056694e2475d85e3b0ed419ed36b",
      "8698e96d4f8b45d583181a25c87eb811",
      "2912e9991fb048abbee3dcd66d44cdcf",
      "ec7cbbbbdc1d426e8e9e31db12d08a22",
      "bd5a5001840c4571b459941d3d5a68d3",
      "2cf44158dc4c4c5b83963cbbec2f5316",
      "aa32dc5b065f4aae809b3c58d65923a4",
      "7e330d300bc24311842cb6d8fed6a38a",
      "a06e4f99f9b748d4b1f741ef4339a76c",
      "82d6cf7bc089464a83ada4797d0e9ef5",
      "df5c3f58e3594d1fb55aa7d54744f920",
      "62311f198acb44e0acf1bea1575f7fc1",
      "d957a4aba7a4462981642def4b33dd1f",
      "a6e03011439a44019a1b81a936d57488",
      "5b13ab3789d44cff8d5aca6f7f2c6ebf",
      "dfbae03cbc894a3ea486bfda46683281",
      "aa7d89c0c8104c5fad563324b78c1718",
      "3048cf278e7c4f9d98365d7e4a9aae66",
      "b7a09d32a4534969bad09f3c2745460d",
      "782128a48f354c4597ef72e14434f649",
      "bb81c058e8204b06a1dd9110de45a212",
      "74f1bfd35ff1479799c86c0ca9992ebd",
      "c184c5ef80cb4090beaf52468ff521b2",
      "b5e8efa1e9dc4485ba8ab1e3d9978354",
      "1c0707ead7fe4d3c9a887ea18628367f",
      "59ae6e14aeb949cfa65826d5dfe14368",
      "f57520b680bc4ae3b3790c8af55a6ded",
      "055d958b6a0b4ada869d78b735ba7b18",
      "743d579cc1254083b59bd246e067b482",
      "05168091f3f0424982c9a8c68252c2fa",
      "f49cd173151a4502a3c23c2c2e0e3d49",
      "a8e1232ebf724a3a94f48261cf3656d8",
      "f5da3d621e334a8fa5baff74b2a41fdf",
      "19afa7e8c32b4ca095bcdea598e7c057",
      "0cc19fc2565c4bec884e37715872bb0d",
      "d60faa2ffed44b3cbf151cd12e462b02",
      "78b880a9ca1c492e9a132795f833ace1",
      "02d885700aad468589d0a3b59cfe9720",
      "eb9c37309e274e54b746ceabf8fe55fd",
      "ccc4e0480adc424ebf078989d996aaea",
      "e59028bc75f94a7fa6831283e9137c34",
      "cb3c179826464a7f93733eff60e23381",
      "25891361d7ce4660bfa92a029c00cfbc",
      "f850a7b0fd5e4c9a987058f2f91b2a20",
      "2e0edaf9e4a14bd0910006aac9fdb1f6",
      "5aaef89543e6449bb254ab11687219af"
     ]
    },
    "id": "4A6TXTuj6Yb_",
    "outputId": "98c4eddd-e608-49a2-8254-4acc2ea74914"
   },
   "outputs": [
    {
     "data": {
      "application/vnd.jupyter.widget-view+json": {
       "model_id": "7d01e85adb214387ab5ba6e5ade91093",
       "version_major": 2,
       "version_minor": 0
      },
      "text/plain": [
       "modules.json:   0%|          | 0.00/349 [00:00<?, ?B/s]"
      ]
     },
     "metadata": {},
     "output_type": "display_data"
    },
    {
     "data": {
      "application/vnd.jupyter.widget-view+json": {
       "model_id": "74b5ae43b2a24c80a5ea633183abcd8a",
       "version_major": 2,
       "version_minor": 0
      },
      "text/plain": [
       "config_sentence_transformers.json:   0%|          | 0.00/116 [00:00<?, ?B/s]"
      ]
     },
     "metadata": {},
     "output_type": "display_data"
    },
    {
     "data": {
      "application/vnd.jupyter.widget-view+json": {
       "model_id": "55aea745bf684554b1b5aafe9903c6c6",
       "version_major": 2,
       "version_minor": 0
      },
      "text/plain": [
       "README.md: 0.00B [00:00, ?B/s]"
      ]
     },
     "metadata": {},
     "output_type": "display_data"
    },
    {
     "data": {
      "application/vnd.jupyter.widget-view+json": {
       "model_id": "6013390da7764ce7886ebc32234b8fef",
       "version_major": 2,
       "version_minor": 0
      },
      "text/plain": [
       "sentence_bert_config.json:   0%|          | 0.00/53.0 [00:00<?, ?B/s]"
      ]
     },
     "metadata": {},
     "output_type": "display_data"
    },
    {
     "data": {
      "application/vnd.jupyter.widget-view+json": {
       "model_id": "2ad8df45882a4b0abdff3362c8e21ba2",
       "version_major": 2,
       "version_minor": 0
      },
      "text/plain": [
       "config.json:   0%|          | 0.00/612 [00:00<?, ?B/s]"
      ]
     },
     "metadata": {},
     "output_type": "display_data"
    },
    {
     "data": {
      "application/vnd.jupyter.widget-view+json": {
       "model_id": "4e936f61228d4da795a202e00ee11e91",
       "version_major": 2,
       "version_minor": 0
      },
      "text/plain": [
       "model.safetensors:   0%|          | 0.00/90.9M [00:00<?, ?B/s]"
      ]
     },
     "metadata": {},
     "output_type": "display_data"
    },
    {
     "data": {
      "application/vnd.jupyter.widget-view+json": {
       "model_id": "9fa6e674ba5449438b3700e18a3a35ad",
       "version_major": 2,
       "version_minor": 0
      },
      "text/plain": [
       "tokenizer_config.json:   0%|          | 0.00/350 [00:00<?, ?B/s]"
      ]
     },
     "metadata": {},
     "output_type": "display_data"
    },
    {
     "data": {
      "application/vnd.jupyter.widget-view+json": {
       "model_id": "2912e9991fb048abbee3dcd66d44cdcf",
       "version_major": 2,
       "version_minor": 0
      },
      "text/plain": [
       "vocab.txt: 0.00B [00:00, ?B/s]"
      ]
     },
     "metadata": {},
     "output_type": "display_data"
    },
    {
     "data": {
      "application/vnd.jupyter.widget-view+json": {
       "model_id": "a6e03011439a44019a1b81a936d57488",
       "version_major": 2,
       "version_minor": 0
      },
      "text/plain": [
       "tokenizer.json: 0.00B [00:00, ?B/s]"
      ]
     },
     "metadata": {},
     "output_type": "display_data"
    },
    {
     "data": {
      "application/vnd.jupyter.widget-view+json": {
       "model_id": "1c0707ead7fe4d3c9a887ea18628367f",
       "version_major": 2,
       "version_minor": 0
      },
      "text/plain": [
       "special_tokens_map.json:   0%|          | 0.00/112 [00:00<?, ?B/s]"
      ]
     },
     "metadata": {},
     "output_type": "display_data"
    },
    {
     "data": {
      "application/vnd.jupyter.widget-view+json": {
       "model_id": "d60faa2ffed44b3cbf151cd12e462b02",
       "version_major": 2,
       "version_minor": 0
      },
      "text/plain": [
       "config.json:   0%|          | 0.00/190 [00:00<?, ?B/s]"
      ]
     },
     "metadata": {},
     "output_type": "display_data"
    }
   ],
   "source": [
    "#topic model requires embedding model specified explicitly, added code to address error\n",
    "from bertopic import BERTopic\n",
    "from sentence_transformers import SentenceTransformer\n",
    "\n",
    "#load sentence transformer embedding model; note: automatically includes tokenizer 'sentence transformers' embedded in BERTopic handling internally\n",
    "embedding_model = SentenceTransformer(\"all-MiniLM-L6-v2\")\n",
    "\n",
    "#load BERTopic with pretrained topic model AND embedding model\n",
    "topic_model = BERTopic.load(\"guibvieira/topic_modelling\", embedding_model=embedding_model)"
   ]
  },
  {
   "cell_type": "code",
   "execution_count": null,
   "metadata": {
    "colab": {
     "base_uri": "https://localhost:8080/",
     "height": 66,
     "referenced_widgets": [
      "4e770bb381504ae089464cfe079afc89",
      "ffdea05164624421afb6e47c45160695",
      "75320058fb484f26b0d4fd031802fa68",
      "4b8751a46f9f489eb62f6fe960b30092",
      "e635152f17e84ac092551655c8bc3b77",
      "3d78cae15cb84583afc545ac0087b9e5",
      "b71f20eeff064ea7bf1773260d810edd",
      "29d3bd5fae534e6890791451791b35a6",
      "68ccac7b3c204762a688f9b993caa8d9",
      "8f049c076b604e589218f771a9e600e3",
      "6911650047a74cbd98516011c6d3567a"
     ]
    },
    "id": "AnyJmuVe5O8e",
    "outputId": "4bc0b047-cd44-44c1-e98d-4000590e43d7"
   },
   "outputs": [
    {
     "data": {
      "application/vnd.jupyter.widget-view+json": {
       "model_id": "4e770bb381504ae089464cfe079afc89",
       "version_major": 2,
       "version_minor": 0
      },
      "text/plain": [
       "Batches:   0%|          | 0/236 [00:00<?, ?it/s]"
      ]
     },
     "metadata": {},
     "output_type": "display_data"
    },
    {
     "name": "stderr",
     "output_type": "stream",
     "text": [
      "2025-07-01 03:35:48,408 - BERTopic - Predicting topic assignments through cosine similarity of topic and document embeddings.\n"
     ]
    }
   ],
   "source": [
    "# Convert Hugging Face test set back to pandas DataFrame\n",
    "ds_test_df = new_ds['test'].to_pandas()\n",
    "docs = ds_test_df['text'].tolist()\n",
    "\n",
    "# Run BERTopic\n",
    "topics, probs = topic_model.transform(docs)"
   ]
  },
  {
   "cell_type": "code",
   "execution_count": null,
   "metadata": {
    "colab": {
     "base_uri": "https://localhost:8080/",
     "height": 424
    },
    "id": "L5eGq0WM-PPN",
    "outputId": "641762f0-bf81-482a-b64d-42634f0c678a"
   },
   "outputs": [
    {
     "data": {
      "application/vnd.google.colaboratory.intrinsic+json": {
       "summary": "{\n  \"name\": \"topic_model\",\n  \"rows\": 6286,\n  \"fields\": [\n    {\n      \"column\": \"Topic\",\n      \"properties\": {\n        \"dtype\": \"number\",\n        \"std\": 1814,\n        \"min\": -1,\n        \"max\": 6284,\n        \"num_unique_values\": 6286,\n        \"samples\": [\n          4440,\n          3657,\n          6065\n        ],\n        \"semantic_type\": \"\",\n        \"description\": \"\"\n      }\n    },\n    {\n      \"column\": \"Count\",\n      \"properties\": {\n        \"dtype\": \"number\",\n        \"std\": 3051,\n        \"min\": 15,\n        \"max\": 241723,\n        \"num_unique_values\": 470,\n        \"samples\": [\n          828,\n          695,\n          1056\n        ],\n        \"semantic_type\": \"\",\n        \"description\": \"\"\n      }\n    },\n    {\n      \"column\": \"Name\",\n      \"properties\": {\n        \"dtype\": \"string\",\n        \"num_unique_values\": 6286,\n        \"samples\": [\n          \"4440_free_crazy_interesting_social\",\n          \"3657_issues_minutes_crypto_news\",\n          \"6065_simple_term_reward_claim\"\n        ],\n        \"semantic_type\": \"\",\n        \"description\": \"\"\n      }\n    },\n    {\n      \"column\": \"Representation\",\n      \"properties\": {\n        \"dtype\": \"object\",\n        \"semantic_type\": \"\",\n        \"description\": \"\"\n      }\n    },\n    {\n      \"column\": \"Representative_Docs\",\n      \"properties\": {\n        \"dtype\": \"number\",\n        \"std\": null,\n        \"min\": null,\n        \"max\": null,\n        \"num_unique_values\": 0,\n        \"samples\": [],\n        \"semantic_type\": \"\",\n        \"description\": \"\"\n      }\n    }\n  ]\n}",
       "type": "dataframe"
      },
      "text/html": [
       "\n",
       "  <div id=\"df-f9c708b2-1f98-4739-a436-cd3181628f71\" class=\"colab-df-container\">\n",
       "    <div>\n",
       "<style scoped>\n",
       "    .dataframe tbody tr th:only-of-type {\n",
       "        vertical-align: middle;\n",
       "    }\n",
       "\n",
       "    .dataframe tbody tr th {\n",
       "        vertical-align: top;\n",
       "    }\n",
       "\n",
       "    .dataframe thead th {\n",
       "        text-align: right;\n",
       "    }\n",
       "</style>\n",
       "<table border=\"1\" class=\"dataframe\">\n",
       "  <thead>\n",
       "    <tr style=\"text-align: right;\">\n",
       "      <th></th>\n",
       "      <th>Topic</th>\n",
       "      <th>Count</th>\n",
       "      <th>Name</th>\n",
       "      <th>Representation</th>\n",
       "      <th>Representative_Docs</th>\n",
       "    </tr>\n",
       "  </thead>\n",
       "  <tbody>\n",
       "    <tr>\n",
       "      <th>0</th>\n",
       "      <td>-1</td>\n",
       "      <td>241723</td>\n",
       "      <td>-1_liquidity_coins_bro_sorry</td>\n",
       "      <td>[liquidity, coins, bro, sorry, morning, answer...</td>\n",
       "      <td>NaN</td>\n",
       "    </tr>\n",
       "    <tr>\n",
       "      <th>1</th>\n",
       "      <td>0</td>\n",
       "      <td>3993</td>\n",
       "      <td>0_token_tokens_supply_value</td>\n",
       "      <td>[token, tokens, supply, value, price, holders,...</td>\n",
       "      <td>NaN</td>\n",
       "    </tr>\n",
       "    <tr>\n",
       "      <th>2</th>\n",
       "      <td>1</td>\n",
       "      <td>2185</td>\n",
       "      <td>1_main_problem_bro_tho</td>\n",
       "      <td>[main, problem, bro, tho, brother, form, solut...</td>\n",
       "      <td>NaN</td>\n",
       "    </tr>\n",
       "    <tr>\n",
       "      <th>3</th>\n",
       "      <td>2</td>\n",
       "      <td>2122</td>\n",
       "      <td>2_twitter_comment_space_social</td>\n",
       "      <td>[twitter, comment, space, social, media, post,...</td>\n",
       "      <td>NaN</td>\n",
       "    </tr>\n",
       "    <tr>\n",
       "      <th>4</th>\n",
       "      <td>3</td>\n",
       "      <td>2100</td>\n",
       "      <td>3_project_projects_interesting_research</td>\n",
       "      <td>[project, projects, interesting, research, mat...</td>\n",
       "      <td>NaN</td>\n",
       "    </tr>\n",
       "    <tr>\n",
       "      <th>...</th>\n",
       "      <td>...</td>\n",
       "      <td>...</td>\n",
       "      <td>...</td>\n",
       "      <td>...</td>\n",
       "      <td>...</td>\n",
       "    </tr>\n",
       "    <tr>\n",
       "      <th>6281</th>\n",
       "      <td>6280</td>\n",
       "      <td>15</td>\n",
       "      <td>6280_listing_project_list_simple</td>\n",
       "      <td>[listing, project, list, simple, fine, team, a...</td>\n",
       "      <td>NaN</td>\n",
       "    </tr>\n",
       "    <tr>\n",
       "      <th>6282</th>\n",
       "      <td>6281</td>\n",
       "      <td>15</td>\n",
       "      <td>6281_code_phone_number_withdraw</td>\n",
       "      <td>[code, phone, number, withdraw, wrong, correct...</td>\n",
       "      <td>NaN</td>\n",
       "    </tr>\n",
       "    <tr>\n",
       "      <th>6283</th>\n",
       "      <td>6282</td>\n",
       "      <td>15</td>\n",
       "      <td>6282_fun_details_dm_</td>\n",
       "      <td>[fun, details, dm, , , , , , , ]</td>\n",
       "      <td>NaN</td>\n",
       "    </tr>\n",
       "    <tr>\n",
       "      <th>6284</th>\n",
       "      <td>6283</td>\n",
       "      <td>15</td>\n",
       "      <td>6283_different_okay_wrong_people</td>\n",
       "      <td>[different, okay, wrong, people, lol, sure, da...</td>\n",
       "      <td>NaN</td>\n",
       "    </tr>\n",
       "    <tr>\n",
       "      <th>6285</th>\n",
       "      <td>6284</td>\n",
       "      <td>15</td>\n",
       "      <td>6284_thought_bitcoin_members_service</td>\n",
       "      <td>[thought, bitcoin, members, service, people, d...</td>\n",
       "      <td>NaN</td>\n",
       "    </tr>\n",
       "  </tbody>\n",
       "</table>\n",
       "<p>6286 rows × 5 columns</p>\n",
       "</div>\n",
       "    <div class=\"colab-df-buttons\">\n",
       "\n",
       "  <div class=\"colab-df-container\">\n",
       "    <button class=\"colab-df-convert\" onclick=\"convertToInteractive('df-f9c708b2-1f98-4739-a436-cd3181628f71')\"\n",
       "            title=\"Convert this dataframe to an interactive table.\"\n",
       "            style=\"display:none;\">\n",
       "\n",
       "  <svg xmlns=\"http://www.w3.org/2000/svg\" height=\"24px\" viewBox=\"0 -960 960 960\">\n",
       "    <path d=\"M120-120v-720h720v720H120Zm60-500h600v-160H180v160Zm220 220h160v-160H400v160Zm0 220h160v-160H400v160ZM180-400h160v-160H180v160Zm440 0h160v-160H620v160ZM180-180h160v-160H180v160Zm440 0h160v-160H620v160Z\"/>\n",
       "  </svg>\n",
       "    </button>\n",
       "\n",
       "  <style>\n",
       "    .colab-df-container {\n",
       "      display:flex;\n",
       "      gap: 12px;\n",
       "    }\n",
       "\n",
       "    .colab-df-convert {\n",
       "      background-color: #E8F0FE;\n",
       "      border: none;\n",
       "      border-radius: 50%;\n",
       "      cursor: pointer;\n",
       "      display: none;\n",
       "      fill: #1967D2;\n",
       "      height: 32px;\n",
       "      padding: 0 0 0 0;\n",
       "      width: 32px;\n",
       "    }\n",
       "\n",
       "    .colab-df-convert:hover {\n",
       "      background-color: #E2EBFA;\n",
       "      box-shadow: 0px 1px 2px rgba(60, 64, 67, 0.3), 0px 1px 3px 1px rgba(60, 64, 67, 0.15);\n",
       "      fill: #174EA6;\n",
       "    }\n",
       "\n",
       "    .colab-df-buttons div {\n",
       "      margin-bottom: 4px;\n",
       "    }\n",
       "\n",
       "    [theme=dark] .colab-df-convert {\n",
       "      background-color: #3B4455;\n",
       "      fill: #D2E3FC;\n",
       "    }\n",
       "\n",
       "    [theme=dark] .colab-df-convert:hover {\n",
       "      background-color: #434B5C;\n",
       "      box-shadow: 0px 1px 3px 1px rgba(0, 0, 0, 0.15);\n",
       "      filter: drop-shadow(0px 1px 2px rgba(0, 0, 0, 0.3));\n",
       "      fill: #FFFFFF;\n",
       "    }\n",
       "  </style>\n",
       "\n",
       "    <script>\n",
       "      const buttonEl =\n",
       "        document.querySelector('#df-f9c708b2-1f98-4739-a436-cd3181628f71 button.colab-df-convert');\n",
       "      buttonEl.style.display =\n",
       "        google.colab.kernel.accessAllowed ? 'block' : 'none';\n",
       "\n",
       "      async function convertToInteractive(key) {\n",
       "        const element = document.querySelector('#df-f9c708b2-1f98-4739-a436-cd3181628f71');\n",
       "        const dataTable =\n",
       "          await google.colab.kernel.invokeFunction('convertToInteractive',\n",
       "                                                    [key], {});\n",
       "        if (!dataTable) return;\n",
       "\n",
       "        const docLinkHtml = 'Like what you see? Visit the ' +\n",
       "          '<a target=\"_blank\" href=https://colab.research.google.com/notebooks/data_table.ipynb>data table notebook</a>'\n",
       "          + ' to learn more about interactive tables.';\n",
       "        element.innerHTML = '';\n",
       "        dataTable['output_type'] = 'display_data';\n",
       "        await google.colab.output.renderOutput(dataTable, element);\n",
       "        const docLink = document.createElement('div');\n",
       "        docLink.innerHTML = docLinkHtml;\n",
       "        element.appendChild(docLink);\n",
       "      }\n",
       "    </script>\n",
       "  </div>\n",
       "\n",
       "\n",
       "    <div id=\"df-6f88b692-016c-454b-bd2f-195688516ad2\">\n",
       "      <button class=\"colab-df-quickchart\" onclick=\"quickchart('df-6f88b692-016c-454b-bd2f-195688516ad2')\"\n",
       "                title=\"Suggest charts\"\n",
       "                style=\"display:none;\">\n",
       "\n",
       "<svg xmlns=\"http://www.w3.org/2000/svg\" height=\"24px\"viewBox=\"0 0 24 24\"\n",
       "     width=\"24px\">\n",
       "    <g>\n",
       "        <path d=\"M19 3H5c-1.1 0-2 .9-2 2v14c0 1.1.9 2 2 2h14c1.1 0 2-.9 2-2V5c0-1.1-.9-2-2-2zM9 17H7v-7h2v7zm4 0h-2V7h2v10zm4 0h-2v-4h2v4z\"/>\n",
       "    </g>\n",
       "</svg>\n",
       "      </button>\n",
       "\n",
       "<style>\n",
       "  .colab-df-quickchart {\n",
       "      --bg-color: #E8F0FE;\n",
       "      --fill-color: #1967D2;\n",
       "      --hover-bg-color: #E2EBFA;\n",
       "      --hover-fill-color: #174EA6;\n",
       "      --disabled-fill-color: #AAA;\n",
       "      --disabled-bg-color: #DDD;\n",
       "  }\n",
       "\n",
       "  [theme=dark] .colab-df-quickchart {\n",
       "      --bg-color: #3B4455;\n",
       "      --fill-color: #D2E3FC;\n",
       "      --hover-bg-color: #434B5C;\n",
       "      --hover-fill-color: #FFFFFF;\n",
       "      --disabled-bg-color: #3B4455;\n",
       "      --disabled-fill-color: #666;\n",
       "  }\n",
       "\n",
       "  .colab-df-quickchart {\n",
       "    background-color: var(--bg-color);\n",
       "    border: none;\n",
       "    border-radius: 50%;\n",
       "    cursor: pointer;\n",
       "    display: none;\n",
       "    fill: var(--fill-color);\n",
       "    height: 32px;\n",
       "    padding: 0;\n",
       "    width: 32px;\n",
       "  }\n",
       "\n",
       "  .colab-df-quickchart:hover {\n",
       "    background-color: var(--hover-bg-color);\n",
       "    box-shadow: 0 1px 2px rgba(60, 64, 67, 0.3), 0 1px 3px 1px rgba(60, 64, 67, 0.15);\n",
       "    fill: var(--button-hover-fill-color);\n",
       "  }\n",
       "\n",
       "  .colab-df-quickchart-complete:disabled,\n",
       "  .colab-df-quickchart-complete:disabled:hover {\n",
       "    background-color: var(--disabled-bg-color);\n",
       "    fill: var(--disabled-fill-color);\n",
       "    box-shadow: none;\n",
       "  }\n",
       "\n",
       "  .colab-df-spinner {\n",
       "    border: 2px solid var(--fill-color);\n",
       "    border-color: transparent;\n",
       "    border-bottom-color: var(--fill-color);\n",
       "    animation:\n",
       "      spin 1s steps(1) infinite;\n",
       "  }\n",
       "\n",
       "  @keyframes spin {\n",
       "    0% {\n",
       "      border-color: transparent;\n",
       "      border-bottom-color: var(--fill-color);\n",
       "      border-left-color: var(--fill-color);\n",
       "    }\n",
       "    20% {\n",
       "      border-color: transparent;\n",
       "      border-left-color: var(--fill-color);\n",
       "      border-top-color: var(--fill-color);\n",
       "    }\n",
       "    30% {\n",
       "      border-color: transparent;\n",
       "      border-left-color: var(--fill-color);\n",
       "      border-top-color: var(--fill-color);\n",
       "      border-right-color: var(--fill-color);\n",
       "    }\n",
       "    40% {\n",
       "      border-color: transparent;\n",
       "      border-right-color: var(--fill-color);\n",
       "      border-top-color: var(--fill-color);\n",
       "    }\n",
       "    60% {\n",
       "      border-color: transparent;\n",
       "      border-right-color: var(--fill-color);\n",
       "    }\n",
       "    80% {\n",
       "      border-color: transparent;\n",
       "      border-right-color: var(--fill-color);\n",
       "      border-bottom-color: var(--fill-color);\n",
       "    }\n",
       "    90% {\n",
       "      border-color: transparent;\n",
       "      border-bottom-color: var(--fill-color);\n",
       "    }\n",
       "  }\n",
       "</style>\n",
       "\n",
       "      <script>\n",
       "        async function quickchart(key) {\n",
       "          const quickchartButtonEl =\n",
       "            document.querySelector('#' + key + ' button');\n",
       "          quickchartButtonEl.disabled = true;  // To prevent multiple clicks.\n",
       "          quickchartButtonEl.classList.add('colab-df-spinner');\n",
       "          try {\n",
       "            const charts = await google.colab.kernel.invokeFunction(\n",
       "                'suggestCharts', [key], {});\n",
       "          } catch (error) {\n",
       "            console.error('Error during call to suggestCharts:', error);\n",
       "          }\n",
       "          quickchartButtonEl.classList.remove('colab-df-spinner');\n",
       "          quickchartButtonEl.classList.add('colab-df-quickchart-complete');\n",
       "        }\n",
       "        (() => {\n",
       "          let quickchartButtonEl =\n",
       "            document.querySelector('#df-6f88b692-016c-454b-bd2f-195688516ad2 button');\n",
       "          quickchartButtonEl.style.display =\n",
       "            google.colab.kernel.accessAllowed ? 'block' : 'none';\n",
       "        })();\n",
       "      </script>\n",
       "    </div>\n",
       "\n",
       "    </div>\n",
       "  </div>\n"
      ],
      "text/plain": [
       "      Topic   Count                                     Name  \\\n",
       "0        -1  241723             -1_liquidity_coins_bro_sorry   \n",
       "1         0    3993              0_token_tokens_supply_value   \n",
       "2         1    2185                   1_main_problem_bro_tho   \n",
       "3         2    2122           2_twitter_comment_space_social   \n",
       "4         3    2100  3_project_projects_interesting_research   \n",
       "...     ...     ...                                      ...   \n",
       "6281   6280      15         6280_listing_project_list_simple   \n",
       "6282   6281      15          6281_code_phone_number_withdraw   \n",
       "6283   6282      15                     6282_fun_details_dm_   \n",
       "6284   6283      15         6283_different_okay_wrong_people   \n",
       "6285   6284      15     6284_thought_bitcoin_members_service   \n",
       "\n",
       "                                         Representation  Representative_Docs  \n",
       "0     [liquidity, coins, bro, sorry, morning, answer...                  NaN  \n",
       "1     [token, tokens, supply, value, price, holders,...                  NaN  \n",
       "2     [main, problem, bro, tho, brother, form, solut...                  NaN  \n",
       "3     [twitter, comment, space, social, media, post,...                  NaN  \n",
       "4     [project, projects, interesting, research, mat...                  NaN  \n",
       "...                                                 ...                  ...  \n",
       "6281  [listing, project, list, simple, fine, team, a...                  NaN  \n",
       "6282  [code, phone, number, withdraw, wrong, correct...                  NaN  \n",
       "6283                   [fun, details, dm, , , , , , , ]                  NaN  \n",
       "6284  [different, okay, wrong, people, lol, sure, da...                  NaN  \n",
       "6285  [thought, bitcoin, members, service, people, d...                  NaN  \n",
       "\n",
       "[6286 rows x 5 columns]"
      ]
     },
     "execution_count": 29,
     "metadata": {},
     "output_type": "execute_result"
    }
   ],
   "source": [
    "# See an overview of the topics (topic IDs, counts, names)\n",
    "topic_model.get_topic_info()"
   ]
  },
  {
   "cell_type": "code",
   "execution_count": null,
   "metadata": {
    "colab": {
     "base_uri": "https://localhost:8080/"
    },
    "id": "UbzZfEXc-lpl",
    "outputId": "dddc95c8-9522-474b-d2a5-8fab35b22f76"
   },
   "outputs": [
    {
     "name": "stdout",
     "output_type": "stream",
     "text": [
      "\n",
      "Topic 0:\n",
      "[['token', 0.004001408178575309], ['tokens', 0.0029945150278735655], ['supply', 0.0008455264937135059], ['value', 0.0006919489090980801], ['price', 0.000566843502246489], ['holders', 0.0005436769527987886], ['listing', 0.0004734404445939499], ['term', 0.0004562376632669302], ['benefits', 0.0003750672722392172], ['moment', 0.0003700421193462019]]\n",
      "\n",
      "Topic 1:\n",
      "[['main', 0.007226464143878195], ['problem', 0.001421015891857106], ['bro', 0.0013290071860660487], ['tho', 0.0012461907091677457], ['brother', 0.0012082180945614982], ['form', 0.0008479626147150821], ['solution', 0.0008349817812795357], ['words', 0.0007285316380101317], ['sense', 0.0007094432671324394], ['reason', 0.0006550526772855643]]\n",
      "\n",
      "Topic 2:\n",
      "[['twitter', 0.007901630402460707], ['comment', 0.002576973305001958], ['space', 0.0021819795307875013], ['social', 0.0019043336537359773], ['media', 0.0016370816135478658], ['post', 0.00114604692352579], ['announcement', 0.000678050862015953], ['updates', 0.0006433470881594879], ['latest', 0.0006116427856376182], ['stuff', 0.0005387748332003226]]\n",
      "\n",
      "Topic 3:\n",
      "[['project', 0.007888674272911154], ['projects', 0.004452916028941012], ['interesting', 0.0014330815171098657], ['research', 0.0012969597179306792], ['mate', 0.001128263023828963], ['future', 0.0007937253063591166], ['amazing', 0.0007273641790161616], ['awesome', 0.0006998233015277026], ['kind', 0.0006701489082052165], ['opinion', 0.0006358574413213678]]\n",
      "\n",
      "Topic 4:\n",
      "[['nft', 0.012883704623436963], ['cool', 0.0007817295098357179], ['unique', 0.0007221573487309511], ['digital', 0.0006528836090129792], ['games', 0.0006278652092423605], ['game', 0.0006049377449643421], ['special', 0.0005929403349558414], ['ecosystem', 0.0005422801589282142], ['value', 0.000519809478364355], ['projects', 0.0005062695887043672]]\n",
      "\n",
      "Topic 5:\n",
      "[['coins', 0.010316536835378988], ['coin', 0.010169862818054648], ['shit', 0.0010821613798033098], ['sell', 0.0008046078438072276], ['value', 0.0005599732450111075], ['list', 0.0005437326335999968], ['price', 0.0004930757157976505], ['new', 0.00033955191106954273], ['drop', 0.00032477983439789857], ['different', 0.0002995809486677148]]\n",
      "\n",
      "Topic 6:\n",
      "[['market', 0.008866766938752067], ['situation', 0.002845998821857374], ['bad', 0.001005874731681711], ['control', 0.0010002524771046976], ['current', 0.0009724774161544114], ['looks', 0.0008030642795903207], ['bit', 0.0007793251134648769], ['moment', 0.0006930245041011786], ['better', 0.0006187448320543975], ['yesterday', 0.0005868567259528]]\n",
      "\n",
      "Topic 7:\n",
      "[['binance', 0.011498133672587849], ['option', 0.0007749968561714305], ['account', 0.0006504404713814901], ['spot', 0.0005839230167704902], ['app', 0.000520452580720653], ['address', 0.000509470887295757], ['step', 0.00048717170113133154], ['exchange', 0.0004858493646621486], ['issue', 0.0004472330718460658], ['volume', 0.00040079167933802535]]\n",
      "\n",
      "Topic 8:\n",
      "[['btc', 0.01169104781841364], ['break', 0.001207957911721262], ['short', 0.0009060539945668683], ['likely', 0.0008900588807658948], ['hit', 0.000875957669402771], ['long', 0.0008328770167448567], ['higher', 0.000741246051694287], ['position', 0.0006272303651960426], ['price', 0.0005785361705699031], ['bit', 0.000533846164451057]]\n",
      "\n",
      "Topic 9:\n",
      "[['dm', 0.0033488057464310674], ['reply', 0.0028206425408106093], ['sir', 0.0026603475544978495], ['details', 0.000951898630512587], ['okay', 0.0007870657934222], ['thanks', 0.0007713588614515746], ['answer', 0.000762355281632263], ['talk', 0.000747040671240094], ['buddy', 0.0006959599247927316], ['mate', 0.0006918660480829535]]\n",
      "\n",
      "Topic 10:\n",
      "[['rewards', 0.01173678525865538], ['reward', 0.011593661010330087], ['event', 0.0026502953584029345], ['hour', 0.0022228890697462513], ['sir', 0.0009267588209700215], ['minutes', 0.0008847473213769271], ['days', 0.0006987557145890913], ['period', 0.0005909347206380724], ['end', 0.0005882875462255343], ['business', 0.0005537184546263845]]\n",
      "\n",
      "Topic 11:\n",
      "[['hard', 0.0011504048382578935], ['massive', 0.0008860961378479054], ['little', 0.0008646976693412968], ['huge', 0.0008641940360780006], ['opinion', 0.0007830956653920208], ['yesterday', 0.0007775968709203003], ['reason', 0.0007714745384587125], ['big', 0.0006895645850926455], ['market', 0.0006785739505487796], ['crazy', 0.0006673746250824891]]\n",
      "\n",
      "Topic 12:\n",
      "[['listing', 0.002232022189732236], ['related', 0.0016107058765878928], ['exchange', 0.0012324158466458053], ['certain', 0.0012314670958592155], ['list', 0.0011025248331496703], ['guide', 0.0009599941041131273], ['feature', 0.0008620915342899638], ['announcement', 0.0008101864673698022], ['process', 0.0007611812122503748], ['news', 0.0007493856500334597]]\n",
      "\n",
      "Topic 13:\n",
      "[['wallet', 0.006190445861358365], ['address', 0.0011143742598135088], ['site', 0.0007038171314700056], ['longer', 0.0006786200097391157], ['problem', 0.0006575434645125245], ['use', 0.0006194424934861172], ['main', 0.0005908529869529475], ['features', 0.0005835693328471405], ['issue', 0.0005476274216430482], ['key', 0.0005341233409309103]]\n",
      "\n",
      "Topic 14:\n",
      "[['investors', 0.0025047641794713484], ['investing', 0.0018681320046122047], ['research', 0.0013729687548848547], ['term', 0.0011082202238963594], ['early', 0.0008062647915735715], ['bad', 0.0007505884540468555], ['investment', 0.0007007203924951536], ['long', 0.0006458099246579367], ['situation', 0.0006313695870056486], ['bit', 0.000533127115765807]]\n",
      "\n",
      "Topic 15:\n",
      "[['talk', 0.0014043838435783015], ['use', 0.001047883591676515], ['words', 0.0010274629041125136], ['chat', 0.0009020001261763663], ['reply', 0.0008743664275753213], ['bad', 0.0008197593610183455], ['sense', 0.0007003795320122804], ['group', 0.0006694296975561076], ['country', 0.0006202923097294688], ['word', 0.000515971240933407]]\n",
      "\n",
      "Topic 16:\n",
      "[['buy', 0.004540440448927134], ['selling', 0.0029265224062634105], ['late', 0.0014525528850309465], ['lol', 0.0009622827111160022], ['yesterday', 0.0009413199271510397], ['point', 0.0008127891822165387], ['hand', 0.0007684720491876931], ['guy', 0.0007364940414003107], ['shit', 0.0006347845244367727], ['little', 0.0005672762801222725]]\n",
      "\n",
      "Topic 17:\n",
      "[['crypto', 0.004541250631129614], ['space', 0.0032469839263109157], ['world', 0.000994489500677451], ['exciting', 0.0009164010894944492], ['projects', 0.0008603501385598415], ['biggest', 0.0007218902855656681], ['interesting', 0.0006710674200979845], ['project', 0.0006383191861358362], ['future', 0.0005318719554124334], ['important', 0.0005271460149391955]]\n",
      "\n",
      "Topic 18:\n",
      "[['games', 0.01253092817297961], ['game', 0.008672993124591312], ['play', 0.006784134915739204], ['fun', 0.0025998817470979135], ['kind', 0.0016601308073662373], ['interesting', 0.001190585888677487], ['projects', 0.0011490641283458348], ['awesome', 0.000912443102180633], ['multiple', 0.0008350032361666857], ['cool', 0.0006595861997455017]]\n",
      "\n",
      "Topic 19:\n",
      "[['quick', 0.010509399368688178], ['funds', 0.005575656566446], ['profits', 0.004653710849799203], ['opportunity', 0.004363528580712758], ['active', 0.003971806042591251], ['hours', 0.0033714789104470747], ['investors', 0.0029806758379158516], ['click', 0.0019491650544592681], ['withdrawal', 0.0017435780973032563], ['bitcoin', 0.0016987661956293244]]\n",
      "\n",
      "Topic 20:\n",
      "[['issue', 0.013966920210022176], ['problem', 0.013360043824707629], ['solution', 0.009678493671665869], ['fix', 0.009671126516054736], ['problems', 0.006574458451258718], ['issues', 0.005948309330842632], ['sir', 0.001278840416140104], ['similar', 0.0011168003897184641], ['specific', 0.0008966489868178725], ['form', 0.000805313779960951]]\n",
      "\n",
      "Topic 21:\n",
      "[['left', 0.0012895131257185132], ['okay', 0.0010170041648087502], ['lol', 0.0008090612535453681], ['yesterday', 0.0005765259640610273], ['man', 0.0005341403479347032], ['kind', 0.0004984321725784786], ['alot', 0.00044908774072864376], ['things', 0.000428547863823015], ['little', 0.00033089251526921776], ['problem', 0.00027190135569043545]]\n",
      "\n",
      "Topic 22:\n",
      "[['dear', 0.006600580317852679], ['safe', 0.0034577670748453695], ['friends', 0.003402878348085369], ['limited', 0.0026911007219179964], ['service', 0.002555178395559766], ['investment', 0.002329676040672097], ['best', 0.0017510353729569734], ['company', 0.001397994763800102], ['link', 0.0006652214668999808], ['huge', 3.180202580690426e-05]]\n",
      "\n",
      "Topic 23:\n",
      "[['exchange', 0.010786029730386809], ['listing', 0.0027758774924613577], ['list', 0.0023620430477766735], ['major', 0.0009946514393974523], ['volume', 0.0006175272263311411], ['situation', 0.000607051484715423], ['specific', 0.0005395666259809083], ['users', 0.00047183731061676827], ['admin', 0.00046993853443053936], ['point', 0.0004649740545823245]]\n",
      "\n",
      "Topic 24:\n",
      "[['short', 0.003455596466216054], ['chart', 0.0027307850408260633], ['break', 0.00271001580097505], ['binance', 0.0026851852066720845], ['btc', 0.0022178831373151527], ['idea', 0.0018281971941673184], ['head', 0.0018211656828966752], ['bitcoin', 0.0015656751834995132], ['long', 0.001487640166310088], ['previous', 0.0014532923148816942]]\n"
     ]
    }
   ],
   "source": [
    "#see all topic IDs (top 25) with top words in DF, sorted by count (descending)\n",
    "topic_info = topic_model.get_topic_info()\n",
    "top_topics = topic_info[topic_info['Topic'] != -1].head(25)  # Exclude outliers (-1)\n",
    "\n",
    "# Print top 25 topics with keywords\n",
    "for topic_id in top_topics['Topic']:\n",
    "    print(f\"\\nTopic {topic_id}:\")\n",
    "    print(topic_model.get_topic(topic_id))"
   ]
  },
  {
   "cell_type": "code",
   "execution_count": null,
   "metadata": {
    "colab": {
     "base_uri": "https://localhost:8080/"
    },
    "id": "vWUdsNev-_KG",
    "outputId": "3b95c4fc-0bb9-4ede-cf47-912dd3c5e4e0"
   },
   "outputs": [
    {
     "name": "stdout",
     "output_type": "stream",
     "text": [
      "                                            document  topic  probability\n",
      "0  I am a little confused on all of the models of...    666     0.322807\n",
      "1  I'm not familiar at all with the format of the...   2319     0.420362\n",
      "2                                \\nIn a word, yes.\\n   2453     0.503035\n",
      "3  \\nThey were attacking the Iraqis to drive them...   1482     0.502123\n",
      "4  \\nI've just spent two solid months arguing tha...   2543     0.560197\n"
     ]
    }
   ],
   "source": [
    "#inspect predictions (topics per document)\n",
    "import pandas as pd\n",
    "\n",
    "results_df = pd.DataFrame({\n",
    "    \"document\": docs,\n",
    "    \"topic\": topics,\n",
    "    \"probability\": probs\n",
    "})\n",
    "print(results_df.head())"
   ]
  },
  {
   "cell_type": "markdown",
   "metadata": {
    "id": "Wkbo84lSEoEj"
   },
   "source": [
    "Notes on predictions output:\n",
    "\n",
    "A higher probability (closer to 1.0) means the model is more confident in the topic assignment.\n",
    "\n",
    "A lower probability (closer to 0.0) means the document is less clearly matched to a topic.\n",
    "\n",
    "If the topic were -1, it would mean the model considers the document an outlier that doesn't fit any topic well.\n"
   ]
  },
  {
   "cell_type": "code",
   "execution_count": null,
   "metadata": {
    "colab": {
     "base_uri": "https://localhost:8080/"
    },
    "id": "trpZ5_jv_BkW",
    "outputId": "0db7443c-0dfc-481e-bd28-e0ed751f0e4d"
   },
   "outputs": [
    {
     "name": "stdout",
     "output_type": "stream",
     "text": [
      "Number of topics found: 1564\n"
     ]
    }
   ],
   "source": [
    "#how many labels (topics) predicted; unique topics (excluding -1 which means 'no topic assigned')\n",
    "unique_topics = set(topics)\n",
    "n_topics = len([t for t in unique_topics if t != -1])\n",
    "print(f\"Number of topics found: {n_topics}\")"
   ]
  },
  {
   "cell_type": "code",
   "execution_count": null,
   "metadata": {
    "colab": {
     "base_uri": "https://localhost:8080/",
     "height": 424
    },
    "id": "4hl3YxOP_SIa",
    "outputId": "c6020379-da32-4086-e943-0c2740bf7bf5"
   },
   "outputs": [
    {
     "data": {
      "application/vnd.google.colaboratory.intrinsic+json": {
       "summary": "{\n  \"name\": \"topic_model\",\n  \"rows\": 6286,\n  \"fields\": [\n    {\n      \"column\": \"Topic\",\n      \"properties\": {\n        \"dtype\": \"number\",\n        \"std\": 1814,\n        \"min\": -1,\n        \"max\": 6284,\n        \"num_unique_values\": 6286,\n        \"samples\": [\n          4440,\n          3657,\n          6065\n        ],\n        \"semantic_type\": \"\",\n        \"description\": \"\"\n      }\n    },\n    {\n      \"column\": \"Count\",\n      \"properties\": {\n        \"dtype\": \"number\",\n        \"std\": 3051,\n        \"min\": 15,\n        \"max\": 241723,\n        \"num_unique_values\": 470,\n        \"samples\": [\n          828,\n          695,\n          1056\n        ],\n        \"semantic_type\": \"\",\n        \"description\": \"\"\n      }\n    },\n    {\n      \"column\": \"Name\",\n      \"properties\": {\n        \"dtype\": \"string\",\n        \"num_unique_values\": 6286,\n        \"samples\": [\n          \"4440_free_crazy_interesting_social\",\n          \"3657_issues_minutes_crypto_news\",\n          \"6065_simple_term_reward_claim\"\n        ],\n        \"semantic_type\": \"\",\n        \"description\": \"\"\n      }\n    },\n    {\n      \"column\": \"Representation\",\n      \"properties\": {\n        \"dtype\": \"object\",\n        \"semantic_type\": \"\",\n        \"description\": \"\"\n      }\n    },\n    {\n      \"column\": \"Representative_Docs\",\n      \"properties\": {\n        \"dtype\": \"number\",\n        \"std\": null,\n        \"min\": null,\n        \"max\": null,\n        \"num_unique_values\": 0,\n        \"samples\": [],\n        \"semantic_type\": \"\",\n        \"description\": \"\"\n      }\n    }\n  ]\n}",
       "type": "dataframe"
      },
      "text/html": [
       "\n",
       "  <div id=\"df-ec3c900b-c80d-4d8e-b703-bf329874c118\" class=\"colab-df-container\">\n",
       "    <div>\n",
       "<style scoped>\n",
       "    .dataframe tbody tr th:only-of-type {\n",
       "        vertical-align: middle;\n",
       "    }\n",
       "\n",
       "    .dataframe tbody tr th {\n",
       "        vertical-align: top;\n",
       "    }\n",
       "\n",
       "    .dataframe thead th {\n",
       "        text-align: right;\n",
       "    }\n",
       "</style>\n",
       "<table border=\"1\" class=\"dataframe\">\n",
       "  <thead>\n",
       "    <tr style=\"text-align: right;\">\n",
       "      <th></th>\n",
       "      <th>Topic</th>\n",
       "      <th>Count</th>\n",
       "      <th>Name</th>\n",
       "      <th>Representation</th>\n",
       "      <th>Representative_Docs</th>\n",
       "    </tr>\n",
       "  </thead>\n",
       "  <tbody>\n",
       "    <tr>\n",
       "      <th>0</th>\n",
       "      <td>-1</td>\n",
       "      <td>241723</td>\n",
       "      <td>-1_liquidity_coins_bro_sorry</td>\n",
       "      <td>[liquidity, coins, bro, sorry, morning, answer...</td>\n",
       "      <td>NaN</td>\n",
       "    </tr>\n",
       "    <tr>\n",
       "      <th>1</th>\n",
       "      <td>0</td>\n",
       "      <td>3993</td>\n",
       "      <td>0_token_tokens_supply_value</td>\n",
       "      <td>[token, tokens, supply, value, price, holders,...</td>\n",
       "      <td>NaN</td>\n",
       "    </tr>\n",
       "    <tr>\n",
       "      <th>2</th>\n",
       "      <td>1</td>\n",
       "      <td>2185</td>\n",
       "      <td>1_main_problem_bro_tho</td>\n",
       "      <td>[main, problem, bro, tho, brother, form, solut...</td>\n",
       "      <td>NaN</td>\n",
       "    </tr>\n",
       "    <tr>\n",
       "      <th>3</th>\n",
       "      <td>2</td>\n",
       "      <td>2122</td>\n",
       "      <td>2_twitter_comment_space_social</td>\n",
       "      <td>[twitter, comment, space, social, media, post,...</td>\n",
       "      <td>NaN</td>\n",
       "    </tr>\n",
       "    <tr>\n",
       "      <th>4</th>\n",
       "      <td>3</td>\n",
       "      <td>2100</td>\n",
       "      <td>3_project_projects_interesting_research</td>\n",
       "      <td>[project, projects, interesting, research, mat...</td>\n",
       "      <td>NaN</td>\n",
       "    </tr>\n",
       "    <tr>\n",
       "      <th>...</th>\n",
       "      <td>...</td>\n",
       "      <td>...</td>\n",
       "      <td>...</td>\n",
       "      <td>...</td>\n",
       "      <td>...</td>\n",
       "    </tr>\n",
       "    <tr>\n",
       "      <th>6281</th>\n",
       "      <td>6280</td>\n",
       "      <td>15</td>\n",
       "      <td>6280_listing_project_list_simple</td>\n",
       "      <td>[listing, project, list, simple, fine, team, a...</td>\n",
       "      <td>NaN</td>\n",
       "    </tr>\n",
       "    <tr>\n",
       "      <th>6282</th>\n",
       "      <td>6281</td>\n",
       "      <td>15</td>\n",
       "      <td>6281_code_phone_number_withdraw</td>\n",
       "      <td>[code, phone, number, withdraw, wrong, correct...</td>\n",
       "      <td>NaN</td>\n",
       "    </tr>\n",
       "    <tr>\n",
       "      <th>6283</th>\n",
       "      <td>6282</td>\n",
       "      <td>15</td>\n",
       "      <td>6282_fun_details_dm_</td>\n",
       "      <td>[fun, details, dm, , , , , , , ]</td>\n",
       "      <td>NaN</td>\n",
       "    </tr>\n",
       "    <tr>\n",
       "      <th>6284</th>\n",
       "      <td>6283</td>\n",
       "      <td>15</td>\n",
       "      <td>6283_different_okay_wrong_people</td>\n",
       "      <td>[different, okay, wrong, people, lol, sure, da...</td>\n",
       "      <td>NaN</td>\n",
       "    </tr>\n",
       "    <tr>\n",
       "      <th>6285</th>\n",
       "      <td>6284</td>\n",
       "      <td>15</td>\n",
       "      <td>6284_thought_bitcoin_members_service</td>\n",
       "      <td>[thought, bitcoin, members, service, people, d...</td>\n",
       "      <td>NaN</td>\n",
       "    </tr>\n",
       "  </tbody>\n",
       "</table>\n",
       "<p>6286 rows × 5 columns</p>\n",
       "</div>\n",
       "    <div class=\"colab-df-buttons\">\n",
       "\n",
       "  <div class=\"colab-df-container\">\n",
       "    <button class=\"colab-df-convert\" onclick=\"convertToInteractive('df-ec3c900b-c80d-4d8e-b703-bf329874c118')\"\n",
       "            title=\"Convert this dataframe to an interactive table.\"\n",
       "            style=\"display:none;\">\n",
       "\n",
       "  <svg xmlns=\"http://www.w3.org/2000/svg\" height=\"24px\" viewBox=\"0 -960 960 960\">\n",
       "    <path d=\"M120-120v-720h720v720H120Zm60-500h600v-160H180v160Zm220 220h160v-160H400v160Zm0 220h160v-160H400v160ZM180-400h160v-160H180v160Zm440 0h160v-160H620v160ZM180-180h160v-160H180v160Zm440 0h160v-160H620v160Z\"/>\n",
       "  </svg>\n",
       "    </button>\n",
       "\n",
       "  <style>\n",
       "    .colab-df-container {\n",
       "      display:flex;\n",
       "      gap: 12px;\n",
       "    }\n",
       "\n",
       "    .colab-df-convert {\n",
       "      background-color: #E8F0FE;\n",
       "      border: none;\n",
       "      border-radius: 50%;\n",
       "      cursor: pointer;\n",
       "      display: none;\n",
       "      fill: #1967D2;\n",
       "      height: 32px;\n",
       "      padding: 0 0 0 0;\n",
       "      width: 32px;\n",
       "    }\n",
       "\n",
       "    .colab-df-convert:hover {\n",
       "      background-color: #E2EBFA;\n",
       "      box-shadow: 0px 1px 2px rgba(60, 64, 67, 0.3), 0px 1px 3px 1px rgba(60, 64, 67, 0.15);\n",
       "      fill: #174EA6;\n",
       "    }\n",
       "\n",
       "    .colab-df-buttons div {\n",
       "      margin-bottom: 4px;\n",
       "    }\n",
       "\n",
       "    [theme=dark] .colab-df-convert {\n",
       "      background-color: #3B4455;\n",
       "      fill: #D2E3FC;\n",
       "    }\n",
       "\n",
       "    [theme=dark] .colab-df-convert:hover {\n",
       "      background-color: #434B5C;\n",
       "      box-shadow: 0px 1px 3px 1px rgba(0, 0, 0, 0.15);\n",
       "      filter: drop-shadow(0px 1px 2px rgba(0, 0, 0, 0.3));\n",
       "      fill: #FFFFFF;\n",
       "    }\n",
       "  </style>\n",
       "\n",
       "    <script>\n",
       "      const buttonEl =\n",
       "        document.querySelector('#df-ec3c900b-c80d-4d8e-b703-bf329874c118 button.colab-df-convert');\n",
       "      buttonEl.style.display =\n",
       "        google.colab.kernel.accessAllowed ? 'block' : 'none';\n",
       "\n",
       "      async function convertToInteractive(key) {\n",
       "        const element = document.querySelector('#df-ec3c900b-c80d-4d8e-b703-bf329874c118');\n",
       "        const dataTable =\n",
       "          await google.colab.kernel.invokeFunction('convertToInteractive',\n",
       "                                                    [key], {});\n",
       "        if (!dataTable) return;\n",
       "\n",
       "        const docLinkHtml = 'Like what you see? Visit the ' +\n",
       "          '<a target=\"_blank\" href=https://colab.research.google.com/notebooks/data_table.ipynb>data table notebook</a>'\n",
       "          + ' to learn more about interactive tables.';\n",
       "        element.innerHTML = '';\n",
       "        dataTable['output_type'] = 'display_data';\n",
       "        await google.colab.output.renderOutput(dataTable, element);\n",
       "        const docLink = document.createElement('div');\n",
       "        docLink.innerHTML = docLinkHtml;\n",
       "        element.appendChild(docLink);\n",
       "      }\n",
       "    </script>\n",
       "  </div>\n",
       "\n",
       "\n",
       "    <div id=\"df-502da0d2-4d56-4e63-9fe9-dd9960d565bb\">\n",
       "      <button class=\"colab-df-quickchart\" onclick=\"quickchart('df-502da0d2-4d56-4e63-9fe9-dd9960d565bb')\"\n",
       "                title=\"Suggest charts\"\n",
       "                style=\"display:none;\">\n",
       "\n",
       "<svg xmlns=\"http://www.w3.org/2000/svg\" height=\"24px\"viewBox=\"0 0 24 24\"\n",
       "     width=\"24px\">\n",
       "    <g>\n",
       "        <path d=\"M19 3H5c-1.1 0-2 .9-2 2v14c0 1.1.9 2 2 2h14c1.1 0 2-.9 2-2V5c0-1.1-.9-2-2-2zM9 17H7v-7h2v7zm4 0h-2V7h2v10zm4 0h-2v-4h2v4z\"/>\n",
       "    </g>\n",
       "</svg>\n",
       "      </button>\n",
       "\n",
       "<style>\n",
       "  .colab-df-quickchart {\n",
       "      --bg-color: #E8F0FE;\n",
       "      --fill-color: #1967D2;\n",
       "      --hover-bg-color: #E2EBFA;\n",
       "      --hover-fill-color: #174EA6;\n",
       "      --disabled-fill-color: #AAA;\n",
       "      --disabled-bg-color: #DDD;\n",
       "  }\n",
       "\n",
       "  [theme=dark] .colab-df-quickchart {\n",
       "      --bg-color: #3B4455;\n",
       "      --fill-color: #D2E3FC;\n",
       "      --hover-bg-color: #434B5C;\n",
       "      --hover-fill-color: #FFFFFF;\n",
       "      --disabled-bg-color: #3B4455;\n",
       "      --disabled-fill-color: #666;\n",
       "  }\n",
       "\n",
       "  .colab-df-quickchart {\n",
       "    background-color: var(--bg-color);\n",
       "    border: none;\n",
       "    border-radius: 50%;\n",
       "    cursor: pointer;\n",
       "    display: none;\n",
       "    fill: var(--fill-color);\n",
       "    height: 32px;\n",
       "    padding: 0;\n",
       "    width: 32px;\n",
       "  }\n",
       "\n",
       "  .colab-df-quickchart:hover {\n",
       "    background-color: var(--hover-bg-color);\n",
       "    box-shadow: 0 1px 2px rgba(60, 64, 67, 0.3), 0 1px 3px 1px rgba(60, 64, 67, 0.15);\n",
       "    fill: var(--button-hover-fill-color);\n",
       "  }\n",
       "\n",
       "  .colab-df-quickchart-complete:disabled,\n",
       "  .colab-df-quickchart-complete:disabled:hover {\n",
       "    background-color: var(--disabled-bg-color);\n",
       "    fill: var(--disabled-fill-color);\n",
       "    box-shadow: none;\n",
       "  }\n",
       "\n",
       "  .colab-df-spinner {\n",
       "    border: 2px solid var(--fill-color);\n",
       "    border-color: transparent;\n",
       "    border-bottom-color: var(--fill-color);\n",
       "    animation:\n",
       "      spin 1s steps(1) infinite;\n",
       "  }\n",
       "\n",
       "  @keyframes spin {\n",
       "    0% {\n",
       "      border-color: transparent;\n",
       "      border-bottom-color: var(--fill-color);\n",
       "      border-left-color: var(--fill-color);\n",
       "    }\n",
       "    20% {\n",
       "      border-color: transparent;\n",
       "      border-left-color: var(--fill-color);\n",
       "      border-top-color: var(--fill-color);\n",
       "    }\n",
       "    30% {\n",
       "      border-color: transparent;\n",
       "      border-left-color: var(--fill-color);\n",
       "      border-top-color: var(--fill-color);\n",
       "      border-right-color: var(--fill-color);\n",
       "    }\n",
       "    40% {\n",
       "      border-color: transparent;\n",
       "      border-right-color: var(--fill-color);\n",
       "      border-top-color: var(--fill-color);\n",
       "    }\n",
       "    60% {\n",
       "      border-color: transparent;\n",
       "      border-right-color: var(--fill-color);\n",
       "    }\n",
       "    80% {\n",
       "      border-color: transparent;\n",
       "      border-right-color: var(--fill-color);\n",
       "      border-bottom-color: var(--fill-color);\n",
       "    }\n",
       "    90% {\n",
       "      border-color: transparent;\n",
       "      border-bottom-color: var(--fill-color);\n",
       "    }\n",
       "  }\n",
       "</style>\n",
       "\n",
       "      <script>\n",
       "        async function quickchart(key) {\n",
       "          const quickchartButtonEl =\n",
       "            document.querySelector('#' + key + ' button');\n",
       "          quickchartButtonEl.disabled = true;  // To prevent multiple clicks.\n",
       "          quickchartButtonEl.classList.add('colab-df-spinner');\n",
       "          try {\n",
       "            const charts = await google.colab.kernel.invokeFunction(\n",
       "                'suggestCharts', [key], {});\n",
       "          } catch (error) {\n",
       "            console.error('Error during call to suggestCharts:', error);\n",
       "          }\n",
       "          quickchartButtonEl.classList.remove('colab-df-spinner');\n",
       "          quickchartButtonEl.classList.add('colab-df-quickchart-complete');\n",
       "        }\n",
       "        (() => {\n",
       "          let quickchartButtonEl =\n",
       "            document.querySelector('#df-502da0d2-4d56-4e63-9fe9-dd9960d565bb button');\n",
       "          quickchartButtonEl.style.display =\n",
       "            google.colab.kernel.accessAllowed ? 'block' : 'none';\n",
       "        })();\n",
       "      </script>\n",
       "    </div>\n",
       "\n",
       "    </div>\n",
       "  </div>\n"
      ],
      "text/plain": [
       "      Topic   Count                                     Name  \\\n",
       "0        -1  241723             -1_liquidity_coins_bro_sorry   \n",
       "1         0    3993              0_token_tokens_supply_value   \n",
       "2         1    2185                   1_main_problem_bro_tho   \n",
       "3         2    2122           2_twitter_comment_space_social   \n",
       "4         3    2100  3_project_projects_interesting_research   \n",
       "...     ...     ...                                      ...   \n",
       "6281   6280      15         6280_listing_project_list_simple   \n",
       "6282   6281      15          6281_code_phone_number_withdraw   \n",
       "6283   6282      15                     6282_fun_details_dm_   \n",
       "6284   6283      15         6283_different_okay_wrong_people   \n",
       "6285   6284      15     6284_thought_bitcoin_members_service   \n",
       "\n",
       "                                         Representation  Representative_Docs  \n",
       "0     [liquidity, coins, bro, sorry, morning, answer...                  NaN  \n",
       "1     [token, tokens, supply, value, price, holders,...                  NaN  \n",
       "2     [main, problem, bro, tho, brother, form, solut...                  NaN  \n",
       "3     [twitter, comment, space, social, media, post,...                  NaN  \n",
       "4     [project, projects, interesting, research, mat...                  NaN  \n",
       "...                                                 ...                  ...  \n",
       "6281  [listing, project, list, simple, fine, team, a...                  NaN  \n",
       "6282  [code, phone, number, withdraw, wrong, correct...                  NaN  \n",
       "6283                   [fun, details, dm, , , , , , , ]                  NaN  \n",
       "6284  [different, okay, wrong, people, lol, sure, da...                  NaN  \n",
       "6285  [thought, bitcoin, members, service, people, d...                  NaN  \n",
       "\n",
       "[6286 rows x 5 columns]"
      ]
     },
     "execution_count": 33,
     "metadata": {},
     "output_type": "execute_result"
    }
   ],
   "source": [
    "#summary of all topics\n",
    "topic_model.get_topic_info()"
   ]
  },
  {
   "cell_type": "markdown",
   "metadata": {
    "id": "9iu-moKMx3SD"
   },
   "source": [
    "Apply transfer learning concepts to enhance the model, followed by evaluating and optimizing the project model and creating an LLM Model Report. (9.5)\n",
    "\n",
    "From Hugging Face transformer documentation task guide, natural language processing, selected the text classifciation to apply as it may be the best fit for transfer learning in topic modeling."
   ]
  },
  {
   "cell_type": "code",
   "execution_count": null,
   "metadata": {
    "colab": {
     "base_uri": "https://localhost:8080/"
    },
    "id": "RpMjQRlewV7G",
    "outputId": "8c47884f-2483-4fb5-b002-67fe3f969bcc"
   },
   "outputs": [
    {
     "name": "stdout",
     "output_type": "stream",
     "text": [
      "Requirement already satisfied: transformers in /usr/local/lib/python3.11/dist-packages (4.53.0)\n",
      "Requirement already satisfied: datasets in /usr/local/lib/python3.11/dist-packages (3.6.0)\n",
      "Requirement already satisfied: evaluate in /usr/local/lib/python3.11/dist-packages (0.4.4)\n",
      "Requirement already satisfied: accelerate in /usr/local/lib/python3.11/dist-packages (1.8.1)\n",
      "Requirement already satisfied: filelock in /usr/local/lib/python3.11/dist-packages (from transformers) (3.18.0)\n",
      "Requirement already satisfied: huggingface-hub<1.0,>=0.30.0 in /usr/local/lib/python3.11/dist-packages (from transformers) (0.33.1)\n",
      "Requirement already satisfied: numpy>=1.17 in /usr/local/lib/python3.11/dist-packages (from transformers) (2.0.2)\n",
      "Requirement already satisfied: packaging>=20.0 in /usr/local/lib/python3.11/dist-packages (from transformers) (25.0)\n",
      "Requirement already satisfied: pyyaml>=5.1 in /usr/local/lib/python3.11/dist-packages (from transformers) (6.0.2)\n",
      "Requirement already satisfied: regex!=2019.12.17 in /usr/local/lib/python3.11/dist-packages (from transformers) (2024.11.6)\n",
      "Requirement already satisfied: requests in /usr/local/lib/python3.11/dist-packages (from transformers) (2.32.4)\n",
      "Requirement already satisfied: tokenizers<0.22,>=0.21 in /usr/local/lib/python3.11/dist-packages (from transformers) (0.21.2)\n",
      "Requirement already satisfied: safetensors>=0.4.3 in /usr/local/lib/python3.11/dist-packages (from transformers) (0.5.3)\n",
      "Requirement already satisfied: tqdm>=4.27 in /usr/local/lib/python3.11/dist-packages (from transformers) (4.67.1)\n",
      "Requirement already satisfied: pyarrow>=15.0.0 in /usr/local/lib/python3.11/dist-packages (from datasets) (18.1.0)\n",
      "Requirement already satisfied: dill<0.3.9,>=0.3.0 in /usr/local/lib/python3.11/dist-packages (from datasets) (0.3.7)\n",
      "Requirement already satisfied: pandas in /usr/local/lib/python3.11/dist-packages (from datasets) (2.2.2)\n",
      "Requirement already satisfied: xxhash in /usr/local/lib/python3.11/dist-packages (from datasets) (3.5.0)\n",
      "Requirement already satisfied: multiprocess<0.70.17 in /usr/local/lib/python3.11/dist-packages (from datasets) (0.70.15)\n",
      "Requirement already satisfied: fsspec<=2025.3.0,>=2023.1.0 in /usr/local/lib/python3.11/dist-packages (from fsspec[http]<=2025.3.0,>=2023.1.0->datasets) (2025.3.0)\n",
      "Requirement already satisfied: psutil in /usr/local/lib/python3.11/dist-packages (from accelerate) (5.9.5)\n",
      "Requirement already satisfied: torch>=2.0.0 in /usr/local/lib/python3.11/dist-packages (from accelerate) (2.6.0+cu124)\n",
      "Requirement already satisfied: aiohttp!=4.0.0a0,!=4.0.0a1 in /usr/local/lib/python3.11/dist-packages (from fsspec[http]<=2025.3.0,>=2023.1.0->datasets) (3.11.15)\n",
      "Requirement already satisfied: typing-extensions>=3.7.4.3 in /usr/local/lib/python3.11/dist-packages (from huggingface-hub<1.0,>=0.30.0->transformers) (4.14.0)\n",
      "Requirement already satisfied: hf-xet<2.0.0,>=1.1.2 in /usr/local/lib/python3.11/dist-packages (from huggingface-hub<1.0,>=0.30.0->transformers) (1.1.5)\n",
      "Requirement already satisfied: charset_normalizer<4,>=2 in /usr/local/lib/python3.11/dist-packages (from requests->transformers) (3.4.2)\n",
      "Requirement already satisfied: idna<4,>=2.5 in /usr/local/lib/python3.11/dist-packages (from requests->transformers) (3.10)\n",
      "Requirement already satisfied: urllib3<3,>=1.21.1 in /usr/local/lib/python3.11/dist-packages (from requests->transformers) (2.5.0)\n",
      "Requirement already satisfied: certifi>=2017.4.17 in /usr/local/lib/python3.11/dist-packages (from requests->transformers) (2025.6.15)\n",
      "Requirement already satisfied: networkx in /usr/local/lib/python3.11/dist-packages (from torch>=2.0.0->accelerate) (3.5)\n",
      "Requirement already satisfied: jinja2 in /usr/local/lib/python3.11/dist-packages (from torch>=2.0.0->accelerate) (3.1.6)\n",
      "Requirement already satisfied: nvidia-cuda-nvrtc-cu12==12.4.127 in /usr/local/lib/python3.11/dist-packages (from torch>=2.0.0->accelerate) (12.4.127)\n",
      "Requirement already satisfied: nvidia-cuda-runtime-cu12==12.4.127 in /usr/local/lib/python3.11/dist-packages (from torch>=2.0.0->accelerate) (12.4.127)\n",
      "Requirement already satisfied: nvidia-cuda-cupti-cu12==12.4.127 in /usr/local/lib/python3.11/dist-packages (from torch>=2.0.0->accelerate) (12.4.127)\n",
      "Requirement already satisfied: nvidia-cudnn-cu12==9.1.0.70 in /usr/local/lib/python3.11/dist-packages (from torch>=2.0.0->accelerate) (9.1.0.70)\n",
      "Requirement already satisfied: nvidia-cublas-cu12==12.4.5.8 in /usr/local/lib/python3.11/dist-packages (from torch>=2.0.0->accelerate) (12.4.5.8)\n",
      "Requirement already satisfied: nvidia-cufft-cu12==11.2.1.3 in /usr/local/lib/python3.11/dist-packages (from torch>=2.0.0->accelerate) (11.2.1.3)\n",
      "Requirement already satisfied: nvidia-curand-cu12==10.3.5.147 in /usr/local/lib/python3.11/dist-packages (from torch>=2.0.0->accelerate) (10.3.5.147)\n",
      "Requirement already satisfied: nvidia-cusolver-cu12==11.6.1.9 in /usr/local/lib/python3.11/dist-packages (from torch>=2.0.0->accelerate) (11.6.1.9)\n",
      "Requirement already satisfied: nvidia-cusparse-cu12==12.3.1.170 in /usr/local/lib/python3.11/dist-packages (from torch>=2.0.0->accelerate) (12.3.1.170)\n",
      "Requirement already satisfied: nvidia-cusparselt-cu12==0.6.2 in /usr/local/lib/python3.11/dist-packages (from torch>=2.0.0->accelerate) (0.6.2)\n",
      "Requirement already satisfied: nvidia-nccl-cu12==2.21.5 in /usr/local/lib/python3.11/dist-packages (from torch>=2.0.0->accelerate) (2.21.5)\n",
      "Requirement already satisfied: nvidia-nvtx-cu12==12.4.127 in /usr/local/lib/python3.11/dist-packages (from torch>=2.0.0->accelerate) (12.4.127)\n",
      "Requirement already satisfied: nvidia-nvjitlink-cu12==12.4.127 in /usr/local/lib/python3.11/dist-packages (from torch>=2.0.0->accelerate) (12.4.127)\n",
      "Requirement already satisfied: triton==3.2.0 in /usr/local/lib/python3.11/dist-packages (from torch>=2.0.0->accelerate) (3.2.0)\n",
      "Requirement already satisfied: sympy==1.13.1 in /usr/local/lib/python3.11/dist-packages (from torch>=2.0.0->accelerate) (1.13.1)\n",
      "Requirement already satisfied: mpmath<1.4,>=1.1.0 in /usr/local/lib/python3.11/dist-packages (from sympy==1.13.1->torch>=2.0.0->accelerate) (1.3.0)\n",
      "Requirement already satisfied: python-dateutil>=2.8.2 in /usr/local/lib/python3.11/dist-packages (from pandas->datasets) (2.9.0.post0)\n",
      "Requirement already satisfied: pytz>=2020.1 in /usr/local/lib/python3.11/dist-packages (from pandas->datasets) (2025.2)\n",
      "Requirement already satisfied: tzdata>=2022.7 in /usr/local/lib/python3.11/dist-packages (from pandas->datasets) (2025.2)\n",
      "Requirement already satisfied: aiohappyeyeballs>=2.3.0 in /usr/local/lib/python3.11/dist-packages (from aiohttp!=4.0.0a0,!=4.0.0a1->fsspec[http]<=2025.3.0,>=2023.1.0->datasets) (2.6.1)\n",
      "Requirement already satisfied: aiosignal>=1.1.2 in /usr/local/lib/python3.11/dist-packages (from aiohttp!=4.0.0a0,!=4.0.0a1->fsspec[http]<=2025.3.0,>=2023.1.0->datasets) (1.3.2)\n",
      "Requirement already satisfied: attrs>=17.3.0 in /usr/local/lib/python3.11/dist-packages (from aiohttp!=4.0.0a0,!=4.0.0a1->fsspec[http]<=2025.3.0,>=2023.1.0->datasets) (25.3.0)\n",
      "Requirement already satisfied: frozenlist>=1.1.1 in /usr/local/lib/python3.11/dist-packages (from aiohttp!=4.0.0a0,!=4.0.0a1->fsspec[http]<=2025.3.0,>=2023.1.0->datasets) (1.7.0)\n",
      "Requirement already satisfied: multidict<7.0,>=4.5 in /usr/local/lib/python3.11/dist-packages (from aiohttp!=4.0.0a0,!=4.0.0a1->fsspec[http]<=2025.3.0,>=2023.1.0->datasets) (6.4.4)\n",
      "Requirement already satisfied: propcache>=0.2.0 in /usr/local/lib/python3.11/dist-packages (from aiohttp!=4.0.0a0,!=4.0.0a1->fsspec[http]<=2025.3.0,>=2023.1.0->datasets) (0.3.2)\n",
      "Requirement already satisfied: yarl<2.0,>=1.17.0 in /usr/local/lib/python3.11/dist-packages (from aiohttp!=4.0.0a0,!=4.0.0a1->fsspec[http]<=2025.3.0,>=2023.1.0->datasets) (1.20.1)\n",
      "Requirement already satisfied: six>=1.5 in /usr/local/lib/python3.11/dist-packages (from python-dateutil>=2.8.2->pandas->datasets) (1.17.0)\n",
      "Requirement already satisfied: MarkupSafe>=2.0 in /usr/local/lib/python3.11/dist-packages (from jinja2->torch>=2.0.0->accelerate) (3.0.2)\n"
     ]
    }
   ],
   "source": [
    "#text classfication - load necessary libraries from Hugging face\n",
    "!pip install transformers datasets evaluate accelerate"
   ]
  },
  {
   "cell_type": "code",
   "execution_count": null,
   "metadata": {
    "colab": {
     "base_uri": "https://localhost:8080/"
    },
    "id": "JG72FizrwV4b",
    "outputId": "69c281ec-922d-4326-fdc0-5853e9cc3376"
   },
   "outputs": [
    {
     "name": "stderr",
     "output_type": "stream",
     "text": [
      "Repo card metadata block was not found. Setting CardData to empty.\n",
      "WARNING:huggingface_hub.repocard:Repo card metadata block was not found. Setting CardData to empty.\n"
     ]
    }
   ],
   "source": [
    "#load data set\n",
    "from datasets import load_dataset\n",
    "ds = load_dataset('SetFit/20_newsgroups')"
   ]
  },
  {
   "cell_type": "code",
   "execution_count": null,
   "metadata": {
    "colab": {
     "base_uri": "https://localhost:8080/"
    },
    "id": "fmWttYZTwV1Z",
    "outputId": "be50ae31-2a16-4e2d-9580-734227a9f1c8"
   },
   "outputs": [
    {
     "name": "stdout",
     "output_type": "stream",
     "text": [
      "{'text': 'I am a little confused on all of the models of the 88-89 bonnevilles.\\nI have heard of the LE SE LSE SSE SSEI. Could someone tell me the\\ndifferences are far as features or performance. I am also curious to\\nknow what the book value is for prefereably the 89 model. And how much\\nless than book value can you usually get them for. In other words how\\nmuch are they in demand this time of year. I have heard that the mid-spring\\nearly summer is the best time to buy.', 'label': 7, 'label_text': 'rec.autos'}\n"
     ]
    }
   ],
   "source": [
    "print(ds[\"test\"][0])"
   ]
  },
  {
   "cell_type": "code",
   "execution_count": null,
   "metadata": {
    "colab": {
     "base_uri": "https://localhost:8080/",
     "height": 145,
     "referenced_widgets": [
      "2c54419bf42c444dbebc0fcbd122dab2",
      "29d4bd85906a48d99cf0d33c2ebd4e18",
      "a39eb28e2005488cb0cf5a19ab9058ee",
      "cdc8734a955746ea97585d2ebf399989",
      "2e3f59dbb01c46aa9f887bb6081907fd",
      "8312b11cf1fc44858d5a3d28172a3147",
      "aecebe2ee48f44ca841420b738345418",
      "23370fd458334f4da3837cbaaa5a3c4a",
      "9bec90d3565d49b589a28be8ee8c1347",
      "24a520e9baed431a8a7b58c9d060338e",
      "2b6b0db06b6a4b489d1e0b3b70760762",
      "9d9fbb4ace3b4fa5a69bca729672d257",
      "dd90d46d9eeb41d0a10eb63b952b60c9",
      "d9f41ea211bf4528a0818058d958cb1f",
      "9642faf69c424fc7a1121e4d4daa161e",
      "5b395224db0f41c6b3cfaf674e8dcdfe",
      "88d818f0782c47d78adefd6b9911cb69",
      "e7224ce8069a494fa202120923396d49",
      "c2c04d63c21b4c439c28e6b3df3bc16e",
      "31848b1c53b643289ebbd6894fdb8309",
      "48871ae0681c4e65bb24d90adf1f39aa",
      "44d5b55d94eb4e978cbf867477d5f2da",
      "87890a52ae9c493d999deca5c4248f85",
      "d13a883399b7450a914cf5bdbe6d9679",
      "41787bc628bc41f2a372be6b4468c9c0",
      "f8366c3435a94ccba3841436deb5c2dd",
      "94445dc3f80942679709ba2211cf0ceb",
      "be01f798e5da46e1a562c554c313f38d",
      "33b87e46dd7b4b3391e5d56d998d143b",
      "48102fe181f04e5b9a1c01bc11ade185",
      "f58f45b2dee1464b99417d555ceead1e",
      "eeba1639e57d477388a2113bf00b9e15",
      "0b32495594c94af6a05fadaea714e663",
      "a636deeaf2dd4c2092fcc876d836a02e",
      "dba37e56e20944fc9313e3b48f27fd87",
      "a53e3dcdc71847919a45447ccadb5ea8",
      "00d3a5de42bb472492e6fd876c4d090b",
      "1b60292f0c75494c985027fa4b174882",
      "f1416e26d4074ca1b5d8b943fc851e53",
      "f4208643726f4655a8780d58238a3874",
      "3adb441c24d54cb39f2cc5a716f384c7",
      "d7484fb72ed84d2cb748a6034bc58b99",
      "a3aa17437a9947f8b3cd832f1e095b5a",
      "8c77702f90254c948f828724d0571fda"
     ]
    },
    "id": "urMmeKyHwVtn",
    "outputId": "b9ee607a-39dd-4d8d-8fef-5356793f3848"
   },
   "outputs": [
    {
     "data": {
      "application/vnd.jupyter.widget-view+json": {
       "model_id": "2c54419bf42c444dbebc0fcbd122dab2",
       "version_major": 2,
       "version_minor": 0
      },
      "text/plain": [
       "tokenizer_config.json:   0%|          | 0.00/48.0 [00:00<?, ?B/s]"
      ]
     },
     "metadata": {},
     "output_type": "display_data"
    },
    {
     "data": {
      "application/vnd.jupyter.widget-view+json": {
       "model_id": "9d9fbb4ace3b4fa5a69bca729672d257",
       "version_major": 2,
       "version_minor": 0
      },
      "text/plain": [
       "config.json:   0%|          | 0.00/483 [00:00<?, ?B/s]"
      ]
     },
     "metadata": {},
     "output_type": "display_data"
    },
    {
     "data": {
      "application/vnd.jupyter.widget-view+json": {
       "model_id": "87890a52ae9c493d999deca5c4248f85",
       "version_major": 2,
       "version_minor": 0
      },
      "text/plain": [
       "vocab.txt: 0.00B [00:00, ?B/s]"
      ]
     },
     "metadata": {},
     "output_type": "display_data"
    },
    {
     "data": {
      "application/vnd.jupyter.widget-view+json": {
       "model_id": "a636deeaf2dd4c2092fcc876d836a02e",
       "version_major": 2,
       "version_minor": 0
      },
      "text/plain": [
       "tokenizer.json: 0.00B [00:00, ?B/s]"
      ]
     },
     "metadata": {},
     "output_type": "display_data"
    }
   ],
   "source": [
    "#preprocess load DistilBERT tokenizer to prepcess text field\n",
    "from transformers import AutoTokenizer\n",
    "\n",
    "tokenizer = AutoTokenizer.from_pretrained(\"distilbert/distilbert-base-uncased\")"
   ]
  },
  {
   "cell_type": "code",
   "execution_count": null,
   "metadata": {
    "colab": {
     "base_uri": "https://localhost:8080/",
     "height": 81,
     "referenced_widgets": [
      "36170338f97d4b2e8fd6f35ef47719ea",
      "8e9b21553a8d4355a1efac28b1fcf264",
      "50adbfcc3aa340f390f0d53bfaa4c080",
      "0881d55be0e2465f97ab81715a371113",
      "958d5fa56142409ebc5b142d78b04023",
      "8adef37216e7414cbcc5327f0a302d41",
      "5b427422ce5c4a43b26aa7f58653b4e9",
      "fcaac40a841643e1906011cd73f89088",
      "6e78af4308cc4df6b0e53260847eaab6",
      "e1943e632c404048b98d0723ff767c0c",
      "67db2eab781049c98a63139fe89a3a38",
      "25d207c8833d4bf68e47813bcafa348f",
      "9c6213cdc4444107b82a2cb38c4cec98",
      "b94f8dc8b72f43078e1bd827cbdac80e",
      "b5a16e4ba07f41f8829e22501992958c",
      "b810a90df621442ea8fcd97f16cc9687",
      "3d61ccd9a3f64e14b42cef54a7b3e51b",
      "e680c684580b44a892cf53e87bfeeb0f",
      "0cb2213c5067433fa15a225773b5a631",
      "7270a8ebb8a54fdc9fb244645cdc779c",
      "3cee05eaa9d944fd9735222e2ad06fe7",
      "fd8ce8657ed44d369d1e5d66474f44cd"
     ]
    },
    "id": "tLYZ5dSG0mzJ",
    "outputId": "f94007ec-3101-4718-84d9-97cc92c20cef"
   },
   "outputs": [
    {
     "data": {
      "application/vnd.jupyter.widget-view+json": {
       "model_id": "36170338f97d4b2e8fd6f35ef47719ea",
       "version_major": 2,
       "version_minor": 0
      },
      "text/plain": [
       "Map:   0%|          | 0/11314 [00:00<?, ? examples/s]"
      ]
     },
     "metadata": {},
     "output_type": "display_data"
    },
    {
     "data": {
      "application/vnd.jupyter.widget-view+json": {
       "model_id": "25d207c8833d4bf68e47813bcafa348f",
       "version_major": 2,
       "version_minor": 0
      },
      "text/plain": [
       "Map:   0%|          | 0/7532 [00:00<?, ? examples/s]"
      ]
     },
     "metadata": {},
     "output_type": "display_data"
    }
   ],
   "source": [
    "#create preprocessing function to tokenize text and truncate sequences to no longer than DistilBERT's max input length\n",
    "# Define preprocessing function\n",
    "def preprocess_function(examples):\n",
    "    return tokenizer(examples[\"text\"], truncation=True, padding=True)\n",
    "\n",
    "# Tokenize all splits\n",
    "tokenized_ds = ds.map(preprocess_function, batched=True)"
   ]
  },
  {
   "cell_type": "code",
   "execution_count": null,
   "metadata": {
    "id": "MmsX1zabA8-b"
   },
   "outputs": [],
   "source": [
    "train_ds = tokenized_ds[\"train\"]\n",
    "eval_ds = tokenized_ds[\"test\"]"
   ]
  },
  {
   "cell_type": "code",
   "execution_count": null,
   "metadata": {
    "id": "KQCCcvaR05gh"
   },
   "outputs": [],
   "source": [
    "#create batch examples with DataCollatorWithPadding\n",
    "#Pytorch\n",
    "from transformers import DataCollatorWithPadding\n",
    "data_collator = DataCollatorWithPadding(tokenizer=tokenizer, return_tensors=\"pt\")\n"
   ]
  },
  {
   "cell_type": "code",
   "execution_count": null,
   "metadata": {
    "colab": {
     "base_uri": "https://localhost:8080/",
     "height": 49,
     "referenced_widgets": [
      "a56461efb8ad4671912baa6a7bd526ad",
      "bf78898055504f318e8732fdf7bc53e1",
      "6115272158b246e682b6722eaa270936",
      "4c8569a2598a4299bc18a9b917bb0eb4",
      "27d65633419647c1a1bacea068c13627",
      "745a32d3043c465f860d5b9f5c63a16c",
      "022e59fd2e0d494f962b202a24cbcee3",
      "d78c2d6defcc45ba879a96a3dad6ab1b",
      "78028e627fa948f1bcc0185a5d56acf7",
      "f7b9e5a8f00542219704b68e4d724be8",
      "f67a0dcd187244c0a5d6846967b77df1"
     ]
    },
    "id": "14hpZKhX05dt",
    "outputId": "4c58e5fe-b28c-450e-9977-b1f025a9e7a9"
   },
   "outputs": [
    {
     "data": {
      "application/vnd.jupyter.widget-view+json": {
       "model_id": "a56461efb8ad4671912baa6a7bd526ad",
       "version_major": 2,
       "version_minor": 0
      },
      "text/plain": [
       "Downloading builder script: 0.00B [00:00, ?B/s]"
      ]
     },
     "metadata": {},
     "output_type": "display_data"
    }
   ],
   "source": [
    "#Evaluate model performance\n",
    "import evaluate\n",
    "accuracy = evaluate.load(\"accuracy\")"
   ]
  },
  {
   "cell_type": "code",
   "execution_count": null,
   "metadata": {
    "id": "07B189k005bB"
   },
   "outputs": [],
   "source": [
    "#function to pass predictions and labels to compute calculate accuracy\n",
    "import numpy as np\n",
    "from evaluate import load  #Hugging Face's metric loading\n",
    "\n",
    "accuracy = load(\"accuracy\")\n",
    "\n",
    "def compute_metrics(eval_pred):\n",
    "    predictions, labels = eval_pred\n",
    "    predictions = np.argmax(predictions, axis=1)\n",
    "    return accuracy.compute(predictions=predictions, references=labels)"
   ]
  },
  {
   "cell_type": "code",
   "execution_count": null,
   "metadata": {
    "colab": {
     "base_uri": "https://localhost:8080/"
    },
    "id": "QDZSGCyE--yB",
    "outputId": "6bccf239-67f3-4159-8161-9f567b2f9588"
   },
   "outputs": [
    {
     "name": "stdout",
     "output_type": "stream",
     "text": [
      "{0, 1, 2, 3, 4, 5, 6, 7, 8, 9, 10, 11, 12, 13, 14, 15, 16, 17, 18, 19}\n"
     ]
    }
   ],
   "source": [
    "#check dataset labels\n",
    "print(set(ds[\"train\"][\"label\"]))"
   ]
  },
  {
   "cell_type": "code",
   "execution_count": null,
   "metadata": {
    "id": "algQ9b1e_Hyj"
   },
   "outputs": [],
   "source": [
    "#before training, map expected ids to labels\n",
    "#manually define label names\n",
    "label_names = [\n",
    "    'alt.atheism',\n",
    "    'comp.graphics',\n",
    "    'comp.os.ms-windows.misc',\n",
    "    'comp.sys.ibm.pc.hardware',\n",
    "    'comp.sys.mac.hardware',\n",
    "    'comp.windows.x',\n",
    "    'misc.forsale',\n",
    "    'rec.autos',\n",
    "    'rec.motorcycles',\n",
    "    'rec.sport.baseball',\n",
    "    'rec.sport.hockey',\n",
    "    'sci.crypt',\n",
    "    'sci.electronics',\n",
    "    'sci.med',\n",
    "    'sci.space',\n",
    "    'soc.religion.christian',\n",
    "    'talk.politics.guns',\n",
    "    'talk.politics.mideast',\n",
    "    'talk.politics.misc',\n",
    "    'talk.religion.misc'\n",
    "]\n",
    "\n",
    "# Create mappings\n",
    "id2label = {i: label for i, label in enumerate(label_names)}\n",
    "label2id = {label: i for i, label in enumerate(label_names)}"
   ]
  },
  {
   "cell_type": "code",
   "execution_count": null,
   "metadata": {
    "colab": {
     "base_uri": "https://localhost:8080/",
     "height": 104,
     "referenced_widgets": [
      "8b112fd132124095a561ab2ee14fd1d5",
      "892be64645a7414bb26ad1e6ec64c620",
      "a7657837ada34b1a849f5053687bce10",
      "bdae8a7d27a84d0286e7004883050cb8",
      "4b7cb8077b784ea1bbf919de72c1094b",
      "3784d86d6f234a1d8f84b262f497e31d",
      "81703d2cbf09413babb3411305462c16",
      "25f21d0049094b81b6cea4d9ddb6f7e6",
      "5e26f15323fe4066a2560b7e188a4de6",
      "1e8d7c1cc0f448e8b09acfee07ea1435",
      "ae2223ec3be0416b9c1fc5d175f4419c"
     ]
    },
    "id": "G92KmDPf1l4F",
    "outputId": "e6fede5f-1d69-4ade-aab8-70d8aced60ee"
   },
   "outputs": [
    {
     "data": {
      "application/vnd.jupyter.widget-view+json": {
       "model_id": "8b112fd132124095a561ab2ee14fd1d5",
       "version_major": 2,
       "version_minor": 0
      },
      "text/plain": [
       "model.safetensors:   0%|          | 0.00/268M [00:00<?, ?B/s]"
      ]
     },
     "metadata": {},
     "output_type": "display_data"
    },
    {
     "name": "stderr",
     "output_type": "stream",
     "text": [
      "Some weights of DistilBertForSequenceClassification were not initialized from the model checkpoint at distilbert/distilbert-base-uncased and are newly initialized: ['classifier.bias', 'classifier.weight', 'pre_classifier.bias', 'pre_classifier.weight']\n",
      "You should probably TRAIN this model on a down-stream task to be able to use it for predictions and inference.\n"
     ]
    }
   ],
   "source": [
    "#train model, load DistilBert\n",
    "from transformers import AutoModelForSequenceClassification, TrainingArguments, Trainer\n",
    "model = AutoModelForSequenceClassification.from_pretrained(\n",
    "    \"distilbert/distilbert-base-uncased\",\n",
    "    num_labels=len(label_names),\n",
    "    id2label=id2label,\n",
    "    label2id=label2id\n",
    ")"
   ]
  },
  {
   "cell_type": "code",
   "execution_count": null,
   "metadata": {
    "colab": {
     "base_uri": "https://localhost:8080/",
     "height": 145,
     "referenced_widgets": [
      "335d239f1bda4d8e8a3e04d52b6ee3bd",
      "61a41755e3c5448fbad60ef3d9b302dc",
      "71e2f909446a475e8dee56db7a5427b5",
      "286dd2323a1940118b8dc72d2e7be96c",
      "91cbe0b2351e44319118489c1e0117b0",
      "1b779692e1be4b499d54fe341d8aac41",
      "f80177fd43854c689869b17debb7c035",
      "1cf1b24323a545f08fa48e0e09ba4e64",
      "091f4a92d3b74c98aa58029caffd841b",
      "a6af60d97fb04035894ac187ef4ea363",
      "bc0898a8180540c78f74c2c82f73094f",
      "b6eafc06ad9d4ffd9e85cb333508258b",
      "3d9a92b59c234a3898f581ea802aae07",
      "a4d9103edacd4be2abc327d2ee86bb5f",
      "b378c5f1f7114e83938abceb8cc5ca6b",
      "ec435094480243d0b9a22e43f1f0353a",
      "744a422c94c84c8fa4cc852ff868102c",
      "20ba7475bf8b4428a707cdbde0d61192",
      "65a91f15e45847ecba7784c939044a29",
      "c5bc2b34f494481387eaf027e5a554e6",
      "dbf8eed7567449b2ad9f67c4ce38215c",
      "3e7fdd7b9a0e4ecb87e536fc4a5aab0f",
      "a218ebcf5ddc4b389ed896e169292da5",
      "a7afa28fdf8f45d2aa3734b6500fb27a",
      "838738a9283f45e3bf7bc37bbf768628",
      "93eea5fee4184e67ac18c41d8cfffd29",
      "b7968990f17e4e0a8045a2e228d148e8",
      "f97a457aa8f74dc8b6fae5405b1eec09",
      "03e487048d004001a9d78d57209698b5",
      "0df3cbb3f3644694b7244d7332d15fb8",
      "7016766a460f43478ccbc9da8b89b650",
      "a11fad59a54945bf8782150c364f81e0",
      "5e2a11bada494a4c85c21773bb26f19b",
      "6cd0c888b29749588f939bfda66e57aa",
      "2c42aec35fd6452aa827a971ffc9bb22",
      "bfeed14373894424992a7d5d9dd25829",
      "566a5f6765eb4db2be9d3be3a1e71241",
      "d77d1b12625b4704a91bd7334845639d",
      "0a60781568714b09be8f34a0f43b83e2",
      "d68916d088e64d33b334a423fc83b913",
      "e7ed1749e4d2407e86c16076382c3bea",
      "3d91a378dbf74cf58fbc7dd1e4927fc9",
      "d5104897865346edbb1de63cb4810a42",
      "03e345190787410abbb95882bfb26811"
     ]
    },
    "id": "oSDROKaxCeN8",
    "outputId": "98a30762-d12f-4b28-bd20-baf62d4158ed"
   },
   "outputs": [
    {
     "data": {
      "application/vnd.jupyter.widget-view+json": {
       "model_id": "335d239f1bda4d8e8a3e04d52b6ee3bd",
       "version_major": 2,
       "version_minor": 0
      },
      "text/plain": [
       "Downloading builder script: 0.00B [00:00, ?B/s]"
      ]
     },
     "metadata": {},
     "output_type": "display_data"
    },
    {
     "data": {
      "application/vnd.jupyter.widget-view+json": {
       "model_id": "b6eafc06ad9d4ffd9e85cb333508258b",
       "version_major": 2,
       "version_minor": 0
      },
      "text/plain": [
       "Downloading builder script: 0.00B [00:00, ?B/s]"
      ]
     },
     "metadata": {},
     "output_type": "display_data"
    },
    {
     "data": {
      "application/vnd.jupyter.widget-view+json": {
       "model_id": "a218ebcf5ddc4b389ed896e169292da5",
       "version_major": 2,
       "version_minor": 0
      },
      "text/plain": [
       "Downloading builder script: 0.00B [00:00, ?B/s]"
      ]
     },
     "metadata": {},
     "output_type": "display_data"
    },
    {
     "data": {
      "application/vnd.jupyter.widget-view+json": {
       "model_id": "6cd0c888b29749588f939bfda66e57aa",
       "version_major": 2,
       "version_minor": 0
      },
      "text/plain": [
       "Downloading builder script: 0.00B [00:00, ?B/s]"
      ]
     },
     "metadata": {},
     "output_type": "display_data"
    }
   ],
   "source": [
    "#define training hyperparameters in TrainingArguments, choose appropriate metric for model to calculate metrics during training, pass training arguments to Trainer, call train() to finetune model;F1 will determine best model at end\n",
    "#metrics selected: accuracy overall percentage of correctly classified documents and Macro F1 Score to determine mean of precision/recall per class and averaged\n",
    "import numpy as np\n",
    "from evaluate import load\n",
    "\n",
    "# Load all required metrics\n",
    "accuracy = load(\"accuracy\")\n",
    "f1 = load(\"f1\")\n",
    "precision = load(\"precision\")\n",
    "recall = load(\"recall\")\n",
    "roc_auc = load(\"roc_auc\")  # AUC for multi-class classification\n",
    "\n",
    "def compute_metrics(eval_pred):\n",
    "    logits, labels = eval_pred\n",
    "    preds = np.argmax(logits, axis=1)\n",
    "\n",
    "    return {\n",
    "        \"accuracy\": accuracy.compute(predictions=preds, references=labels)[\"accuracy\"],\n",
    "        \"f1_macro\": f1.compute(predictions=preds, references=labels, average=\"macro\")[\"f1\"],\n",
    "        \"precision\": precision.compute(predictions=preds, references=labels, average=\"macro\")[\"precision\"],\n",
    "        \"recall\": recall.compute(predictions=preds, references=labels, average=\"macro\")[\"recall\"],\n",
    "        \"roc_auc_ovr\": roc_auc.compute(prediction_scores=logits, references=labels, average=\"macro\", multi_class=\"ovr\")[\"roc_auc\"]\n",
    "    }"
   ]
  },
  {
   "cell_type": "code",
   "execution_count": null,
   "metadata": {
    "id": "-NiEYs2T7B_9"
   },
   "outputs": [],
   "source": [
    "training_args = TrainingArguments(\n",
    "    output_dir=\"newsgroups_model\",             #checkpoints & model are saved\n",
    "    learning_rate=2e-5,\n",
    "    per_device_train_batch_size=16,\n",
    "    per_device_eval_batch_size=16,\n",
    "    num_train_epochs=1,\n",
    "    push_to_hub=False,\n",
    "    save_strategy=\"steps\",             # save checkpoints every N steps\n",
    "    save_steps=25,\n",
    "    save_total_limit=3,                # keep last 3 checkpoints to save disk space\n",
    ")"
   ]
  },
  {
   "cell_type": "code",
   "execution_count": null,
   "metadata": {
    "id": "-qIiUg3O1luw"
   },
   "outputs": [],
   "source": [
    "trainer = Trainer(\n",
    "    model=model,\n",
    "    args=training_args,\n",
    "    train_dataset=train_ds,\n",
    "    eval_dataset=eval_ds,\n",
    "    tokenizer=tokenizer,\n",
    "    compute_metrics=compute_metrics,\n",
    ")"
   ]
  },
  {
   "cell_type": "code",
   "execution_count": null,
   "metadata": {
    "id": "fxqDwSr165Sn"
   },
   "outputs": [],
   "source": [
    "trainer.train()"
   ]
  },
  {
   "cell_type": "code",
   "execution_count": 7,
   "metadata": {
    "colab": {
     "base_uri": "https://localhost:8080/",
     "height": 211
    },
    "id": "ZTUEjyAWG89a",
    "outputId": "b683b9d6-aa73-4a67-973a-dbe3a961c88f"
   },
   "outputs": [
    {
     "ename": "FileNotFoundError",
     "evalue": "[Errno 2] No such file or directory: 'Project_4_3_pre-trained_model.ipynb'",
     "output_type": "error",
     "traceback": [
      "\u001b[0;31m---------------------------------------------------------------------------\u001b[0m",
      "\u001b[0;31mFileNotFoundError\u001b[0m                         Traceback (most recent call last)",
      "\u001b[0;32m/tmp/ipython-input-7-3738528714.py\u001b[0m in \u001b[0;36m<cell line: 0>\u001b[0;34m()\u001b[0m\n\u001b[1;32m      5\u001b[0m \u001b[0;34m\u001b[0m\u001b[0m\n\u001b[1;32m      6\u001b[0m \u001b[0;31m# Load the notebook\u001b[0m\u001b[0;34m\u001b[0m\u001b[0;34m\u001b[0m\u001b[0m\n\u001b[0;32m----> 7\u001b[0;31m \u001b[0;32mwith\u001b[0m \u001b[0mopen\u001b[0m\u001b[0;34m(\u001b[0m\u001b[0minput_path\u001b[0m\u001b[0;34m,\u001b[0m \u001b[0;34m'r'\u001b[0m\u001b[0;34m,\u001b[0m \u001b[0mencoding\u001b[0m\u001b[0;34m=\u001b[0m\u001b[0;34m'utf-8'\u001b[0m\u001b[0;34m)\u001b[0m \u001b[0;32mas\u001b[0m \u001b[0mf\u001b[0m\u001b[0;34m:\u001b[0m\u001b[0;34m\u001b[0m\u001b[0;34m\u001b[0m\u001b[0m\n\u001b[0m\u001b[1;32m      8\u001b[0m     \u001b[0mnb\u001b[0m \u001b[0;34m=\u001b[0m \u001b[0mnbformat\u001b[0m\u001b[0;34m.\u001b[0m\u001b[0mread\u001b[0m\u001b[0;34m(\u001b[0m\u001b[0mf\u001b[0m\u001b[0;34m,\u001b[0m \u001b[0mas_version\u001b[0m\u001b[0;34m=\u001b[0m\u001b[0;36m4\u001b[0m\u001b[0;34m)\u001b[0m\u001b[0;34m\u001b[0m\u001b[0;34m\u001b[0m\u001b[0m\n\u001b[1;32m      9\u001b[0m \u001b[0;34m\u001b[0m\u001b[0m\n",
      "\u001b[0;31mFileNotFoundError\u001b[0m: [Errno 2] No such file or directory: 'Project_4_3_pre-trained_model.ipynb'"
     ]
    }
   ],
   "source": [
    "import nbformat\n",
    "\n",
    "input_path = \"Project_4_3_pre-trained_model.ipynb\"\n",
    "output_path = \"Project_4_3_pre-trained_model_cleaned.ipynb\"\n",
    "\n",
    "# Load the notebook\n",
    "with open(input_path, 'r', encoding='utf-8') as f:\n",
    "    nb = nbformat.read(f, as_version=4)\n",
    "\n",
    "# Clear notebook-level metadata\n",
    "nb.metadata = {}\n",
    "\n",
    "# Clean each cell\n",
    "for cell in nb.cells:\n",
    "    cell.outputs = []\n",
    "    cell.execution_count = None\n",
    "    cell.metadata = {}\n",
    "\n",
    "# Save cleaned notebook\n",
    "with open(output_path, 'w', encoding='utf-8') as f:\n",
    "    nbformat.write(nb, f)\n",
    "\n",
    "print(f\"Cleaned notebook saved to {output_path}\")"
   ]
  },
  {
   "cell_type": "code",
   "execution_count": 3,
   "metadata": {
    "colab": {
     "base_uri": "https://localhost:8080/"
    },
    "id": "AMZULzUgHSZp",
    "outputId": "164c0dd0-ad76-4e21-dcff-4bcb7cdb36f4"
   },
   "outputs": [
    {
     "data": {
      "text/plain": [
       "['.config', 'sample_data']"
      ]
     },
     "execution_count": 3,
     "metadata": {},
     "output_type": "execute_result"
    }
   ],
   "source": [
    "import os\n",
    "os.listdir()"
   ]
  }
 ],
 "metadata": {
  "colab": {
   "provenance": []
  },
  "kernelspec": {
   "display_name": "Python 3",
   "name": "python3"
  },
  "language_info": {
   "name": "python"
  }
 },
 "nbformat": 4,
 "nbformat_minor": 0
}
